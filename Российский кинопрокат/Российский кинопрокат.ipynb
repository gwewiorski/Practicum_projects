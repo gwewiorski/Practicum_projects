{
 "cells": [
  {
   "cell_type": "markdown",
   "id": "fc904c89-dbfa-441c-8563-651d20183b09",
   "metadata": {},
   "source": [
    "## Исследование данных о российском кинопрокате"
   ]
  },
  {
   "cell_type": "code",
   "execution_count": null,
   "id": "a05d05ec-e851-4002-b36b-a252b7bbc9c7",
   "metadata": {},
   "outputs": [],
   "source": [
    "Цель исследования - изучить рынок российского кинопроката, выявить текущие тренды. Отдельно проанализировать фильмы, которые получили государственную поддержку.\n",
    "\n",
    "План:\n",
    "1. Открыть фаилы с данными и объединить их в общий датасет.\n",
    "2. Провести предобработку данных:\n",
    "    - Проверить типы данных\n",
    "    - Изучить пропуски в датафрейме\n",
    "    - Проверьте, есть ли в данных дубликаты\n",
    "    - Изучить столбцы, которые содержат категориальные \\ количественные значения\n",
    "    - При необходимости добавить новые столбцы\n",
    "3. Провести исследовательский анализ данных:\n",
    "    - Выяснить сколько фильмов выходило каждый год\n",
    "    - Изучить как менялась динамика проката по годам\n",
    "    - Посчитать медиану и среднее арифметическое сборов для каждого года\n",
    "    - Определить, влияет ли возрастное ограничение аудитории («6+», «12+», «16+», «18+» и т. д.) на сборы фильма в   прокате в период с 2015 по 2019 год?\n",
    "    - Исследовать фильмы, которые получили государственную поддержку\n",
    "4. Написать общий вывод. "
   ]
  },
  {
   "cell_type": "markdown",
   "id": "4fe1252e-8456-451b-bac8-11dede57421d",
   "metadata": {},
   "source": [
    "### Шаг 1. Откройте файлы с данными и объедините их в один датафрейм. "
   ]
  },
  {
   "cell_type": "code",
   "execution_count": 6,
   "id": "24bbdcd0-8460-4907-82e3-fa4ad48fd1c1",
   "metadata": {},
   "outputs": [],
   "source": [
    "import pandas as pd\n",
    "import matplotlib.pyplot as plt"
   ]
  },
  {
   "cell_type": "code",
   "execution_count": null,
   "id": "68a760a0-c3de-4d3a-a394-1e312d955e5e",
   "metadata": {},
   "outputs": [],
   "source": [
    "data = pd.read_csv('/datasets/mkrf_movies.csv')\n",
    "box_office = pd.read_csv('/datasets/mkrf_shows.csv')"
   ]
  },
  {
   "cell_type": "code",
   "execution_count": null,
   "id": "ee1760ca-6692-4042-b826-000c27866f8b",
   "metadata": {},
   "outputs": [],
   "source": [
    "data.head(3)"
   ]
  }
 ],
 "metadata": {
  "kernelspec": {
   "display_name": "Python 3 (ipykernel)",
   "language": "python",
   "name": "python3"
  },
  "language_info": {
   "codemirror_mode": {
    "name": "ipython",
    "version": 3
   },
   "file_extension": ".py",
   "mimetype": "text/x-python",
   "name": "python",
   "nbconvert_exporter": "python",
   "pygments_lexer": "ipython3",
   "version": "3.12.4"
  }
 },
 "nbformat": 4,
 "nbformat_minor": 5
}
