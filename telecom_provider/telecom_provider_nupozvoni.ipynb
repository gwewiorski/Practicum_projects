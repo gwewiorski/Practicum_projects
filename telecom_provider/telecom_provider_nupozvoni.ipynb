{
 "cells": [
  {
   "cell_type": "markdown",
   "id": "b37c8b8f-2151-48c0-8ee1-a2f50236de54",
   "metadata": {},
   "source": [
    "# Выпускной проект: удержание клиентов путем оптимизации тарифных планов"
   ]
  },
  {
   "cell_type": "markdown",
   "id": "57de84bd-03b3-4fee-bc68-a328060b6c15",
   "metadata": {},
   "source": [
    "Задача:\n",
    "\n",
    "Телеком-провайдер «Нупозвони» ищет аналитиков! Мы хотим помочь колл-центрам найти неэффективных операторов, а также предложить им самые выгодные тарифы. \n",
    "\n",
    "План:\n",
    "1. Загрузить данные:\n",
    "   - Открыть csv фаилы с данными и сохранить их в двух датафреймах\n",
    "   - Вывести первые строки каждого набора данных. Изучить общую информацию о датафрейме.\n",
    "2. Провести предобработку данных:\n",
    "   - Проверить наличие дупликатов\n",
    "   - Проверить данные на пропуски\n",
    "   - Обработать пропуски при необходимости:\n",
    "     - Объяснить, почему заполнили пропуски определённым образом или почему не стали этого делать;\n",
    "     - Описать причины, которые могли привести к пропускам;\n",
    "   - Объеденим обе таблицы по столбцу user_id\n",
    "   - Изменить типы данных некоторых столбцов\n",
    "   - Проверить есть ли в датасете даты обслуживания клиентов, которые старше дат заключения с ними договоров\n",
    "   - Добавить столбец с месячной абонентской платой\n",
    "   - Написать промежуточный вывод\n",
    "3. Провести исследовательский анализ данных:\n",
    "   - Вычислить границы анализируемого периода\n",
    "   - Построим график распределения количества звонков по датам\n",
    "   - Проанализировать соотношение входящих и исходящих звонков\n",
    "   - Посчитать количество пропущенных звонков   \n",
    "   - Проанализировать общее количество звонков\n",
    "   - Проанализировать общую длительность звонков\n",
    "   - Проанализировать количество исходящих звонков по месяцам\n",
    "   - Проанализировать общую продолжительность исходящих звонков по месяцам\n",
    "   - Построить графики распределения абонентов по тарифным планам\n",
    "   - Разделить клиентов на активных и неактивных\n",
    "   - Построить график распределение активных клиентов по тарифным планам помесячно\n",
    "4. Сделать следующие расчеты:\n",
    "   - Посчитать количество операторов для каждого клиента помесячно\n",
    "   - Посчитать расходы на исходящие звонки внутри сети\n",
    "   - Посчитать суммарные расходы клиентов на исходящие звонки вне сети\n",
    "   - Посчитать суммарные расходы по каждому тарифу в разрезе пользователей помесячно\n",
    "   - Посчитать общую возможную экономию для клиентов за 4 месяца\n",
    "   - Посчитать среднемесячную потенциальную экономию для клиентов\n",
    "   - Подготовить список: идентификатор клиента; старый тарифный план; новый тарифный план\n",
    "   - Построить графики с распределением пользователей по текущим тарифам и оптимальным\n",
    "5. Проверим гипотезы\n",
    "   - Стоимость услуг на тарифных планах A и B одинаковая\n",
    "   - Время ожидания ответа на тарифных планах B и C одинаковое\n",
    "6. Написать общий вывод"
   ]
  },
  {
   "cell_type": "markdown",
   "id": "f9d03243-72f1-401e-a3de-ae37105ad9ef",
   "metadata": {},
   "source": [
    "## 1 Загрузка данных"
   ]
  },
  {
   "cell_type": "code",
   "execution_count": 4,
   "id": "851e0de5-e7ff-4edf-bb39-21ce666c67b7",
   "metadata": {},
   "outputs": [],
   "source": [
    "# Добавим необходимые библиотеки\n",
    "import pandas as pd\n",
    "import math\n",
    "import numpy as np\n",
    "import seaborn as sns\n",
    "import matplotlib.pyplot as plt\n",
    "from scipy import stats\n",
    "\n",
    "# Настройки отображения\n",
    "pd.set_option('display.max_rows', None)\n",
    "pd.set_option('display.max_columns', None)"
   ]
  },
  {
   "cell_type": "code",
   "execution_count": 5,
   "id": "ac4be2fc-ce4a-4ffd-9ce3-eac4f4ced0f3",
   "metadata": {},
   "outputs": [],
   "source": [
    "# Загружаем данные\n",
    "dataset = pd.read_csv('/music/Practicum_projects/telecom_provider/datasets/telecom_dataset.csv')\n",
    "clients = pd.read_csv('/music/Practicum_projects/telecom_provider/datasets/telecom_clients.csv')"
   ]
  },
  {
   "cell_type": "code",
   "execution_count": 6,
   "id": "904e3c0b-b464-44f8-9f74-e3e9442fdc92",
   "metadata": {},
   "outputs": [
    {
     "data": {
      "text/html": [
       "<div>\n",
       "<style scoped>\n",
       "    .dataframe tbody tr th:only-of-type {\n",
       "        vertical-align: middle;\n",
       "    }\n",
       "\n",
       "    .dataframe tbody tr th {\n",
       "        vertical-align: top;\n",
       "    }\n",
       "\n",
       "    .dataframe thead th {\n",
       "        text-align: right;\n",
       "    }\n",
       "</style>\n",
       "<table border=\"1\" class=\"dataframe\">\n",
       "  <thead>\n",
       "    <tr style=\"text-align: right;\">\n",
       "      <th></th>\n",
       "      <th>user_id</th>\n",
       "      <th>date</th>\n",
       "      <th>direction</th>\n",
       "      <th>internal</th>\n",
       "      <th>operator_id</th>\n",
       "      <th>is_missed_call</th>\n",
       "      <th>calls_count</th>\n",
       "      <th>call_duration</th>\n",
       "      <th>total_call_duration</th>\n",
       "    </tr>\n",
       "  </thead>\n",
       "  <tbody>\n",
       "    <tr>\n",
       "      <th>0</th>\n",
       "      <td>166377</td>\n",
       "      <td>2019-08-04 00:00:00+03:00</td>\n",
       "      <td>in</td>\n",
       "      <td>False</td>\n",
       "      <td>NaN</td>\n",
       "      <td>True</td>\n",
       "      <td>2</td>\n",
       "      <td>0</td>\n",
       "      <td>4</td>\n",
       "    </tr>\n",
       "    <tr>\n",
       "      <th>1</th>\n",
       "      <td>166377</td>\n",
       "      <td>2019-08-05 00:00:00+03:00</td>\n",
       "      <td>out</td>\n",
       "      <td>True</td>\n",
       "      <td>880022.0</td>\n",
       "      <td>True</td>\n",
       "      <td>3</td>\n",
       "      <td>0</td>\n",
       "      <td>5</td>\n",
       "    </tr>\n",
       "    <tr>\n",
       "      <th>2</th>\n",
       "      <td>166377</td>\n",
       "      <td>2019-08-05 00:00:00+03:00</td>\n",
       "      <td>out</td>\n",
       "      <td>True</td>\n",
       "      <td>880020.0</td>\n",
       "      <td>True</td>\n",
       "      <td>1</td>\n",
       "      <td>0</td>\n",
       "      <td>1</td>\n",
       "    </tr>\n",
       "  </tbody>\n",
       "</table>\n",
       "</div>"
      ],
      "text/plain": [
       "   user_id                       date direction internal  operator_id  \\\n",
       "0   166377  2019-08-04 00:00:00+03:00        in    False          NaN   \n",
       "1   166377  2019-08-05 00:00:00+03:00       out     True     880022.0   \n",
       "2   166377  2019-08-05 00:00:00+03:00       out     True     880020.0   \n",
       "\n",
       "   is_missed_call  calls_count  call_duration  total_call_duration  \n",
       "0            True            2              0                    4  \n",
       "1            True            3              0                    5  \n",
       "2            True            1              0                    1  "
      ]
     },
     "execution_count": 6,
     "metadata": {},
     "output_type": "execute_result"
    }
   ],
   "source": [
    "# Выведем первые три строки\n",
    "dataset.head(3)"
   ]
  },
  {
   "cell_type": "code",
   "execution_count": 7,
   "id": "85e26ecc-1599-4ea2-94fc-efd71b371cd0",
   "metadata": {},
   "outputs": [
    {
     "name": "stdout",
     "output_type": "stream",
     "text": [
      "<class 'pandas.core.frame.DataFrame'>\n",
      "RangeIndex: 53902 entries, 0 to 53901\n",
      "Data columns (total 9 columns):\n",
      " #   Column               Non-Null Count  Dtype  \n",
      "---  ------               --------------  -----  \n",
      " 0   user_id              53902 non-null  int64  \n",
      " 1   date                 53902 non-null  object \n",
      " 2   direction            53902 non-null  object \n",
      " 3   internal             53785 non-null  object \n",
      " 4   operator_id          45730 non-null  float64\n",
      " 5   is_missed_call       53902 non-null  bool   \n",
      " 6   calls_count          53902 non-null  int64  \n",
      " 7   call_duration        53902 non-null  int64  \n",
      " 8   total_call_duration  53902 non-null  int64  \n",
      "dtypes: bool(1), float64(1), int64(4), object(3)\n",
      "memory usage: 3.3+ MB\n"
     ]
    }
   ],
   "source": [
    "# Изучим общую информацию первого датасета\n",
    "dataset.info()"
   ]
  },
  {
   "cell_type": "code",
   "execution_count": 8,
   "id": "c42572ad-87ef-4a61-ad3e-f226aa852f7c",
   "metadata": {},
   "outputs": [
    {
     "data": {
      "text/html": [
       "<div>\n",
       "<style scoped>\n",
       "    .dataframe tbody tr th:only-of-type {\n",
       "        vertical-align: middle;\n",
       "    }\n",
       "\n",
       "    .dataframe tbody tr th {\n",
       "        vertical-align: top;\n",
       "    }\n",
       "\n",
       "    .dataframe thead th {\n",
       "        text-align: right;\n",
       "    }\n",
       "</style>\n",
       "<table border=\"1\" class=\"dataframe\">\n",
       "  <thead>\n",
       "    <tr style=\"text-align: right;\">\n",
       "      <th></th>\n",
       "      <th>user_id</th>\n",
       "      <th>tariff_plan</th>\n",
       "      <th>date_start</th>\n",
       "    </tr>\n",
       "  </thead>\n",
       "  <tbody>\n",
       "    <tr>\n",
       "      <th>0</th>\n",
       "      <td>166713</td>\n",
       "      <td>A</td>\n",
       "      <td>2019-08-15</td>\n",
       "    </tr>\n",
       "    <tr>\n",
       "      <th>1</th>\n",
       "      <td>166901</td>\n",
       "      <td>A</td>\n",
       "      <td>2019-08-23</td>\n",
       "    </tr>\n",
       "    <tr>\n",
       "      <th>2</th>\n",
       "      <td>168527</td>\n",
       "      <td>A</td>\n",
       "      <td>2019-10-29</td>\n",
       "    </tr>\n",
       "  </tbody>\n",
       "</table>\n",
       "</div>"
      ],
      "text/plain": [
       "   user_id tariff_plan  date_start\n",
       "0   166713           A  2019-08-15\n",
       "1   166901           A  2019-08-23\n",
       "2   168527           A  2019-10-29"
      ]
     },
     "execution_count": 8,
     "metadata": {},
     "output_type": "execute_result"
    }
   ],
   "source": [
    "# Выведем первые три строки второго датасета\n",
    "clients.head(3)"
   ]
  },
  {
   "cell_type": "code",
   "execution_count": 9,
   "id": "7f96def7-eaf6-4942-bc8a-f59e90e25c1e",
   "metadata": {},
   "outputs": [
    {
     "name": "stdout",
     "output_type": "stream",
     "text": [
      "<class 'pandas.core.frame.DataFrame'>\n",
      "RangeIndex: 732 entries, 0 to 731\n",
      "Data columns (total 3 columns):\n",
      " #   Column       Non-Null Count  Dtype \n",
      "---  ------       --------------  ----- \n",
      " 0   user_id      732 non-null    int64 \n",
      " 1   tariff_plan  732 non-null    object\n",
      " 2   date_start   732 non-null    object\n",
      "dtypes: int64(1), object(2)\n",
      "memory usage: 17.3+ KB\n"
     ]
    }
   ],
   "source": [
    "# Изучим общую информацию второго датасета\n",
    "clients.info()"
   ]
  },
  {
   "cell_type": "markdown",
   "id": "f6a1a811-6e14-4a4d-9ac3-a883f70a876f",
   "metadata": {},
   "source": [
    "Мы загрузили данные из фаилов. В первом датасете есть пропуски. Названия столбцов редактировать не нужно. В некоторых столбцах нужно преобразовать данные в нужный тип."
   ]
  },
  {
   "cell_type": "markdown",
   "id": "6a25ede5-7444-4c66-a156-7b71f19dee2a",
   "metadata": {},
   "source": [
    "## 2 Предобработка данных"
   ]
  },
  {
   "cell_type": "markdown",
   "id": "18c2f6d0-7b85-4203-94a5-5b910982f815",
   "metadata": {},
   "source": [
    "### Проверим наличие дупликатов"
   ]
  },
  {
   "cell_type": "code",
   "execution_count": 13,
   "id": "cb57abfd-8711-4a19-8261-eeda2f1e9dff",
   "metadata": {},
   "outputs": [
    {
     "data": {
      "text/plain": [
       "4900"
      ]
     },
     "execution_count": 13,
     "metadata": {},
     "output_type": "execute_result"
    }
   ],
   "source": [
    "# Проверим наличие явных дупликатов\n",
    "dataset.duplicated().sum()"
   ]
  },
  {
   "cell_type": "markdown",
   "id": "58175120-f6d3-4b71-a713-c78e1a9c3483",
   "metadata": {},
   "source": [
    "Имеется 4,900(9%) явных дупликатов. Удалим их."
   ]
  },
  {
   "cell_type": "code",
   "execution_count": 15,
   "id": "25547b26-bf54-41b0-b56f-d20fdbd77c4f",
   "metadata": {},
   "outputs": [],
   "source": [
    "# Удаляем явные дупликаты\n",
    "dataset = dataset.drop_duplicates().reset_index().drop('index', axis = 1)"
   ]
  },
  {
   "cell_type": "code",
   "execution_count": 16,
   "id": "6ae18684-68db-40c1-8eb4-168faae90e46",
   "metadata": {},
   "outputs": [
    {
     "data": {
      "text/plain": [
       "0"
      ]
     },
     "execution_count": 16,
     "metadata": {},
     "output_type": "execute_result"
    }
   ],
   "source": [
    "# Проверим наличие явных дупликатов во втором датасете\n",
    "clients.duplicated().sum()"
   ]
  },
  {
   "cell_type": "markdown",
   "id": "5e7dd51f-d1f0-4ece-8e1a-6a2317acc12d",
   "metadata": {},
   "source": [
    "### Проверим наличие пропусков"
   ]
  },
  {
   "cell_type": "code",
   "execution_count": 18,
   "id": "e93a73ae-c92c-42ce-a7cc-024f37f17acc",
   "metadata": {},
   "outputs": [
    {
     "data": {
      "text/plain": [
       "user_id                   0\n",
       "date                      0\n",
       "direction                 0\n",
       "internal                110\n",
       "operator_id            7456\n",
       "is_missed_call            0\n",
       "calls_count               0\n",
       "call_duration             0\n",
       "total_call_duration       0\n",
       "dtype: int64"
      ]
     },
     "execution_count": 18,
     "metadata": {},
     "output_type": "execute_result"
    }
   ],
   "source": [
    "# Считаем пропуски\n",
    "dataset.isna().sum()"
   ]
  },
  {
   "cell_type": "code",
   "execution_count": 19,
   "id": "c35fc1b6-e01f-4789-b2bb-6db41df9a6e1",
   "metadata": {},
   "outputs": [
    {
     "data": {
      "text/html": [
       "<style type=\"text/css\">\n",
       "#T_9aa9c_row0_col0, #T_9aa9c_row1_col0, #T_9aa9c_row2_col0, #T_9aa9c_row5_col0, #T_9aa9c_row6_col0, #T_9aa9c_row7_col0, #T_9aa9c_row8_col0 {\n",
       "  background-color: #3b4cc0;\n",
       "  color: #f1f1f1;\n",
       "}\n",
       "#T_9aa9c_row3_col0 {\n",
       "  background-color: #3e51c5;\n",
       "  color: #f1f1f1;\n",
       "}\n",
       "#T_9aa9c_row4_col0 {\n",
       "  background-color: #b40426;\n",
       "  color: #f1f1f1;\n",
       "}\n",
       "</style>\n",
       "<table id=\"T_9aa9c\">\n",
       "  <thead>\n",
       "    <tr>\n",
       "      <th class=\"blank level0\" >&nbsp;</th>\n",
       "      <th id=\"T_9aa9c_level0_col0\" class=\"col_heading level0 col0\" >0</th>\n",
       "    </tr>\n",
       "  </thead>\n",
       "  <tbody>\n",
       "    <tr>\n",
       "      <th id=\"T_9aa9c_level0_row0\" class=\"row_heading level0 row0\" >user_id</th>\n",
       "      <td id=\"T_9aa9c_row0_col0\" class=\"data row0 col0\" >0.000000</td>\n",
       "    </tr>\n",
       "    <tr>\n",
       "      <th id=\"T_9aa9c_level0_row1\" class=\"row_heading level0 row1\" >date</th>\n",
       "      <td id=\"T_9aa9c_row1_col0\" class=\"data row1 col0\" >0.000000</td>\n",
       "    </tr>\n",
       "    <tr>\n",
       "      <th id=\"T_9aa9c_level0_row2\" class=\"row_heading level0 row2\" >direction</th>\n",
       "      <td id=\"T_9aa9c_row2_col0\" class=\"data row2 col0\" >0.000000</td>\n",
       "    </tr>\n",
       "    <tr>\n",
       "      <th id=\"T_9aa9c_level0_row3\" class=\"row_heading level0 row3\" >internal</th>\n",
       "      <td id=\"T_9aa9c_row3_col0\" class=\"data row3 col0\" >0.200000</td>\n",
       "    </tr>\n",
       "    <tr>\n",
       "      <th id=\"T_9aa9c_level0_row4\" class=\"row_heading level0 row4\" >operator_id</th>\n",
       "      <td id=\"T_9aa9c_row4_col0\" class=\"data row4 col0\" >15.200000</td>\n",
       "    </tr>\n",
       "    <tr>\n",
       "      <th id=\"T_9aa9c_level0_row5\" class=\"row_heading level0 row5\" >is_missed_call</th>\n",
       "      <td id=\"T_9aa9c_row5_col0\" class=\"data row5 col0\" >0.000000</td>\n",
       "    </tr>\n",
       "    <tr>\n",
       "      <th id=\"T_9aa9c_level0_row6\" class=\"row_heading level0 row6\" >calls_count</th>\n",
       "      <td id=\"T_9aa9c_row6_col0\" class=\"data row6 col0\" >0.000000</td>\n",
       "    </tr>\n",
       "    <tr>\n",
       "      <th id=\"T_9aa9c_level0_row7\" class=\"row_heading level0 row7\" >call_duration</th>\n",
       "      <td id=\"T_9aa9c_row7_col0\" class=\"data row7 col0\" >0.000000</td>\n",
       "    </tr>\n",
       "    <tr>\n",
       "      <th id=\"T_9aa9c_level0_row8\" class=\"row_heading level0 row8\" >total_call_duration</th>\n",
       "      <td id=\"T_9aa9c_row8_col0\" class=\"data row8 col0\" >0.000000</td>\n",
       "    </tr>\n",
       "  </tbody>\n",
       "</table>\n"
      ],
      "text/plain": [
       "<pandas.io.formats.style.Styler at 0x1e371ec9730>"
      ]
     },
     "execution_count": 19,
     "metadata": {},
     "output_type": "execute_result"
    }
   ],
   "source": [
    "# Изучим также доли пропущенных значений\n",
    "pd.DataFrame(round(dataset.isna().mean()*100,1)).style.background_gradient('coolwarm')"
   ]
  },
  {
   "cell_type": "markdown",
   "id": "3ea1ecac-db8d-46f8-8b2b-21e6885bf93e",
   "metadata": {},
   "source": [
    "- Удалим строки с пропущенными данными в столбце internal(их очень мало)\n",
    "- В столбце operator_id пропусков много(15.2%). Их удалять нельзя, так как это может искозить результаты исследования (либо значительная часть клиентов уйдет от нас, которая нам приносит прибыль). Пропуски могут быть связаны с какими-то техническими проблемами(система не указывает оператора из-за технического сбоя). Заменим эти пропуски самыми часто встречаемыми операторами у данных клиентов(user_id)"
   ]
  },
  {
   "cell_type": "code",
   "execution_count": 21,
   "id": "620f5c35-e795-41ba-8718-a2522e23f955",
   "metadata": {},
   "outputs": [],
   "source": [
    "# Удалим строки с пропущенными данными с столбце 'internal'\n",
    "dataset = dataset.dropna(subset=['internal'])"
   ]
  },
  {
   "cell_type": "code",
   "execution_count": 22,
   "id": "56635d37-ddb2-423b-b4c8-1e29f0780687",
   "metadata": {},
   "outputs": [
    {
     "data": {
      "text/html": [
       "<div>\n",
       "<style scoped>\n",
       "    .dataframe tbody tr th:only-of-type {\n",
       "        vertical-align: middle;\n",
       "    }\n",
       "\n",
       "    .dataframe tbody tr th {\n",
       "        vertical-align: top;\n",
       "    }\n",
       "\n",
       "    .dataframe thead th {\n",
       "        text-align: right;\n",
       "    }\n",
       "</style>\n",
       "<table border=\"1\" class=\"dataframe\">\n",
       "  <thead>\n",
       "    <tr style=\"text-align: right;\">\n",
       "      <th></th>\n",
       "      <th>user_id</th>\n",
       "      <th>date</th>\n",
       "      <th>direction</th>\n",
       "      <th>internal</th>\n",
       "      <th>operator_id</th>\n",
       "      <th>is_missed_call</th>\n",
       "      <th>calls_count</th>\n",
       "      <th>call_duration</th>\n",
       "      <th>total_call_duration</th>\n",
       "    </tr>\n",
       "  </thead>\n",
       "  <tbody>\n",
       "    <tr>\n",
       "      <th>0</th>\n",
       "      <td>166377</td>\n",
       "      <td>2019-08-04 00:00:00+03:00</td>\n",
       "      <td>in</td>\n",
       "      <td>False</td>\n",
       "      <td>NaN</td>\n",
       "      <td>True</td>\n",
       "      <td>2</td>\n",
       "      <td>0</td>\n",
       "      <td>4</td>\n",
       "    </tr>\n",
       "    <tr>\n",
       "      <th>1</th>\n",
       "      <td>166377</td>\n",
       "      <td>2019-08-05 00:00:00+03:00</td>\n",
       "      <td>out</td>\n",
       "      <td>True</td>\n",
       "      <td>880022.0</td>\n",
       "      <td>True</td>\n",
       "      <td>3</td>\n",
       "      <td>0</td>\n",
       "      <td>5</td>\n",
       "    </tr>\n",
       "    <tr>\n",
       "      <th>2</th>\n",
       "      <td>166377</td>\n",
       "      <td>2019-08-05 00:00:00+03:00</td>\n",
       "      <td>out</td>\n",
       "      <td>True</td>\n",
       "      <td>880020.0</td>\n",
       "      <td>True</td>\n",
       "      <td>1</td>\n",
       "      <td>0</td>\n",
       "      <td>1</td>\n",
       "    </tr>\n",
       "  </tbody>\n",
       "</table>\n",
       "</div>"
      ],
      "text/plain": [
       "   user_id                       date direction internal  operator_id  \\\n",
       "0   166377  2019-08-04 00:00:00+03:00        in    False          NaN   \n",
       "1   166377  2019-08-05 00:00:00+03:00       out     True     880022.0   \n",
       "2   166377  2019-08-05 00:00:00+03:00       out     True     880020.0   \n",
       "\n",
       "   is_missed_call  calls_count  call_duration  total_call_duration  \n",
       "0            True            2              0                    4  \n",
       "1            True            3              0                    5  \n",
       "2            True            1              0                    1  "
      ]
     },
     "execution_count": 22,
     "metadata": {},
     "output_type": "execute_result"
    }
   ],
   "source": [
    "# Выведем первые три строки\n",
    "dataset.head(3)"
   ]
  },
  {
   "cell_type": "code",
   "execution_count": 23,
   "id": "eabeac79-b056-4be7-8ece-d9b478d9ec17",
   "metadata": {},
   "outputs": [
    {
     "data": {
      "text/plain": [
       "is_missed_call\n",
       "False     113\n",
       "True     7288\n",
       "dtype: int64"
      ]
     },
     "execution_count": 23,
     "metadata": {},
     "output_type": "execute_result"
    }
   ],
   "source": [
    "# Шаг 1: Фильтрация по строке, где оператор отсутствует (NaN)\n",
    "filtered_dataset = dataset[pd.isna(dataset['operator_id'])]\n",
    "\n",
    "# Шаг 2: Группировка по признаку is_missed_call и подсчет числа строк\n",
    "result = filtered_dataset.groupby('is_missed_call').size()\n",
    "\n",
    "result"
   ]
  },
  {
   "cell_type": "markdown",
   "id": "eb1a6cb0-6e98-4c49-b84f-9ee101a61269",
   "metadata": {},
   "source": [
    "Большинство звонков с пропущенным значением в поле operator_id это пропущенные звонки. Вероятно система не успевает назначить оператора. Заполним пропущенные значения в столбце operator_id на самые часто встречаемые значения у пользователя."
   ]
  },
  {
   "cell_type": "code",
   "execution_count": 25,
   "id": "d405c0be-804c-4eca-acd9-dcab2d4b0889",
   "metadata": {},
   "outputs": [
    {
     "data": {
      "text/html": [
       "<div>\n",
       "<style scoped>\n",
       "    .dataframe tbody tr th:only-of-type {\n",
       "        vertical-align: middle;\n",
       "    }\n",
       "\n",
       "    .dataframe tbody tr th {\n",
       "        vertical-align: top;\n",
       "    }\n",
       "\n",
       "    .dataframe thead th {\n",
       "        text-align: right;\n",
       "    }\n",
       "</style>\n",
       "<table border=\"1\" class=\"dataframe\">\n",
       "  <thead>\n",
       "    <tr style=\"text-align: right;\">\n",
       "      <th></th>\n",
       "      <th>user_id</th>\n",
       "      <th>date</th>\n",
       "      <th>direction</th>\n",
       "      <th>internal</th>\n",
       "      <th>operator_id</th>\n",
       "      <th>is_missed_call</th>\n",
       "      <th>calls_count</th>\n",
       "      <th>call_duration</th>\n",
       "      <th>total_call_duration</th>\n",
       "    </tr>\n",
       "  </thead>\n",
       "  <tbody>\n",
       "    <tr>\n",
       "      <th>0</th>\n",
       "      <td>166377</td>\n",
       "      <td>2019-08-04 00:00:00+03:00</td>\n",
       "      <td>in</td>\n",
       "      <td>False</td>\n",
       "      <td>NaN</td>\n",
       "      <td>True</td>\n",
       "      <td>2</td>\n",
       "      <td>0</td>\n",
       "      <td>4</td>\n",
       "    </tr>\n",
       "    <tr>\n",
       "      <th>1</th>\n",
       "      <td>166377</td>\n",
       "      <td>2019-08-05 00:00:00+03:00</td>\n",
       "      <td>out</td>\n",
       "      <td>True</td>\n",
       "      <td>880022.0</td>\n",
       "      <td>True</td>\n",
       "      <td>3</td>\n",
       "      <td>0</td>\n",
       "      <td>5</td>\n",
       "    </tr>\n",
       "    <tr>\n",
       "      <th>2</th>\n",
       "      <td>166377</td>\n",
       "      <td>2019-08-05 00:00:00+03:00</td>\n",
       "      <td>out</td>\n",
       "      <td>True</td>\n",
       "      <td>880020.0</td>\n",
       "      <td>True</td>\n",
       "      <td>1</td>\n",
       "      <td>0</td>\n",
       "      <td>1</td>\n",
       "    </tr>\n",
       "  </tbody>\n",
       "</table>\n",
       "</div>"
      ],
      "text/plain": [
       "   user_id                       date direction internal  operator_id  \\\n",
       "0   166377  2019-08-04 00:00:00+03:00        in    False          NaN   \n",
       "1   166377  2019-08-05 00:00:00+03:00       out     True     880022.0   \n",
       "2   166377  2019-08-05 00:00:00+03:00       out     True     880020.0   \n",
       "\n",
       "   is_missed_call  calls_count  call_duration  total_call_duration  \n",
       "0            True            2              0                    4  \n",
       "1            True            3              0                    5  \n",
       "2            True            1              0                    1  "
      ]
     },
     "execution_count": 25,
     "metadata": {},
     "output_type": "execute_result"
    }
   ],
   "source": [
    "# Выведем первые три строки\n",
    "dataset.head(3)"
   ]
  },
  {
   "cell_type": "code",
   "execution_count": 26,
   "id": "fc015905-2a6a-4bf8-8f5c-2efbec5e01fc",
   "metadata": {},
   "outputs": [],
   "source": [
    "# Фильтруем возможные пропуски и считаем глобальную моду\n",
    "#global_mode = dataset['operator_id'].dropna().mode()[0]\n",
    "GLOBAL_MODE_CONSTANT = 111111\n",
    "\n",
    "# Обработчик пропуска и нахождения моды\n",
    "def fill_with_mode(group):\n",
    "    try:\n",
    "        # Попытка вычисления моды\n",
    "        mode_value = group.mode()[0]\n",
    "    except Exception:\n",
    "        # Если нельзя найти моду, возвращаем глобальную моду\n",
    "        mode_value = GLOBAL_MODE_CONSTANT\n",
    "        \n",
    "    return group.fillna(mode_value)\n",
    "\n",
    "# Преобразование с учётом нового обработчика\n",
    "dataset['operator_id'] = dataset.groupby('user_id')['operator_id'].transform(fill_with_mode)"
   ]
  },
  {
   "cell_type": "code",
   "execution_count": 27,
   "id": "6a084ed4-dd94-4f94-ba66-544f6c2446b0",
   "metadata": {},
   "outputs": [
    {
     "data": {
      "text/html": [
       "<style type=\"text/css\">\n",
       "#T_da2be_row0_col0, #T_da2be_row1_col0, #T_da2be_row2_col0, #T_da2be_row3_col0, #T_da2be_row4_col0, #T_da2be_row5_col0, #T_da2be_row6_col0, #T_da2be_row7_col0, #T_da2be_row8_col0 {\n",
       "  background-color: #3b4cc0;\n",
       "  color: #f1f1f1;\n",
       "}\n",
       "</style>\n",
       "<table id=\"T_da2be\">\n",
       "  <thead>\n",
       "    <tr>\n",
       "      <th class=\"blank level0\" >&nbsp;</th>\n",
       "      <th id=\"T_da2be_level0_col0\" class=\"col_heading level0 col0\" >0</th>\n",
       "    </tr>\n",
       "  </thead>\n",
       "  <tbody>\n",
       "    <tr>\n",
       "      <th id=\"T_da2be_level0_row0\" class=\"row_heading level0 row0\" >user_id</th>\n",
       "      <td id=\"T_da2be_row0_col0\" class=\"data row0 col0\" >0.000000</td>\n",
       "    </tr>\n",
       "    <tr>\n",
       "      <th id=\"T_da2be_level0_row1\" class=\"row_heading level0 row1\" >date</th>\n",
       "      <td id=\"T_da2be_row1_col0\" class=\"data row1 col0\" >0.000000</td>\n",
       "    </tr>\n",
       "    <tr>\n",
       "      <th id=\"T_da2be_level0_row2\" class=\"row_heading level0 row2\" >direction</th>\n",
       "      <td id=\"T_da2be_row2_col0\" class=\"data row2 col0\" >0.000000</td>\n",
       "    </tr>\n",
       "    <tr>\n",
       "      <th id=\"T_da2be_level0_row3\" class=\"row_heading level0 row3\" >internal</th>\n",
       "      <td id=\"T_da2be_row3_col0\" class=\"data row3 col0\" >0.000000</td>\n",
       "    </tr>\n",
       "    <tr>\n",
       "      <th id=\"T_da2be_level0_row4\" class=\"row_heading level0 row4\" >operator_id</th>\n",
       "      <td id=\"T_da2be_row4_col0\" class=\"data row4 col0\" >0.000000</td>\n",
       "    </tr>\n",
       "    <tr>\n",
       "      <th id=\"T_da2be_level0_row5\" class=\"row_heading level0 row5\" >is_missed_call</th>\n",
       "      <td id=\"T_da2be_row5_col0\" class=\"data row5 col0\" >0.000000</td>\n",
       "    </tr>\n",
       "    <tr>\n",
       "      <th id=\"T_da2be_level0_row6\" class=\"row_heading level0 row6\" >calls_count</th>\n",
       "      <td id=\"T_da2be_row6_col0\" class=\"data row6 col0\" >0.000000</td>\n",
       "    </tr>\n",
       "    <tr>\n",
       "      <th id=\"T_da2be_level0_row7\" class=\"row_heading level0 row7\" >call_duration</th>\n",
       "      <td id=\"T_da2be_row7_col0\" class=\"data row7 col0\" >0.000000</td>\n",
       "    </tr>\n",
       "    <tr>\n",
       "      <th id=\"T_da2be_level0_row8\" class=\"row_heading level0 row8\" >total_call_duration</th>\n",
       "      <td id=\"T_da2be_row8_col0\" class=\"data row8 col0\" >0.000000</td>\n",
       "    </tr>\n",
       "  </tbody>\n",
       "</table>\n"
      ],
      "text/plain": [
       "<pandas.io.formats.style.Styler at 0x1e37635e1e0>"
      ]
     },
     "execution_count": 27,
     "metadata": {},
     "output_type": "execute_result"
    }
   ],
   "source": [
    "# Проверим результат\n",
    "pd.DataFrame(round(dataset.isna().mean()*100,1)).style.background_gradient('coolwarm')"
   ]
  },
  {
   "cell_type": "code",
   "execution_count": 28,
   "id": "1934b7dc-b8d3-45c6-b1b5-ff722d7bc031",
   "metadata": {},
   "outputs": [
    {
     "name": "stdout",
     "output_type": "stream",
     "text": [
      "<class 'pandas.core.frame.DataFrame'>\n",
      "Index: 48892 entries, 0 to 49001\n",
      "Data columns (total 9 columns):\n",
      " #   Column               Non-Null Count  Dtype  \n",
      "---  ------               --------------  -----  \n",
      " 0   user_id              48892 non-null  int64  \n",
      " 1   date                 48892 non-null  object \n",
      " 2   direction            48892 non-null  object \n",
      " 3   internal             48892 non-null  object \n",
      " 4   operator_id          48892 non-null  float64\n",
      " 5   is_missed_call       48892 non-null  bool   \n",
      " 6   calls_count          48892 non-null  int64  \n",
      " 7   call_duration        48892 non-null  int64  \n",
      " 8   total_call_duration  48892 non-null  int64  \n",
      "dtypes: bool(1), float64(1), int64(4), object(3)\n",
      "memory usage: 3.4+ MB\n"
     ]
    }
   ],
   "source": [
    "# Проверим еще раз общую информацию по датасету\n",
    "dataset.info()"
   ]
  },
  {
   "cell_type": "markdown",
   "id": "2f0a17f6-26cd-455c-93ab-a8ae818e3ed4",
   "metadata": {},
   "source": [
    "### Объединим два датасета"
   ]
  },
  {
   "cell_type": "markdown",
   "id": "28996d72-8206-478d-9c6e-f8749583ff07",
   "metadata": {},
   "source": [
    "Объединим два датасета"
   ]
  },
  {
   "cell_type": "code",
   "execution_count": 31,
   "id": "0b5a9478-be73-4f20-b1fb-dc09790fd8aa",
   "metadata": {},
   "outputs": [],
   "source": [
    "telecom = dataset.merge(clients, on = 'user_id')"
   ]
  },
  {
   "cell_type": "code",
   "execution_count": 32,
   "id": "ca7ad567-dd88-4ded-ad7a-7a5b0e9a9b26",
   "metadata": {},
   "outputs": [
    {
     "data": {
      "text/html": [
       "<div>\n",
       "<style scoped>\n",
       "    .dataframe tbody tr th:only-of-type {\n",
       "        vertical-align: middle;\n",
       "    }\n",
       "\n",
       "    .dataframe tbody tr th {\n",
       "        vertical-align: top;\n",
       "    }\n",
       "\n",
       "    .dataframe thead th {\n",
       "        text-align: right;\n",
       "    }\n",
       "</style>\n",
       "<table border=\"1\" class=\"dataframe\">\n",
       "  <thead>\n",
       "    <tr style=\"text-align: right;\">\n",
       "      <th></th>\n",
       "      <th>user_id</th>\n",
       "      <th>date</th>\n",
       "      <th>direction</th>\n",
       "      <th>internal</th>\n",
       "      <th>operator_id</th>\n",
       "      <th>is_missed_call</th>\n",
       "      <th>calls_count</th>\n",
       "      <th>call_duration</th>\n",
       "      <th>total_call_duration</th>\n",
       "      <th>tariff_plan</th>\n",
       "      <th>date_start</th>\n",
       "    </tr>\n",
       "  </thead>\n",
       "  <tbody>\n",
       "    <tr>\n",
       "      <th>0</th>\n",
       "      <td>166377</td>\n",
       "      <td>2019-08-04 00:00:00+03:00</td>\n",
       "      <td>in</td>\n",
       "      <td>False</td>\n",
       "      <td>880028.0</td>\n",
       "      <td>True</td>\n",
       "      <td>2</td>\n",
       "      <td>0</td>\n",
       "      <td>4</td>\n",
       "      <td>B</td>\n",
       "      <td>2019-08-01</td>\n",
       "    </tr>\n",
       "    <tr>\n",
       "      <th>1</th>\n",
       "      <td>166377</td>\n",
       "      <td>2019-08-05 00:00:00+03:00</td>\n",
       "      <td>out</td>\n",
       "      <td>True</td>\n",
       "      <td>880022.0</td>\n",
       "      <td>True</td>\n",
       "      <td>3</td>\n",
       "      <td>0</td>\n",
       "      <td>5</td>\n",
       "      <td>B</td>\n",
       "      <td>2019-08-01</td>\n",
       "    </tr>\n",
       "    <tr>\n",
       "      <th>2</th>\n",
       "      <td>166377</td>\n",
       "      <td>2019-08-05 00:00:00+03:00</td>\n",
       "      <td>out</td>\n",
       "      <td>True</td>\n",
       "      <td>880020.0</td>\n",
       "      <td>True</td>\n",
       "      <td>1</td>\n",
       "      <td>0</td>\n",
       "      <td>1</td>\n",
       "      <td>B</td>\n",
       "      <td>2019-08-01</td>\n",
       "    </tr>\n",
       "  </tbody>\n",
       "</table>\n",
       "</div>"
      ],
      "text/plain": [
       "   user_id                       date direction internal  operator_id  \\\n",
       "0   166377  2019-08-04 00:00:00+03:00        in    False     880028.0   \n",
       "1   166377  2019-08-05 00:00:00+03:00       out     True     880022.0   \n",
       "2   166377  2019-08-05 00:00:00+03:00       out     True     880020.0   \n",
       "\n",
       "   is_missed_call  calls_count  call_duration  total_call_duration  \\\n",
       "0            True            2              0                    4   \n",
       "1            True            3              0                    5   \n",
       "2            True            1              0                    1   \n",
       "\n",
       "  tariff_plan  date_start  \n",
       "0           B  2019-08-01  \n",
       "1           B  2019-08-01  \n",
       "2           B  2019-08-01  "
      ]
     },
     "execution_count": 32,
     "metadata": {},
     "output_type": "execute_result"
    }
   ],
   "source": [
    "# Выведем первые три строки\n",
    "telecom.head(3)"
   ]
  },
  {
   "cell_type": "code",
   "execution_count": 33,
   "id": "9eef7763-5f1c-4c85-8ca5-6aaa5578e2c5",
   "metadata": {},
   "outputs": [
    {
     "name": "stdout",
     "output_type": "stream",
     "text": [
      "<class 'pandas.core.frame.DataFrame'>\n",
      "RangeIndex: 48892 entries, 0 to 48891\n",
      "Data columns (total 11 columns):\n",
      " #   Column               Non-Null Count  Dtype  \n",
      "---  ------               --------------  -----  \n",
      " 0   user_id              48892 non-null  int64  \n",
      " 1   date                 48892 non-null  object \n",
      " 2   direction            48892 non-null  object \n",
      " 3   internal             48892 non-null  object \n",
      " 4   operator_id          48892 non-null  float64\n",
      " 5   is_missed_call       48892 non-null  bool   \n",
      " 6   calls_count          48892 non-null  int64  \n",
      " 7   call_duration        48892 non-null  int64  \n",
      " 8   total_call_duration  48892 non-null  int64  \n",
      " 9   tariff_plan          48892 non-null  object \n",
      " 10  date_start           48892 non-null  object \n",
      "dtypes: bool(1), float64(1), int64(4), object(5)\n",
      "memory usage: 3.8+ MB\n"
     ]
    }
   ],
   "source": [
    "# Посмотрим общую информацию по объединенному датасету\n",
    "telecom.info()"
   ]
  },
  {
   "cell_type": "markdown",
   "id": "97cd5371-2b5f-4b05-9a11-5c1e5395fec2",
   "metadata": {},
   "source": [
    "В объединенный датасет вошли все строки из основного датасета dataset"
   ]
  },
  {
   "cell_type": "code",
   "execution_count": 35,
   "id": "273e0510-ac16-4503-bdee-3b22c959ebd2",
   "metadata": {},
   "outputs": [
    {
     "data": {
      "text/plain": [
       "Series([], Name: user_id, dtype: int64)"
      ]
     },
     "execution_count": 35,
     "metadata": {},
     "output_type": "execute_result"
    }
   ],
   "source": [
    "# Проверим есть ли у каждого пользователя тарифный план\n",
    "missing_tariffs = telecom.loc[pd.isna(telecom['tariff_plan']), 'user_id']\n",
    "\n",
    "missing_tariffs"
   ]
  },
  {
   "cell_type": "markdown",
   "id": "2a7ab6a2-9002-4574-a7c3-f9f710fc94d7",
   "metadata": {},
   "source": [
    "У всех клиентов указан тарифный план(нет пропусков)."
   ]
  },
  {
   "cell_type": "code",
   "execution_count": 37,
   "id": "0db105a8-7b73-44a5-abb8-0c07ea35df68",
   "metadata": {},
   "outputs": [
    {
     "data": {
      "text/plain": [
       "user_id\n",
       "166377    1\n",
       "166391    1\n",
       "166392    1\n",
       "Name: tariff_plan, dtype: int64"
      ]
     },
     "execution_count": 37,
     "metadata": {},
     "output_type": "execute_result"
    }
   ],
   "source": [
    "# Проверка количества уникальных тарифов для каждого пользователя\n",
    "unique_counts = telecom.groupby('user_id')['tariff_plan'].nunique()\n",
    "unique_counts.head(3)"
   ]
  },
  {
   "cell_type": "code",
   "execution_count": 38,
   "id": "65b032c5-0d79-4e53-bed2-fd4fedf0cdad",
   "metadata": {},
   "outputs": [
    {
     "name": "stdout",
     "output_type": "stream",
     "text": [
      "У каждого пользователя только один тариф.\n"
     ]
    }
   ],
   "source": [
    "# Фильтруем тех пользователей, у кого больше одного тарифа\n",
    "users_with_multiple_plans = unique_counts[unique_counts > 1]\n",
    "\n",
    "if len(users_with_multiple_plans) > 0:\n",
    "    print(f\"Пользователи с несколькими тарифами:\\n{users_with_multiple_plans}\")\n",
    "else:\n",
    "    print(\"У каждого пользователя только один тариф.\")"
   ]
  },
  {
   "cell_type": "markdown",
   "id": "caf43783-43e8-43ea-8728-f8408ac2e2a8",
   "metadata": {},
   "source": [
    "У каждого пользователя только один тариф."
   ]
  },
  {
   "cell_type": "markdown",
   "id": "0c2150d5-b9c3-4a69-a90f-fd6a93e52aef",
   "metadata": {},
   "source": [
    "### Изменим типы данных некоторых столбцов"
   ]
  },
  {
   "cell_type": "code",
   "execution_count": 41,
   "id": "6790ef88-a386-460e-84ac-1b0373069d99",
   "metadata": {},
   "outputs": [],
   "source": [
    "# Преобразуем колонку 'date' в формат даты без времени\n",
    "telecom['date'] = pd.to_datetime(telecom['date']).dt.tz_localize(None)\n",
    "\n",
    "# Преобразуем колонку 'date_start' в формат даты без времени\n",
    "telecom['date_start'] = pd.to_datetime(telecom['date_start'])\n",
    "\n",
    "# Приведение идентификаторов операторов к целочисленному типу int\n",
    "telecom['operator_id'] = telecom['operator_id'].astype('int')\n",
    "\n",
    "# Приведем тип данныйх к булевому в столбце internal\n",
    "telecom['internal'] = telecom['internal'].astype(bool)"
   ]
  },
  {
   "cell_type": "code",
   "execution_count": 42,
   "id": "2e54bae4-9c7e-43c3-9d60-7cbe4ca0bfd5",
   "metadata": {},
   "outputs": [
    {
     "data": {
      "text/html": [
       "<div>\n",
       "<style scoped>\n",
       "    .dataframe tbody tr th:only-of-type {\n",
       "        vertical-align: middle;\n",
       "    }\n",
       "\n",
       "    .dataframe tbody tr th {\n",
       "        vertical-align: top;\n",
       "    }\n",
       "\n",
       "    .dataframe thead th {\n",
       "        text-align: right;\n",
       "    }\n",
       "</style>\n",
       "<table border=\"1\" class=\"dataframe\">\n",
       "  <thead>\n",
       "    <tr style=\"text-align: right;\">\n",
       "      <th></th>\n",
       "      <th>user_id</th>\n",
       "      <th>date</th>\n",
       "      <th>direction</th>\n",
       "      <th>internal</th>\n",
       "      <th>operator_id</th>\n",
       "      <th>is_missed_call</th>\n",
       "      <th>calls_count</th>\n",
       "      <th>call_duration</th>\n",
       "      <th>total_call_duration</th>\n",
       "      <th>tariff_plan</th>\n",
       "      <th>date_start</th>\n",
       "    </tr>\n",
       "  </thead>\n",
       "  <tbody>\n",
       "    <tr>\n",
       "      <th>0</th>\n",
       "      <td>166377</td>\n",
       "      <td>2019-08-04</td>\n",
       "      <td>in</td>\n",
       "      <td>False</td>\n",
       "      <td>880028</td>\n",
       "      <td>True</td>\n",
       "      <td>2</td>\n",
       "      <td>0</td>\n",
       "      <td>4</td>\n",
       "      <td>B</td>\n",
       "      <td>2019-08-01</td>\n",
       "    </tr>\n",
       "    <tr>\n",
       "      <th>1</th>\n",
       "      <td>166377</td>\n",
       "      <td>2019-08-05</td>\n",
       "      <td>out</td>\n",
       "      <td>True</td>\n",
       "      <td>880022</td>\n",
       "      <td>True</td>\n",
       "      <td>3</td>\n",
       "      <td>0</td>\n",
       "      <td>5</td>\n",
       "      <td>B</td>\n",
       "      <td>2019-08-01</td>\n",
       "    </tr>\n",
       "    <tr>\n",
       "      <th>2</th>\n",
       "      <td>166377</td>\n",
       "      <td>2019-08-05</td>\n",
       "      <td>out</td>\n",
       "      <td>True</td>\n",
       "      <td>880020</td>\n",
       "      <td>True</td>\n",
       "      <td>1</td>\n",
       "      <td>0</td>\n",
       "      <td>1</td>\n",
       "      <td>B</td>\n",
       "      <td>2019-08-01</td>\n",
       "    </tr>\n",
       "  </tbody>\n",
       "</table>\n",
       "</div>"
      ],
      "text/plain": [
       "   user_id       date direction  internal  operator_id  is_missed_call  \\\n",
       "0   166377 2019-08-04        in     False       880028            True   \n",
       "1   166377 2019-08-05       out      True       880022            True   \n",
       "2   166377 2019-08-05       out      True       880020            True   \n",
       "\n",
       "   calls_count  call_duration  total_call_duration tariff_plan date_start  \n",
       "0            2              0                    4           B 2019-08-01  \n",
       "1            3              0                    5           B 2019-08-01  \n",
       "2            1              0                    1           B 2019-08-01  "
      ]
     },
     "execution_count": 42,
     "metadata": {},
     "output_type": "execute_result"
    }
   ],
   "source": [
    "telecom.head(3)"
   ]
  },
  {
   "cell_type": "code",
   "execution_count": 43,
   "id": "6aa2d3f2-ead3-4a3c-b357-f661f5088fcc",
   "metadata": {},
   "outputs": [
    {
     "name": "stdout",
     "output_type": "stream",
     "text": [
      "<class 'pandas.core.frame.DataFrame'>\n",
      "RangeIndex: 48892 entries, 0 to 48891\n",
      "Data columns (total 11 columns):\n",
      " #   Column               Non-Null Count  Dtype         \n",
      "---  ------               --------------  -----         \n",
      " 0   user_id              48892 non-null  int64         \n",
      " 1   date                 48892 non-null  datetime64[ns]\n",
      " 2   direction            48892 non-null  object        \n",
      " 3   internal             48892 non-null  bool          \n",
      " 4   operator_id          48892 non-null  int32         \n",
      " 5   is_missed_call       48892 non-null  bool          \n",
      " 6   calls_count          48892 non-null  int64         \n",
      " 7   call_duration        48892 non-null  int64         \n",
      " 8   total_call_duration  48892 non-null  int64         \n",
      " 9   tariff_plan          48892 non-null  object        \n",
      " 10  date_start           48892 non-null  datetime64[ns]\n",
      "dtypes: bool(2), datetime64[ns](2), int32(1), int64(4), object(2)\n",
      "memory usage: 3.3+ MB\n"
     ]
    }
   ],
   "source": [
    "telecom.info()"
   ]
  },
  {
   "cell_type": "markdown",
   "id": "30b79c6e-f8eb-4dcc-bc44-7bc33a9982b3",
   "metadata": {},
   "source": [
    "### Проверим есть ли в датасете даты обслуживания клиентов, которые старше дат заключения с ним договоров"
   ]
  },
  {
   "cell_type": "code",
   "execution_count": 45,
   "id": "801a7c01-783d-4a12-bb8c-78038ed413a9",
   "metadata": {},
   "outputs": [
    {
     "name": "stdout",
     "output_type": "stream",
     "text": [
      "Количество записей обсуживания клиентов с датами старше дат их регистрации: 0\n"
     ]
    }
   ],
   "source": [
    "print('Количество записей обсуживания клиентов с датами старше дат их регистрации:', \n",
    "      len(telecom[telecom['date'] < telecom['date_start'] ]))"
   ]
  },
  {
   "cell_type": "markdown",
   "id": "c3718e0b-98db-469b-bdaa-e511a4ac2b6b",
   "metadata": {},
   "source": [
    "### Добавим столбец с месячной абонентской платой"
   ]
  },
  {
   "cell_type": "code",
   "execution_count": 47,
   "id": "3b8b46f6-a62d-417e-8269-94feddabdb28",
   "metadata": {},
   "outputs": [],
   "source": [
    "# Заданные фиксированные платежи по тарифам\n",
    "MONTHLY_FEE_TARIFF_A = 5000  # Ежемесячная оплата по тарифу А\n",
    "MONTHLY_FEE_TARIFF_B = 2000  # Ежемесячная оплата по тарифу Б\n",
    "MONTHLY_FEE_TARIFF_C = 1000  # Ежемесячная оплата по тарифу С\n",
    "\n",
    "# Определение функции для расчета ежемесячной оплаты\n",
    "def calculate_current_monthly_fee(row):\n",
    "    \"\"\"\n",
    "    Возвращает сумму ежемесячной платы в зависимости от текущего тарифного плана.\n",
    "    \"\"\"\n",
    "    if row['tariff_plan'] == 'A':\n",
    "        return MONTHLY_FEE_TARIFF_A\n",
    "    elif row['tariff_plan'] == 'B':\n",
    "        return MONTHLY_FEE_TARIFF_B\n",
    "    elif row['tariff_plan'] == 'C':\n",
    "        return MONTHLY_FEE_TARIFF_C\n",
    "    else:\n",
    "        return None  # Можно заменить другим значением по умолчанию\n",
    "\n",
    "# Применение функции для формирования нового столбца 'cur_monthly_fee'\n",
    "telecom['cur_monthly_fee'] = telecom.apply(calculate_current_monthly_fee, axis=1)"
   ]
  },
  {
   "cell_type": "code",
   "execution_count": 48,
   "id": "1177f74f-a278-4563-9fd9-f194c052c6ab",
   "metadata": {},
   "outputs": [
    {
     "data": {
      "text/html": [
       "<div>\n",
       "<style scoped>\n",
       "    .dataframe tbody tr th:only-of-type {\n",
       "        vertical-align: middle;\n",
       "    }\n",
       "\n",
       "    .dataframe tbody tr th {\n",
       "        vertical-align: top;\n",
       "    }\n",
       "\n",
       "    .dataframe thead th {\n",
       "        text-align: right;\n",
       "    }\n",
       "</style>\n",
       "<table border=\"1\" class=\"dataframe\">\n",
       "  <thead>\n",
       "    <tr style=\"text-align: right;\">\n",
       "      <th></th>\n",
       "      <th>user_id</th>\n",
       "      <th>date</th>\n",
       "      <th>direction</th>\n",
       "      <th>internal</th>\n",
       "      <th>operator_id</th>\n",
       "      <th>is_missed_call</th>\n",
       "      <th>calls_count</th>\n",
       "      <th>call_duration</th>\n",
       "      <th>total_call_duration</th>\n",
       "      <th>tariff_plan</th>\n",
       "      <th>date_start</th>\n",
       "      <th>cur_monthly_fee</th>\n",
       "    </tr>\n",
       "  </thead>\n",
       "  <tbody>\n",
       "    <tr>\n",
       "      <th>0</th>\n",
       "      <td>166377</td>\n",
       "      <td>2019-08-04</td>\n",
       "      <td>in</td>\n",
       "      <td>False</td>\n",
       "      <td>880028</td>\n",
       "      <td>True</td>\n",
       "      <td>2</td>\n",
       "      <td>0</td>\n",
       "      <td>4</td>\n",
       "      <td>B</td>\n",
       "      <td>2019-08-01</td>\n",
       "      <td>2000</td>\n",
       "    </tr>\n",
       "    <tr>\n",
       "      <th>1</th>\n",
       "      <td>166377</td>\n",
       "      <td>2019-08-05</td>\n",
       "      <td>out</td>\n",
       "      <td>True</td>\n",
       "      <td>880022</td>\n",
       "      <td>True</td>\n",
       "      <td>3</td>\n",
       "      <td>0</td>\n",
       "      <td>5</td>\n",
       "      <td>B</td>\n",
       "      <td>2019-08-01</td>\n",
       "      <td>2000</td>\n",
       "    </tr>\n",
       "    <tr>\n",
       "      <th>2</th>\n",
       "      <td>166377</td>\n",
       "      <td>2019-08-05</td>\n",
       "      <td>out</td>\n",
       "      <td>True</td>\n",
       "      <td>880020</td>\n",
       "      <td>True</td>\n",
       "      <td>1</td>\n",
       "      <td>0</td>\n",
       "      <td>1</td>\n",
       "      <td>B</td>\n",
       "      <td>2019-08-01</td>\n",
       "      <td>2000</td>\n",
       "    </tr>\n",
       "  </tbody>\n",
       "</table>\n",
       "</div>"
      ],
      "text/plain": [
       "   user_id       date direction  internal  operator_id  is_missed_call  \\\n",
       "0   166377 2019-08-04        in     False       880028            True   \n",
       "1   166377 2019-08-05       out      True       880022            True   \n",
       "2   166377 2019-08-05       out      True       880020            True   \n",
       "\n",
       "   calls_count  call_duration  total_call_duration tariff_plan date_start  \\\n",
       "0            2              0                    4           B 2019-08-01   \n",
       "1            3              0                    5           B 2019-08-01   \n",
       "2            1              0                    1           B 2019-08-01   \n",
       "\n",
       "   cur_monthly_fee  \n",
       "0             2000  \n",
       "1             2000  \n",
       "2             2000  "
      ]
     },
     "execution_count": 48,
     "metadata": {},
     "output_type": "execute_result"
    }
   ],
   "source": [
    "# Выведем первые три строки\n",
    "telecom.head(3)"
   ]
  },
  {
   "cell_type": "markdown",
   "id": "32b6b2f2-4229-4664-8243-f835723252ce",
   "metadata": {},
   "source": [
    "Мы провели предобработку данных:\n",
    "- Привели наличие дупликатов. Идентифицировали 4,900(9%) явных дубликата. Удалили их.\n",
    "- Проверили наличие пропусков:\n",
    "  - Удалили строки с пропущенными данными в столбце internal(их очень мало)\n",
    "  - В столбце operator_id пропусков идентифицированно в размере 7,456 штук(15.2%). Их удалять не стали, так как это может искозить результаты исследования (как следствие значительная часть клиентов уйдет от нас, которая нам приносит прибыль). Пропуски могут быть связаны с какими-то техническими проблемами(система не указывает оператора из-за технического сбоя). Заменили эти пропуски самыми часто встречаемыми операторами у данных клиентов(user_id)\n",
    "- Объединили два датасета по столбцу user_id и проверили:\n",
    "  - В объединенный датасет вошли все строки из основного датасета dataset\n",
    "  - У всех клиентов указан тарифный план(нет пропусков)\n",
    "  - У каждого пользователя только один тариф\n",
    "- Изменили типы данных некоторых столбцов:\n",
    "  - Преобразовали столбец 'date' в формат даты без времени\n",
    "  - Преобразовали столбец 'date_start' в формат даты без времени\n",
    "  - Привели идентификаторов операторов к целочисленному типу int\n",
    "  - Привели тип данныйх к булевому в столбце internal\n",
    "- Проверили есть ли в датасете даты обслуживания клиентов, которые старше дат заключения с ними договоров. Количество записей обсуживания клиентов с датами старше дат их регистрации: 0.\n",
    "- Добавили столбец с месячной абонентской платой cur_monthly_fee"
   ]
  },
  {
   "cell_type": "markdown",
   "id": "b6cd727e-4cfa-48a6-9cc4-d10f916927c3",
   "metadata": {},
   "source": [
    "## 3 Исследовательский анализ данных"
   ]
  },
  {
   "cell_type": "markdown",
   "id": "b4f90845-4b01-4460-932c-a05065cf507b",
   "metadata": {},
   "source": [
    "### Вычислим границы анализуемого периода и добавим столбец с месяцем когда были оказаны услуги"
   ]
  },
  {
   "cell_type": "code",
   "execution_count": 52,
   "id": "f033bf81-fbac-4562-a032-7c2a745631ea",
   "metadata": {},
   "outputs": [
    {
     "name": "stdout",
     "output_type": "stream",
     "text": [
      "Начало периода: 2019-08-02 00:00:00+03:00\n",
      "Конец периода: 2019-11-28 00:00:00+03:00\n"
     ]
    }
   ],
   "source": [
    "# Посмотрим за какой период данные\n",
    "print(\"Начало периода:\", dataset[\"date\"].min())\n",
    "print(\"Конец периода:\", dataset[\"date\"].max())"
   ]
  },
  {
   "cell_type": "code",
   "execution_count": 53,
   "id": "d3b36012-92be-46bb-867d-32c266294cb8",
   "metadata": {},
   "outputs": [
    {
     "name": "stdout",
     "output_type": "stream",
     "text": [
      "[ 8  9 10 11]\n"
     ]
    }
   ],
   "source": [
    "# Добавим столбец 'month', содержащий месяцы\n",
    "telecom['month'] = pd.to_datetime(telecom['date']).dt.month\n",
    "print(telecom['month'].unique())"
   ]
  },
  {
   "cell_type": "markdown",
   "id": "d2926eec-75fb-4b6f-bbb1-153e770c7d4b",
   "metadata": {},
   "source": [
    "Итак, у нас данные за 4 месяца 2019 года: август, сентябрь, октябрь и ноябрь. У нас не хватает одного дня в августе(29 вместо 30) и двух дней в ноябре(28 вместо 30). Посчитаем среднее количесво дней и отклонение от среднего."
   ]
  },
  {
   "cell_type": "code",
   "execution_count": 55,
   "id": "73238558-bfc4-40e1-9ae4-c44fd4a104cc",
   "metadata": {},
   "outputs": [
    {
     "name": "stdout",
     "output_type": "stream",
     "text": [
      "Среднее количество дней в месяцах: 29.75\n",
      "Отклонение в августе: 0.84%\n",
      "Отклонение в ноябре: 5.88%\n"
     ]
    }
   ],
   "source": [
    "# Определяем полный диапазон дней в месяцах\n",
    "months = ['Август', 'Сентябрь', 'Октябрь', 'Ноябрь']\n",
    "days_in_months = {'Август': 30, 'Сентябрь': 30, 'Октябрь': 31, 'Ноябрь': 28}\n",
    "\n",
    "# Подсчёт общего количества дней\n",
    "total_days = sum(days_in_months.values())   # минус три дня (один в августе и два в ноябре)\n",
    "num_months = len(months)\n",
    "\n",
    "# Рассчитываем среднее количество дней\n",
    "average_days_per_month = total_days / num_months\n",
    "print(f\"Среднее количество дней в месяцах: {average_days_per_month:.2f}\")\n",
    "\n",
    "august_days = days_in_months['Август']  # количество дней в августе\n",
    "november_days = days_in_months['Ноябрь']  # количество дней в ноябре\n",
    "\n",
    "# Расчет процентов отклонения\n",
    "deviation_august_percent = abs(august_days - average_days_per_month) / average_days_per_month * 100\n",
    "deviation_november_percent = abs(november_days - average_days_per_month) / average_days_per_month * 100\n",
    "\n",
    "# Вывод результатов\n",
    "print(f\"Отклонение в августе: {deviation_august_percent:.2f}%\")\n",
    "print(f\"Отклонение в ноябре: {deviation_november_percent:.2f}%\")"
   ]
  },
  {
   "cell_type": "markdown",
   "id": "74043b62-5559-4c96-8c12-463ac4c979d5",
   "metadata": {},
   "source": [
    "Отклонение в августе несущественное. В ноябре чуть больше. Учитывая что мы ниже выяснили, что самый большой трафик приходится на ноябрь, не стоит ноябрьские данные редактировать(урезать), так как мы можем потерять ценную информацию для принятия решения по переводу клиентов на новый тариф."
   ]
  },
  {
   "cell_type": "code",
   "execution_count": 57,
   "id": "9ad5f4af-8f08-4c02-9836-0ae44334d041",
   "metadata": {},
   "outputs": [
    {
     "data": {
      "image/png": "[encoded data removed]",
      "text/plain": [
       "<Figure size 1400x1000 with 1 Axes>"
      ]
     },
     "metadata": {},
     "output_type": "display_data"
    }
   ],
   "source": [
    "import numpy as np\n",
    "import pandas as pd\n",
    "import matplotlib.pyplot as plt\n",
    "\n",
    "# Предположим, что ваша таблица выглядит примерно так:\n",
    "telecom_calls_sum_by_date = telecom.pivot_table(index=['date'], values='calls_count', aggfunc='sum').reset_index()\n",
    "\n",
    "# Конвертируем даты в целочисленные значения (нужны для расчета тренда)\n",
    "dates_numeric = (pd.to_datetime(telecom_calls_sum_by_date['date']) - pd.to_datetime(telecom_calls_sum_by_date['date'][0])).dt.days.values\n",
    "\n",
    "# Рассчитываем коэффициенты прямой (линейной модели)\n",
    "coefficients = np.polyfit(dates_numeric, telecom_calls_sum_by_date['calls_count'], 1)\n",
    "polynomial = np.poly1d(coefficients)\n",
    "\n",
    "# Строим сами данные\n",
    "plt.figure(figsize=(14, 10))\n",
    "plt.bar(telecom_calls_sum_by_date['date'], telecom_calls_sum_by_date['calls_count'], label='Фактические данные')\n",
    "\n",
    "# Линия тренда строится сверху графиков\n",
    "line_trend = polynomial(dates_numeric)\n",
    "plt.plot(telecom_calls_sum_by_date['date'], line_trend, color='red', linewidth=3, label='Линия тренда')\n",
    "\n",
    "# Описание элементов графика\n",
    "plt.xlabel('Даты', fontsize=12)\n",
    "plt.ylabel('Количество звонков', fontsize=12)\n",
    "plt.title('График распределения количества звонков по датам с линией тренда', fontsize=14)\n",
    "plt.grid(True)\n",
    "plt.legend()  # добавляем легенду\n",
    "plt.show()"
   ]
  },
  {
   "cell_type": "markdown",
   "id": "0af49ae0-a250-4434-9396-efd5e44cabbb",
   "metadata": {},
   "source": [
    "Количество звонков растет от месяца к месяцу. Бизнес развивается. Провалы - это выходные."
   ]
  },
  {
   "cell_type": "markdown",
   "id": "9ebfa87c-d3cf-404a-8ba6-ba77f3578b49",
   "metadata": {},
   "source": [
    "### Посмотрим соотношение входящих и исходящих звонков"
   ]
  },
  {
   "cell_type": "code",
   "execution_count": 60,
   "id": "36f93c8d-f770-4810-a3ed-2a00aa6b32f3",
   "metadata": {},
   "outputs": [
    {
     "data": {
      "text/html": [
       "<div>\n",
       "<style scoped>\n",
       "    .dataframe tbody tr th:only-of-type {\n",
       "        vertical-align: middle;\n",
       "    }\n",
       "\n",
       "    .dataframe tbody tr th {\n",
       "        vertical-align: top;\n",
       "    }\n",
       "\n",
       "    .dataframe thead th {\n",
       "        text-align: right;\n",
       "    }\n",
       "</style>\n",
       "<table border=\"1\" class=\"dataframe\">\n",
       "  <thead>\n",
       "    <tr style=\"text-align: right;\">\n",
       "      <th></th>\n",
       "      <th>direction</th>\n",
       "      <th>count</th>\n",
       "    </tr>\n",
       "  </thead>\n",
       "  <tbody>\n",
       "    <tr>\n",
       "      <th>0</th>\n",
       "      <td>out</td>\n",
       "      <td>28997</td>\n",
       "    </tr>\n",
       "    <tr>\n",
       "      <th>1</th>\n",
       "      <td>in</td>\n",
       "      <td>19895</td>\n",
       "    </tr>\n",
       "  </tbody>\n",
       "</table>\n",
       "</div>"
      ],
      "text/plain": [
       "  direction  count\n",
       "0       out  28997\n",
       "1        in  19895"
      ]
     },
     "execution_count": 60,
     "metadata": {},
     "output_type": "execute_result"
    }
   ],
   "source": [
    "telecom_in_out_calls = (\n",
    "    telecom\n",
    "    .groupby('direction')['direction']     # Группировка по типу и подсчет типов\n",
    "    .count()                      # Считаем количество звонков в каждом типе\n",
    "    .sort_values(ascending=False) # Сортируем по убыванию количества звонков\n",
    "    .reset_index(name='count')    # Преобразуем индекс обратно в колонку\n",
    ")\n",
    "\n",
    "# Выводим итоговую таблицу\n",
    "telecom_in_out_calls"
   ]
  },
  {
   "cell_type": "code",
   "execution_count": 61,
   "id": "cc816b42-9556-4463-bfbb-f2e2716a6a85",
   "metadata": {},
   "outputs": [
    {
     "data": {
      "image/png": "[encoded data removed]",
      "text/plain": [
       "<Figure size 1200x800 with 1 Axes>"
      ]
     },
     "metadata": {},
     "output_type": "display_data"
    }
   ],
   "source": [
    "# Создание круговой диаграммы распределения игр по типам\n",
    "telecom_in_out_calls.plot(\n",
    "    kind='pie',            # Тип графика - круговая диаграмма\n",
    "    y='count',              # Столбец для отображения долей\n",
    "    autopct='%1.1f%%',     # Формат процентов с одним знаком после запятой\n",
    "    labels=telecom['direction'],  # Метки для типов\n",
    "    figsize=(12, 8),      # Размеры графика\n",
    "    title='Распределение звонков по типам'    # Название графика\n",
    ")\n",
    "\n",
    "# Удаляем подпись оси Y\n",
    "plt.ylabel('')\n",
    "\n",
    "# Отображение графика\n",
    "plt.show()"
   ]
  },
  {
   "cell_type": "markdown",
   "id": "f3eec202-24b1-4fcd-917b-6e70f0323b70",
   "metadata": {},
   "source": [
    "Распределение примерно одинаковое. При этом, входящих звонков больше. Они бесплатные. Но клиенты, которые используют только входящие звонки, платят ежемесячную абонентскую плату плюс за каждого оператора. Их удалаять нельзя."
   ]
  },
  {
   "cell_type": "markdown",
   "id": "b331e2be-cd4a-480d-9665-40de09100ed9",
   "metadata": {},
   "source": [
    "### Посчитаем количество пропущенных звонков"
   ]
  },
  {
   "cell_type": "code",
   "execution_count": 64,
   "id": "4e708c4c-6db5-4cee-b808-c2aaad4d2682",
   "metadata": {},
   "outputs": [
    {
     "data": {
      "text/html": [
       "<div>\n",
       "<style scoped>\n",
       "    .dataframe tbody tr th:only-of-type {\n",
       "        vertical-align: middle;\n",
       "    }\n",
       "\n",
       "    .dataframe tbody tr th {\n",
       "        vertical-align: top;\n",
       "    }\n",
       "\n",
       "    .dataframe thead th {\n",
       "        text-align: right;\n",
       "    }\n",
       "</style>\n",
       "<table border=\"1\" class=\"dataframe\">\n",
       "  <thead>\n",
       "    <tr style=\"text-align: right;\">\n",
       "      <th></th>\n",
       "      <th>is_missed_call</th>\n",
       "      <th>count</th>\n",
       "    </tr>\n",
       "  </thead>\n",
       "  <tbody>\n",
       "    <tr>\n",
       "      <th>0</th>\n",
       "      <td>False</td>\n",
       "      <td>27495</td>\n",
       "    </tr>\n",
       "    <tr>\n",
       "      <th>1</th>\n",
       "      <td>True</td>\n",
       "      <td>21397</td>\n",
       "    </tr>\n",
       "  </tbody>\n",
       "</table>\n",
       "</div>"
      ],
      "text/plain": [
       "   is_missed_call  count\n",
       "0           False  27495\n",
       "1            True  21397"
      ]
     },
     "execution_count": 64,
     "metadata": {},
     "output_type": "execute_result"
    }
   ],
   "source": [
    "telecom_is_missed_call = (\n",
    "    telecom\n",
    "    .groupby('is_missed_call')['is_missed_call']     # Группировка по типу звонка и подсчет количества\n",
    "    .count()                      # Считаем количество звонков по каждому типу\n",
    "    .sort_values(ascending=False) # Сортируем по убыванию количества\n",
    "    .reset_index(name='count')    # Преобразуем индекс обратно в колонку\n",
    ")\n",
    "\n",
    "# Выводим итоговую таблицу\n",
    "telecom_is_missed_call"
   ]
  },
  {
   "cell_type": "code",
   "execution_count": 65,
   "id": "1e729306-1ab5-4561-962e-71af4441aa45",
   "metadata": {},
   "outputs": [
    {
     "data": {
      "image/png": "[encoded data removed]",
      "text/plain": [
       "<Figure size 1200x800 with 1 Axes>"
      ]
     },
     "metadata": {},
     "output_type": "display_data"
    }
   ],
   "source": [
    "# Создание круговой диаграммы распределения звонков на пропущенные и отвеченные\n",
    "telecom_is_missed_call.plot(\n",
    "    kind='pie',            # Тип графика - круговая диаграмма\n",
    "    y='count',              # Столбец для отображения долей\n",
    "    autopct='%1.1f%%',     # Формат процентов с одним знаком после запятой\n",
    "    labels=telecom_is_missed_call['is_missed_call'],  # Метки для секторов\n",
    "    figsize=(12, 8),      # Размеры графика\n",
    "    title='Распределение исход. звонков на пропущенные и отвеченные '    # Название графика\n",
    ")\n",
    "\n",
    "# Удаляем подпись оси Y\n",
    "plt.ylabel('')\n",
    "\n",
    "# Отображение графика\n",
    "plt.show()"
   ]
  },
  {
   "cell_type": "markdown",
   "id": "977ea55c-63e3-47e1-8d9c-13da188677d9",
   "metadata": {},
   "source": [
    "Довольно много пропущенных вызовов(43.8%). Они нам не нужны для дальнейших расчетов. Удалим их."
   ]
  },
  {
   "cell_type": "code",
   "execution_count": 67,
   "id": "ceca21e0-2294-499d-8eef-21870a49c5f5",
   "metadata": {},
   "outputs": [
    {
     "name": "stdout",
     "output_type": "stream",
     "text": [
      "<class 'pandas.core.frame.DataFrame'>\n",
      "Index: 27495 entries, 3 to 48890\n",
      "Data columns (total 13 columns):\n",
      " #   Column               Non-Null Count  Dtype         \n",
      "---  ------               --------------  -----         \n",
      " 0   user_id              27495 non-null  int64         \n",
      " 1   date                 27495 non-null  datetime64[ns]\n",
      " 2   direction            27495 non-null  object        \n",
      " 3   internal             27495 non-null  bool          \n",
      " 4   operator_id          27495 non-null  int32         \n",
      " 5   is_missed_call       27495 non-null  bool          \n",
      " 6   calls_count          27495 non-null  int64         \n",
      " 7   call_duration        27495 non-null  int64         \n",
      " 8   total_call_duration  27495 non-null  int64         \n",
      " 9   tariff_plan          27495 non-null  object        \n",
      " 10  date_start           27495 non-null  datetime64[ns]\n",
      " 11  cur_monthly_fee      27495 non-null  int64         \n",
      " 12  month                27495 non-null  int32         \n",
      "dtypes: bool(2), datetime64[ns](2), int32(2), int64(5), object(2)\n",
      "memory usage: 2.4+ MB\n"
     ]
    }
   ],
   "source": [
    "filtered_telecom_one = telecom.query('is_missed_call == False')\n",
    "\n",
    "# Выводим общую информацию\n",
    "filtered_telecom_one.info()"
   ]
  },
  {
   "cell_type": "markdown",
   "id": "a11e4647-4866-450b-acfd-201868c5f5e9",
   "metadata": {},
   "source": [
    "### Проанализируем общее количество звонков среди клиентов"
   ]
  },
  {
   "cell_type": "code",
   "execution_count": 258,
   "id": "e52ef68f-5e8c-4529-86c8-e2d356f90e64",
   "metadata": {},
   "outputs": [
    {
     "data": {
      "image/png": "[encoded data removed]",
      "text/plain": [
       "<Figure size 1200x600 with 1 Axes>"
      ]
     },
     "metadata": {},
     "output_type": "display_data"
    }
   ],
   "source": [
    "# Формирование свода данных\n",
    "telecom_calls_sum = filtered_telecom_one.pivot_table(index=['user_id'], values='calls_count', aggfunc='sum').reset_index()\n",
    "\n",
    "# Настройка стиля графика\n",
    "sns.set_style(\"whitegrid\")\n",
    "\n",
    "# Создание графика\n",
    "fig, ax = plt.subplots(figsize=(12, 6))  # Увеличенный размер окна\n",
    "\n",
    "# Plot с использованием Seaborn\n",
    "sns.scatterplot(x=\"user_id\", y=\"calls_count\", data=telecom_calls_sum, s=100, alpha=0.7)\n",
    "\n",
    "# Заголовок и метки осей\n",
    "ax.set_title('Распределение пользователей по количеству звонков', fontsize=16)\n",
    "ax.set_xlabel('Пользователи', fontsize=14)\n",
    "ax.set_ylabel('Количество звонков', fontsize=14)\n",
    "\n",
    "# Сохранение фигуры\n",
    "plt.tight_layout()\n",
    "plt.show()"
   ]
  },
  {
   "cell_type": "code",
   "execution_count": 70,
   "id": "7ab3de74-0bb7-4231-a0c3-4fb0236e9ace",
   "metadata": {},
   "outputs": [
    {
     "name": "stdout",
     "output_type": "stream",
     "text": [
      "<class 'pandas.core.frame.DataFrame'>\n",
      "RangeIndex: 287 entries, 0 to 286\n",
      "Data columns (total 2 columns):\n",
      " #   Column       Non-Null Count  Dtype\n",
      "---  ------       --------------  -----\n",
      " 0   user_id      287 non-null    int64\n",
      " 1   calls_count  287 non-null    int64\n",
      "dtypes: int64(2)\n",
      "memory usage: 4.6 KB\n"
     ]
    }
   ],
   "source": [
    "# Выведем общую информацию\n",
    "telecom_calls_sum.info()"
   ]
  },
  {
   "cell_type": "code",
   "execution_count": 71,
   "id": "5f079778-626c-49d0-9034-f61b2d5d1f58",
   "metadata": {},
   "outputs": [
    {
     "data": {
      "text/plain": [
       "count      287.0\n",
       "mean      1500.8\n",
       "std       6106.7\n",
       "min          1.0\n",
       "25%         21.5\n",
       "50%        140.0\n",
       "75%        869.5\n",
       "max      83276.0\n",
       "Name: calls_count, dtype: float64"
      ]
     },
     "execution_count": 71,
     "metadata": {},
     "output_type": "execute_result"
    }
   ],
   "source": [
    "# Выведем основные статистические характеристики\n",
    "round(telecom_calls_sum['calls_count'].describe(),1)"
   ]
  },
  {
   "cell_type": "markdown",
   "id": "a89fbf94-870e-4e9b-b350-71c9dccf5035",
   "metadata": {},
   "source": [
    "В 75% случаях на одного клиента приходится до 869 звонка. Имеется большое количество выбросов. Самое большое количество - 83,276 звонков. Для фильтрации определим границы: нижняя граница - 1-й процентиль(0.01), верхняя граница - 99-й процентиль(0.99). Такой подход оставляет ещё меньше экстремумов, оставляя лишь самые центрированные данные."
   ]
  },
  {
   "cell_type": "code",
   "execution_count": 73,
   "id": "f0ac3588-b151-4625-baca-b34e068c07a9",
   "metadata": {},
   "outputs": [
    {
     "name": "stdout",
     "output_type": "stream",
     "text": [
      "<class 'pandas.core.frame.DataFrame'>\n",
      "Index: 284 entries, 0 to 286\n",
      "Data columns (total 2 columns):\n",
      " #   Column       Non-Null Count  Dtype\n",
      "---  ------       --------------  -----\n",
      " 0   user_id      284 non-null    int64\n",
      " 1   calls_count  284 non-null    int64\n",
      "dtypes: int64(2)\n",
      "memory usage: 6.7 KB\n"
     ]
    }
   ],
   "source": [
    "# Определение нижнего и верхнего квантилей (1% и 99%)\n",
    "q_low = telecom_calls_sum['calls_count'].quantile(0.01)\n",
    "q_high = telecom_calls_sum['calls_count'].quantile(0.99)\n",
    "\n",
    "# Фильтрация данных: остаются только те, кто попадает в указанный диапазон\n",
    "telecom_calls_sum_filtered = telecom_calls_sum[(telecom_calls_sum['calls_count'] >= q_low) & (telecom_calls_sum['calls_count'] <= q_high)]\n",
    "\n",
    "# Вывод общей информации\n",
    "telecom_calls_sum_filtered.info()"
   ]
  },
  {
   "cell_type": "code",
   "execution_count": 74,
   "id": "40babfdb-b553-4dbc-b6dd-98a1070a4776",
   "metadata": {},
   "outputs": [
    {
     "data": {
      "text/plain": [
       "count      284.0\n",
       "mean       957.0\n",
       "std       2104.6\n",
       "min          1.0\n",
       "25%         20.8\n",
       "50%        138.0\n",
       "75%        782.5\n",
       "max      15852.0\n",
       "Name: calls_count, dtype: float64"
      ]
     },
     "execution_count": 74,
     "metadata": {},
     "output_type": "execute_result"
    }
   ],
   "source": [
    "# Выведем основные статистические характеристики\n",
    "round(telecom_calls_sum_filtered['calls_count'].describe(),1)"
   ]
  },
  {
   "cell_type": "code",
   "execution_count": 75,
   "id": "36b5353c-4138-4996-9995-41d3ac6cab99",
   "metadata": {},
   "outputs": [
    {
     "name": "stdout",
     "output_type": "stream",
     "text": [
      "<class 'pandas.core.frame.DataFrame'>\n",
      "Index: 26022 entries, 3 to 48890\n",
      "Data columns (total 13 columns):\n",
      " #   Column               Non-Null Count  Dtype         \n",
      "---  ------               --------------  -----         \n",
      " 0   user_id              26022 non-null  int64         \n",
      " 1   date                 26022 non-null  datetime64[ns]\n",
      " 2   direction            26022 non-null  object        \n",
      " 3   internal             26022 non-null  bool          \n",
      " 4   operator_id          26022 non-null  int32         \n",
      " 5   is_missed_call       26022 non-null  bool          \n",
      " 6   calls_count          26022 non-null  int64         \n",
      " 7   call_duration        26022 non-null  int64         \n",
      " 8   total_call_duration  26022 non-null  int64         \n",
      " 9   tariff_plan          26022 non-null  object        \n",
      " 10  date_start           26022 non-null  datetime64[ns]\n",
      " 11  cur_monthly_fee      26022 non-null  int64         \n",
      " 12  month                26022 non-null  int32         \n",
      "dtypes: bool(2), datetime64[ns](2), int32(2), int64(5), object(2)\n",
      "memory usage: 2.2+ MB\n"
     ]
    }
   ],
   "source": [
    "# Фильтрация telecom по списку операторов из telecom_calls_sum_filtered\n",
    "filtered_telecom_two = filtered_telecom_one[\n",
    "    filtered_telecom_one['user_id'].isin(telecom_calls_sum_filtered['user_id'])\n",
    "]\n",
    "\n",
    "# Просмотр первых нескольких строк нового фильтрационного набора\n",
    "filtered_telecom_two.info()"
   ]
  },
  {
   "cell_type": "code",
   "execution_count": 76,
   "id": "470bd38a-b843-4844-988b-44789be0e483",
   "metadata": {},
   "outputs": [
    {
     "name": "stdout",
     "output_type": "stream",
     "text": [
      "Количество строк отфильтрованного датафрейма на 5.36% меньше датафрейма до фильтрации.\n"
     ]
    }
   ],
   "source": [
    "# Получаем количество строк в каждом датафрейме\n",
    "rows_filtered_telecom_one = len(filtered_telecom_one)\n",
    "rows_filtered_telecom_two = len(filtered_telecom_two)\n",
    "\n",
    "# Определяем больший и меньший датафреймы\n",
    "bigger_rows = max(rows_filtered_telecom_one, rows_filtered_telecom_two)\n",
    "smaller_rows = min(rows_filtered_telecom_one, rows_filtered_telecom_two)\n",
    "\n",
    "# Вычисляем процент\n",
    "percentage_difference = (1-smaller_rows / bigger_rows) * 100\n",
    "\n",
    "# Выводим результат\n",
    "print(f\"Количество строк отфильтрованного датафрейма на {percentage_difference:.2f}% меньше датафрейма до фильтрации.\")"
   ]
  },
  {
   "cell_type": "markdown",
   "id": "4d75df2b-7131-4fb6-b1f1-7508292585ef",
   "metadata": {},
   "source": [
    "Мы отфильтровали датасет по количеству звонков: убрали всех клиентов(5.36% от всех записей), у которых суммарное количество звонков больше 15,852 штук."
   ]
  },
  {
   "cell_type": "markdown",
   "id": "4009713f-f579-4242-a347-80d47e89cce7",
   "metadata": {},
   "source": [
    "### Проанализируем общую длительность звонков"
   ]
  },
  {
   "cell_type": "code",
   "execution_count": 260,
   "id": "8b716f32-9f39-4f06-8dad-a0d12b56c3f8",
   "metadata": {},
   "outputs": [
    {
     "data": {
      "image/png": "[encoded data removed]",
      "text/plain": [
       "<Figure size 1200x600 with 1 Axes>"
      ]
     },
     "metadata": {},
     "output_type": "display_data"
    }
   ],
   "source": [
    "# Формирование свода данных\n",
    "telecom_hours = filtered_telecom_two.pivot_table(\n",
    "    index=['user_id'],\n",
    "    values='total_call_duration',\n",
    "    aggfunc='sum'  # агрегирующая функция - суммируем total_call_duration\n",
    ").reset_index()\n",
    "\n",
    "# Настройка стиля графика\n",
    "sns.set_style(\"whitegrid\")\n",
    "\n",
    "# Создание графика\n",
    "fig, ax = plt.subplots(figsize=(12, 6))  # Увеличенный размер окна\n",
    "\n",
    "# Plot с использованием Seaborn\n",
    "sns.scatterplot(x=\"user_id\", y=\"total_call_duration\", data=telecom_hours, s=100, alpha=0.7)\n",
    "\n",
    "# Заголовок и метки осей\n",
    "ax.set_title('Общая продолжительность звонков среди операторов', fontsize=16)\n",
    "ax.set_xlabel('Пользователи', fontsize=14)\n",
    "ax.set_ylabel('Длительность звонков(мин.)', fontsize=14)\n",
    "\n",
    "# Сохранение фигуры\n",
    "plt.tight_layout()\n",
    "plt.show()"
   ]
  },
  {
   "cell_type": "code",
   "execution_count": 80,
   "id": "1610c27d-d5b3-4c34-9e37-1b30b088f842",
   "metadata": {},
   "outputs": [
    {
     "name": "stdout",
     "output_type": "stream",
     "text": [
      "<class 'pandas.core.frame.DataFrame'>\n",
      "RangeIndex: 284 entries, 0 to 283\n",
      "Data columns (total 2 columns):\n",
      " #   Column               Non-Null Count  Dtype\n",
      "---  ------               --------------  -----\n",
      " 0   user_id              284 non-null    int64\n",
      " 1   total_call_duration  284 non-null    int64\n",
      "dtypes: int64(2)\n",
      "memory usage: 4.6 KB\n"
     ]
    }
   ],
   "source": [
    "telecom_hours.info()"
   ]
  },
  {
   "cell_type": "code",
   "execution_count": 81,
   "id": "5d93b702-e3c3-4636-80a0-6e8f79d7e3d7",
   "metadata": {},
   "outputs": [
    {
     "data": {
      "text/plain": [
       "count        284.0\n",
       "mean      106399.6\n",
       "std       255534.7\n",
       "min           11.0\n",
       "25%         2223.8\n",
       "50%        14182.5\n",
       "75%        89833.5\n",
       "max      2467500.0\n",
       "Name: total_call_duration, dtype: float64"
      ]
     },
     "execution_count": 81,
     "metadata": {},
     "output_type": "execute_result"
    }
   ],
   "source": [
    "round(telecom_hours['total_call_duration'].describe(),1)"
   ]
  },
  {
   "cell_type": "markdown",
   "id": "1ceee00f-d0dd-4632-84ee-6587e83b222f",
   "metadata": {},
   "source": [
    "75% пользователей имеют общую длительность звонков до 89,833 минут. Имеется большое количество выбросов. Максимальная длительность звонков у одного пользователя - 646,593 минут. Для фильтрации определим границы: нижняя граница - 1-й процентиль(0.005), верхняя граница - 99-й процентиль(0.995). "
   ]
  },
  {
   "cell_type": "code",
   "execution_count": 83,
   "id": "0289c0c4-7aa1-4b47-b139-9eeaacc8ab8e",
   "metadata": {},
   "outputs": [
    {
     "name": "stdout",
     "output_type": "stream",
     "text": [
      "<class 'pandas.core.frame.DataFrame'>\n",
      "Index: 280 entries, 0 to 283\n",
      "Data columns (total 2 columns):\n",
      " #   Column               Non-Null Count  Dtype\n",
      "---  ------               --------------  -----\n",
      " 0   user_id              280 non-null    int64\n",
      " 1   total_call_duration  280 non-null    int64\n",
      "dtypes: int64(2)\n",
      "memory usage: 6.6 KB\n"
     ]
    }
   ],
   "source": [
    "# Определение нижнего и верхнего квантилей (0.5% и 99.5%)\n",
    "q_low_two = telecom_hours['total_call_duration'].quantile(0.005)\n",
    "q_high_two = telecom_hours['total_call_duration'].quantile(0.995)\n",
    "\n",
    "# Фильтрация данных: остаются только те, кто попадает в указанный диапазон\n",
    "telecom_hours_filtered = telecom_hours[(telecom_hours['total_call_duration'] >= q_low_two) & (telecom_hours['total_call_duration'] <= q_high_two)]\n",
    "\n",
    "# Вывод общей информации\n",
    "telecom_hours_filtered.info()"
   ]
  },
  {
   "cell_type": "code",
   "execution_count": 84,
   "id": "0dae2dc8-210e-4cba-89f0-e0022569008f",
   "metadata": {},
   "outputs": [
    {
     "name": "stdout",
     "output_type": "stream",
     "text": [
      "<class 'pandas.core.frame.DataFrame'>\n",
      "Index: 24419 entries, 3 to 48890\n",
      "Data columns (total 13 columns):\n",
      " #   Column               Non-Null Count  Dtype         \n",
      "---  ------               --------------  -----         \n",
      " 0   user_id              24419 non-null  int64         \n",
      " 1   date                 24419 non-null  datetime64[ns]\n",
      " 2   direction            24419 non-null  object        \n",
      " 3   internal             24419 non-null  bool          \n",
      " 4   operator_id          24419 non-null  int32         \n",
      " 5   is_missed_call       24419 non-null  bool          \n",
      " 6   calls_count          24419 non-null  int64         \n",
      " 7   call_duration        24419 non-null  int64         \n",
      " 8   total_call_duration  24419 non-null  int64         \n",
      " 9   tariff_plan          24419 non-null  object        \n",
      " 10  date_start           24419 non-null  datetime64[ns]\n",
      " 11  cur_monthly_fee      24419 non-null  int64         \n",
      " 12  month                24419 non-null  int32         \n",
      "dtypes: bool(2), datetime64[ns](2), int32(2), int64(5), object(2)\n",
      "memory usage: 2.1+ MB\n"
     ]
    }
   ],
   "source": [
    "# Фильтрация telecom по списку операторов из telecom_calls_sum_filtered\n",
    "filtered_telecom_three = filtered_telecom_two[\n",
    "    filtered_telecom_two['user_id'].isin(telecom_hours_filtered['user_id'])\n",
    "]\n",
    "\n",
    "# Просмотр первых нескольких строк нового фильтрационного набора\n",
    "filtered_telecom_three.info()"
   ]
  },
  {
   "cell_type": "code",
   "execution_count": 85,
   "id": "994ddfb5-ed16-4648-a99d-a45787eab353",
   "metadata": {},
   "outputs": [
    {
     "name": "stdout",
     "output_type": "stream",
     "text": [
      "Количество строк отфильтрованного датафрейма на 6.16% меньше датафрейма до фильтрации.\n"
     ]
    }
   ],
   "source": [
    "# Получаем количество строк в каждом датафрейме\n",
    "rows_filtered_telecom_three = len(filtered_telecom_three)\n",
    "\n",
    "# Определяем больший и меньший датафреймы\n",
    "bigger_rows = max(rows_filtered_telecom_two, rows_filtered_telecom_three)\n",
    "smaller_rows = min(rows_filtered_telecom_two, rows_filtered_telecom_three)\n",
    "\n",
    "# Вычисляем процент\n",
    "percentage_difference = (1-smaller_rows / bigger_rows) * 100\n",
    "\n",
    "# Выводим результат\n",
    "print(f\"Количество строк отфильтрованного датафрейма на {percentage_difference:.2f}% меньше датафрейма до фильтрации.\")"
   ]
  },
  {
   "cell_type": "markdown",
   "id": "11069f15-100a-4351-a7aa-19e527dc83b8",
   "metadata": {},
   "source": [
    "### Проанализируем количество исходящих звонков по месяцам"
   ]
  },
  {
   "cell_type": "code",
   "execution_count": 87,
   "id": "3cf68d6f-c4ef-45d2-ab82-6221b5bd8953",
   "metadata": {},
   "outputs": [
    {
     "data": {
      "image/png": "[encoded data removed]",
      "text/plain": [
       "<Figure size 1000x600 with 1 Axes>"
      ]
     },
     "metadata": {},
     "output_type": "display_data"
    }
   ],
   "source": [
    "# Заводим константу\n",
    "CONSTANT_TWO = 2\n",
    "\n",
    "outgoing_internal_and_external_calls_monthly = filtered_telecom_three.pivot_table(\n",
    "    index=['month','internal'],\n",
    "    values='calls_count',\n",
    "    aggfunc='count'  # агрегирующая функция - суммируем total_call_duration\n",
    ").reset_index()\n",
    "\n",
    "months = outgoing_internal_and_external_calls_monthly['month'].unique()\n",
    "out_internal = outgoing_internal_and_external_calls_monthly.loc[outgoing_internal_and_external_calls_monthly['internal'] == True]['calls_count']\n",
    "out_external = outgoing_internal_and_external_calls_monthly.loc[outgoing_internal_and_external_calls_monthly['internal'] == False]['calls_count']\n",
    "\n",
    "x = range(len(months))\n",
    "width = 0.35  # Ширина столбиков\n",
    "\n",
    "fig, ax = plt.subplots(figsize=(10, 6))\n",
    "\n",
    "ax.bar(x, out_internal, width=width, label='out_internal', color='skyblue')\n",
    "ax.bar([i + width for i in x], out_external, width=width, label='out_external', color='salmon')\n",
    "\n",
    "ax.set_xlabel('Месяц')\n",
    "ax.set_ylabel('Кол-во звонков')\n",
    "ax.set_title('Количество исходящих звонков за каждый месяц')\n",
    "ax.set_xticks([i + width / CONSTANT_TWO for i in x])\n",
    "ax.set_xticklabels(months)\n",
    "ax.legend()\n",
    "\n",
    "plt.show()"
   ]
  },
  {
   "cell_type": "markdown",
   "id": "9a248c92-5f1a-4d42-8ebf-0fbf633e57c1",
   "metadata": {},
   "source": [
    "Количество исходящих звонков(внутри и вне сети) постоянно растет. Резкий рост замедляется на 4-м месяце. Доля исходящих звонков внутри сети незначительная."
   ]
  },
  {
   "cell_type": "markdown",
   "id": "2c123781-3268-4ec7-b10a-410a4bbf5010",
   "metadata": {},
   "source": [
    "### Проанализируем общую продолжительность исходящих звонков по месяцам"
   ]
  },
  {
   "cell_type": "code",
   "execution_count": 90,
   "id": "51469885-ed89-4bfe-a077-db9e11818440",
   "metadata": {},
   "outputs": [
    {
     "data": {
      "image/png": "[encoded data removed]",
      "text/plain": [
       "<Figure size 1000x600 with 1 Axes>"
      ]
     },
     "metadata": {},
     "output_type": "display_data"
    }
   ],
   "source": [
    "# Строим таблицу с общей продолжительностью звонков по месяцам и типу звонка\n",
    "outgoing_internal_and_external_calls_total_duration_monthly = filtered_telecom_three.pivot_table(\n",
    "    index=['month', 'internal'],\n",
    "    values='total_call_duration',\n",
    "    aggfunc='sum'\n",
    ").reset_index()\n",
    "\n",
    "# Получаем список уникальных месяцев\n",
    "months = outgoing_internal_and_external_calls_total_duration_monthly['month'].unique()\n",
    "\n",
    "# Извлекаем данные по внутреннему и внешнему направлению звонков\n",
    "out_internal = outgoing_internal_and_external_calls_total_duration_monthly.query(\"internal == True\").set_index('month')['total_call_duration']\n",
    "out_external = outgoing_internal_and_external_calls_total_duration_monthly.query(\"internal == False\").set_index('month')['total_call_duration']\n",
    "\n",
    "# Определяем ширину столбиков\n",
    "x = range(len(months))\n",
    "width = 0.35\n",
    "\n",
    "# Создаем фигуру и ось\n",
    "fig, ax = plt.subplots(figsize=(10, 6))\n",
    "\n",
    "# Рисуем столбики\n",
    "ax.bar(x, out_internal, width=width, label='Внутренние звонки', color='skyblue')\n",
    "ax.bar([i + width for i in x], out_external, width=width, label='Внешние звонки', color='salmon')\n",
    "\n",
    "# Подписываем оси и добавляем заголовок\n",
    "ax.set_xlabel('Месяц')\n",
    "ax.set_ylabel('Минуты')  # Исправили название оси Y\n",
    "ax.set_title('Общая продолжительность исходящих разговоров за каждый месяц')\n",
    "\n",
    "# Устанавливаем метки месяцев на оси X\n",
    "ax.set_xticks([i + width / CONSTANT_TWO for i in x])\n",
    "ax.set_xticklabels(months)\n",
    "\n",
    "# Отображаем легенду\n",
    "ax.legend()\n",
    "\n",
    "# Показываем график\n",
    "plt.show()"
   ]
  },
  {
   "cell_type": "markdown",
   "id": "29e5de4e-de74-4df2-a571-93a81e38985d",
   "metadata": {},
   "source": [
    "Аналогичная ситуация на этом графике: каждый месяц имеется значительный прирост. Рост замедляется(стабилизируется) на 4-м месяце. Доля звонков внутри сети минимальная."
   ]
  },
  {
   "cell_type": "markdown",
   "id": "f8673da5-6860-4208-b86a-bba3b88c2f01",
   "metadata": {},
   "source": [
    "### Построим график распределения абонентов по тарифным планам помесячно"
   ]
  },
  {
   "cell_type": "code",
   "execution_count": 93,
   "id": "c88de0fb-8bc0-40a2-b0e4-7be854402ec1",
   "metadata": {},
   "outputs": [
    {
     "data": {
      "text/html": [
       "<div>\n",
       "<style scoped>\n",
       "    .dataframe tbody tr th:only-of-type {\n",
       "        vertical-align: middle;\n",
       "    }\n",
       "\n",
       "    .dataframe tbody tr th {\n",
       "        vertical-align: top;\n",
       "    }\n",
       "\n",
       "    .dataframe thead th {\n",
       "        text-align: right;\n",
       "    }\n",
       "</style>\n",
       "<table border=\"1\" class=\"dataframe\">\n",
       "  <thead>\n",
       "    <tr style=\"text-align: right;\">\n",
       "      <th></th>\n",
       "      <th>month</th>\n",
       "      <th>tariff_plan</th>\n",
       "      <th>count</th>\n",
       "    </tr>\n",
       "  </thead>\n",
       "  <tbody>\n",
       "    <tr>\n",
       "      <th>0</th>\n",
       "      <td>8</td>\n",
       "      <td>A</td>\n",
       "      <td>8</td>\n",
       "    </tr>\n",
       "    <tr>\n",
       "      <th>1</th>\n",
       "      <td>8</td>\n",
       "      <td>B</td>\n",
       "      <td>25</td>\n",
       "    </tr>\n",
       "    <tr>\n",
       "      <th>2</th>\n",
       "      <td>8</td>\n",
       "      <td>C</td>\n",
       "      <td>30</td>\n",
       "    </tr>\n",
       "  </tbody>\n",
       "</table>\n",
       "</div>"
      ],
      "text/plain": [
       "   month tariff_plan  count\n",
       "0      8           A      8\n",
       "1      8           B     25\n",
       "2      8           C     30"
      ]
     },
     "execution_count": 93,
     "metadata": {},
     "output_type": "execute_result"
    }
   ],
   "source": [
    "# Выделяем уникальные комбинации месяца, тарифного плана и идентификатора пользователя\n",
    "unique_users_per_month_and_plan = filtered_telecom_three.drop_duplicates(subset=['month', 'tariff_plan', 'user_id'])\n",
    "\n",
    "# Формируем pivot table с количеством уникальных пользователей\n",
    "users_grouped_monthly_by_tariff_plan = unique_users_per_month_and_plan.pivot_table(\n",
    "    index=['month', 'tariff_plan'],          # Индексирование по двум параметрам\n",
    "    values='user_id',                        # Значением является идентификатор пользователя\n",
    "    aggfunc='count',                         # Агрегируем путем подсчета\n",
    "    fill_value=0                             # Заполняем отсутствующие значения нулями\n",
    ").reset_index().rename(columns={'user_id': 'count'})  # Переименовываем столбец с числом пользователей\n",
    "\n",
    "# Выведем первые строки\n",
    "users_grouped_monthly_by_tariff_plan.head(3)"
   ]
  },
  {
   "cell_type": "code",
   "execution_count": 94,
   "id": "30a1c310-e64a-41b3-b78e-89cb2207c3c1",
   "metadata": {},
   "outputs": [
    {
     "data": {
      "image/png": "[encoded data removed]",
      "text/plain": [
       "<Figure size 1000x600 with 1 Axes>"
      ]
     },
     "metadata": {},
     "output_type": "display_data"
    }
   ],
   "source": [
    "# Группируем данные по месяцам и тарифам\n",
    "grouped_data = users_grouped_monthly_by_tariff_plan.pivot(index='month', columns='tariff_plan', values='count').fillna(0)\n",
    "\n",
    "# Суммируем всех пользователей по месяцам\n",
    "total_users_per_month = grouped_data.sum(axis=1)\n",
    "\n",
    "# Переводим абсолютные значения в проценты для каждого месяца\n",
    "percentages = grouped_data.divide(total_users_per_month, axis=0).multiply(100)\n",
    "\n",
    "# Настройка ширины столбца\n",
    "x = range(len(months))\n",
    "width = 0.25\n",
    "\n",
    "# Создание рисунка и осей\n",
    "fig, ax = plt.subplots(figsize=(10, 6))\n",
    "\n",
    "# Отображение бар-чартов с процентами\n",
    "bar_A = ax.bar([i - width/2 for i in x], percentages['A'], width=width, label='тариф A', color='skyblue')\n",
    "bar_B = ax.bar(x, percentages['B'], width=width, label='тариф B', color='salmon')\n",
    "bar_C = ax.bar([i + width/2 for i in x], percentages['C'], width=width, label='тариф C', color='green')\n",
    "\n",
    "# Функция для вывода подписей поверх столбцов\n",
    "def add_percentage_labels(bars):\n",
    "    for bar in bars:\n",
    "        height = bar.get_height()\n",
    "        ax.annotate(f'{height:.1f}%', xy=(bar.get_x() + bar.get_width()/2, height),\n",
    "                    xytext=(0, 3), textcoords=\"offset points\",\n",
    "                    ha='center', va='bottom')\n",
    "\n",
    "# Добавляем подписи на график\n",
    "add_percentage_labels(bar_A)\n",
    "add_percentage_labels(bar_B)\n",
    "add_percentage_labels(bar_C)\n",
    "\n",
    "# Подписываем оси и задаём название графика\n",
    "ax.set_xlabel('Месяц')\n",
    "ax.set_ylabel('Процентная доля абонентов (%)')\n",
    "ax.set_title('Распределение абонентов по тарифным планам помесячно в процентах')\n",
    "\n",
    "# Установка меток месяцев на оси Х\n",
    "ax.set_xticks(x)\n",
    "ax.set_xticklabels(months)\n",
    "\n",
    "# Легенда\n",
    "ax.legend()\n",
    "\n",
    "# Показываем график\n",
    "plt.show()"
   ]
  },
  {
   "cell_type": "markdown",
   "id": "51d2e1f5-331d-496a-841e-e5a23838250c",
   "metadata": {},
   "source": [
    "- Доля клиентов с тарифными планоми А и B практически не меняется от месяца к месяцу\n",
    "- Доля клиентов с тарифным планом C постепенно растет первые три месяца"
   ]
  },
  {
   "cell_type": "markdown",
   "id": "9960b2c3-85f3-4623-b4ee-c3f56d673b70",
   "metadata": {},
   "source": [
    "### Разделим клиентов на активных и неактивных"
   ]
  },
  {
   "cell_type": "markdown",
   "id": "590f541b-68dd-4862-8505-12fa0657df65",
   "metadata": {},
   "source": [
    "#### Выделим активными клиентами тех пользователей услуг, которые присутствуют в датасете в ноябре."
   ]
  },
  {
   "cell_type": "code",
   "execution_count": 98,
   "id": "4139b702-45ec-4d25-b188-ed4a7d4f3b13",
   "metadata": {},
   "outputs": [
    {
     "data": {
      "text/html": [
       "<div>\n",
       "<style scoped>\n",
       "    .dataframe tbody tr th:only-of-type {\n",
       "        vertical-align: middle;\n",
       "    }\n",
       "\n",
       "    .dataframe tbody tr th {\n",
       "        vertical-align: top;\n",
       "    }\n",
       "\n",
       "    .dataframe thead th {\n",
       "        text-align: right;\n",
       "    }\n",
       "</style>\n",
       "<table border=\"1\" class=\"dataframe\">\n",
       "  <thead>\n",
       "    <tr style=\"text-align: right;\">\n",
       "      <th></th>\n",
       "      <th>user_id</th>\n",
       "      <th>month</th>\n",
       "    </tr>\n",
       "  </thead>\n",
       "  <tbody>\n",
       "    <tr>\n",
       "      <th>0</th>\n",
       "      <td>166399</td>\n",
       "      <td>10</td>\n",
       "    </tr>\n",
       "    <tr>\n",
       "      <th>1</th>\n",
       "      <td>166507</td>\n",
       "      <td>8</td>\n",
       "    </tr>\n",
       "    <tr>\n",
       "      <th>2</th>\n",
       "      <td>166533</td>\n",
       "      <td>10</td>\n",
       "    </tr>\n",
       "  </tbody>\n",
       "</table>\n",
       "</div>"
      ],
      "text/plain": [
       "   user_id  month\n",
       "0   166399     10\n",
       "1   166507      8\n",
       "2   166533     10"
      ]
     },
     "execution_count": 98,
     "metadata": {},
     "output_type": "execute_result"
    }
   ],
   "source": [
    "# Заводим константу\n",
    "LAST_MONTH_CONSTANT = 11\n",
    "\n",
    "# находим клиентов, последний месяц активности которых не равен 11\n",
    "last__month_active_users = filtered_telecom_three.groupby('user_id')['month'].max().reset_index()\n",
    "inactive_users = last__month_active_users[last__month_active_users['month'] != LAST_MONTH_CONSTANT].reset_index(drop=True)\n",
    "\n",
    "# Выведем первые три строки\n",
    "inactive_users.head(3)"
   ]
  },
  {
   "cell_type": "code",
   "execution_count": 99,
   "id": "6014bd40-1ead-43ba-8ba0-3b40992297a3",
   "metadata": {},
   "outputs": [
    {
     "name": "stdout",
     "output_type": "stream",
     "text": [
      "<class 'pandas.core.frame.DataFrame'>\n",
      "Index: 23329 entries, 3 to 48890\n",
      "Data columns (total 13 columns):\n",
      " #   Column               Non-Null Count  Dtype         \n",
      "---  ------               --------------  -----         \n",
      " 0   user_id              23329 non-null  int64         \n",
      " 1   date                 23329 non-null  datetime64[ns]\n",
      " 2   direction            23329 non-null  object        \n",
      " 3   internal             23329 non-null  bool          \n",
      " 4   operator_id          23329 non-null  int32         \n",
      " 5   is_missed_call       23329 non-null  bool          \n",
      " 6   calls_count          23329 non-null  int64         \n",
      " 7   call_duration        23329 non-null  int64         \n",
      " 8   total_call_duration  23329 non-null  int64         \n",
      " 9   tariff_plan          23329 non-null  object        \n",
      " 10  date_start           23329 non-null  datetime64[ns]\n",
      " 11  cur_monthly_fee      23329 non-null  int64         \n",
      " 12  month                23329 non-null  int32         \n",
      "dtypes: bool(2), datetime64[ns](2), int32(2), int64(5), object(2)\n",
      "memory usage: 2.0+ MB\n"
     ]
    }
   ],
   "source": [
    "# Фильтрация filtered_telecom_three по списку операторов из inactive_users\n",
    "filtered_telecom_four = filtered_telecom_three[~filtered_telecom_three['user_id'].isin(inactive_users['user_id'])]\n",
    "\n",
    "# Просмотр первых нескольких строк нового фильтрационного набора\n",
    "filtered_telecom_four.info()"
   ]
  },
  {
   "cell_type": "code",
   "execution_count": 100,
   "id": "a1123783-59c6-4389-9790-e143c3fbb581",
   "metadata": {},
   "outputs": [
    {
     "name": "stdout",
     "output_type": "stream",
     "text": [
      "Количество строк отфильтрованного датафрейма на 4.46% меньше датафрейма до фильтрации.\n"
     ]
    }
   ],
   "source": [
    "# Получаем количество строк в каждом датафрейме\n",
    "rows_filtered_telecom_four = len(filtered_telecom_four)\n",
    "\n",
    "# Определяем больший и меньший датафреймы\n",
    "bigger_rows = max(rows_filtered_telecom_three, rows_filtered_telecom_four)\n",
    "smaller_rows = min(rows_filtered_telecom_three, rows_filtered_telecom_four)\n",
    "\n",
    "# Вычисляем процент\n",
    "percentage_difference = (1-smaller_rows / bigger_rows) * 100\n",
    "\n",
    "# Выводим результат\n",
    "print(f\"Количество строк отфильтрованного датафрейма на {percentage_difference:.2f}% меньше датафрейма до фильтрации.\")"
   ]
  },
  {
   "cell_type": "markdown",
   "id": "1dcbdde3-8cc3-4adb-8f8b-91057e4bbea1",
   "metadata": {},
   "source": [
    "Мы отфильтровали 1,090(4.5%) записей с неактивными пользователями. Остальных всех пользователей будем считать активными. "
   ]
  },
  {
   "cell_type": "markdown",
   "id": "6f09e34f-5253-4096-a273-4fef3eecaac5",
   "metadata": {},
   "source": [
    "#### Построим графики распределений клиентов по тарифным планам"
   ]
  },
  {
   "cell_type": "code",
   "execution_count": 268,
   "id": "d9572a49-9751-4f46-8468-e086aedc8e55",
   "metadata": {},
   "outputs": [
    {
     "data": {
      "image/png": "[encoded data removed]",
      "text/plain": [
       "<Figure size 1000x600 with 1 Axes>"
      ]
     },
     "metadata": {},
     "output_type": "display_data"
    },
    {
     "data": {
      "image/png": "[encoded data removed]",
      "text/plain": [
       "<Figure size 1000x600 with 1 Axes>"
      ]
     },
     "metadata": {},
     "output_type": "display_data"
    }
   ],
   "source": [
    "datasets = [(filtered_telecom_three, 'Все пользователи'),\n",
    "            (filtered_telecom_four, 'Активные пользователи')]\n",
    "\n",
    "# Функция для построения графика распределения\n",
    "def build_user_distribution_plot(df, title):\n",
    "    \"\"\"\n",
    "    Функция принимает DataFrame и заголовок, возвращает график распределения пользователей по тарифам.\n",
    "    \"\"\"\n",
    "    # Подсчет уникальных пользователей по тарифным планам\n",
    "    users_per_tariff = df.groupby('tariff_plan')['user_id'].nunique().reset_index()\n",
    "    \n",
    "    # Общее количество уникальных пользователей\n",
    "    total_users = users_per_tariff['user_id'].sum()\n",
    "    \n",
    "    # Расчет долей пользователей для каждого тарифного плана\n",
    "    users_per_tariff['percentage'] = users_per_tariff['user_id'] / total_users * 100\n",
    "    \n",
    "    # Рисуем график\n",
    "    plt.figure(figsize=(10, 6))\n",
    "    sns.barplot(x='tariff_plan', y='percentage', data=users_per_tariff)\n",
    "    \n",
    "    # Оформляем график\n",
    "    plt.title(f'Распределение пользователей по тарифным планам ({title}) (%)')\n",
    "    plt.xlabel('Тарифный план')\n",
    "    plt.ylabel('Процент пользователей')\n",
    "    plt.xticks(rotation=45)\n",
    "    plt.grid(axis='y', linestyle='--', alpha=0.7)\n",
    "    \n",
    "    # Аннотируем значения процентов над столбцами\n",
    "    for i, row in users_per_tariff.iterrows():\n",
    "        plt.text(i, row['percentage']+1, f\"{row['percentage']:.1f}%\",\n",
    "                 ha='center', va='bottom', fontweight='bold')\n",
    "        \n",
    "    plt.show()\n",
    "\n",
    "# Применяем функцию к обоим датасетам\n",
    "for dataset, title in datasets:\n",
    "    build_user_distribution_plot(dataset, title)"
   ]
  },
  {
   "cell_type": "code",
   "execution_count": 104,
   "id": "5dae060d-d04f-4084-8e85-f55530084e9e",
   "metadata": {},
   "outputs": [
    {
     "name": "stdout",
     "output_type": "stream",
     "text": [
      "Общее количество пользователей - 280.\n",
      "Общее количество активных пользователей - 236.\n"
     ]
    }
   ],
   "source": [
    "# Подсчет уникальных пользователей по тарифным планам\n",
    "users_per_tariff = filtered_telecom_three.groupby('tariff_plan')['user_id'].nunique().reset_index()\n",
    "active_users_per_tariff = filtered_telecom_four.groupby('tariff_plan')['user_id'].nunique().reset_index()\n",
    "\n",
    "# Предположим, что у вас уже определены DataFrames users_per_tariff и active_users_per_tariff\n",
    "total_users = users_per_tariff['user_id'].sum()\n",
    "active_users = active_users_per_tariff['user_id'].sum()\n",
    "\n",
    "print(f\"Общее количество пользователей - {total_users}.\")\n",
    "print(f\"Общее количество активных пользователей - {active_users}.\")"
   ]
  },
  {
   "cell_type": "markdown",
   "id": "46ae7fbe-d66f-4d29-961e-327900970bfd",
   "metadata": {},
   "source": [
    "Доли активных пользователей остались примерно на том же уровне что и в основном датасете. Наша выборка - репрезентативная. Общее количество активных пользователей меньше на 44(15.7%) единицы."
   ]
  },
  {
   "cell_type": "markdown",
   "id": "43f7abc7-210e-455e-883c-40de912b7009",
   "metadata": {},
   "source": [
    "Мы провели исследовательский анализ данных:\n",
    "- Вычислили границы анализуемого периода: начало периода: 2019-08-02,конец периода: 2019-11-28. То есть в августе не хватает одного дня, в ноябре - двух. При этом, самый большой трафик приходится на ноябрь, поэтому мы решили не редактировать(урезать) ноябрьские данные, так как мы можем потерять ценную информацию для принятия решения по переводу активных клиентов на новый тариф.\n",
    "- Мы построили график распределения количества звонков по датам. Количество звонков растет.\n",
    "- Проанализировали соотношение входящих и исходящих звонков. Распределение примерно одинаковое. При этом, входящих звонков больше. Они бесплатные. Но клиенты, которые используют только входящие звонки, платят ежемесячную абонентскую плату плюс за каждого оператора. Мы не стали их удалаять.\n",
    "- Посчитали количество пропущенных звонков. Было обнаружено довольно много пропущенных вызовов(43.8%). Они нам не нужны для дальнейших расчетов. Мы их удалали\n",
    "- Проанализировали общее количество звонков среди клиентов. В 75% случаях на одного клиента приходится до 869 звонка. Имеется большое количество выбросов. Самое большое количество - 83,276 звонков. Для фильтрации определили границы: нижняя граница - 1-й процентиль(0.01), верхняя граница - 99-й процентиль(0.99). Такой подход оставляет ещё меньше экстремумов, оставляя лишь самые центрированные данные. Мы отфильтровали датасет по количеству звонков: убрали всех клиентов(5.36% от всех записей), у которых суммарное количество звонков больше 15,852 штук.\n",
    "- Проанализировали общую длительность звонков. 75% пользователей имеют общую длительность звонков до 89,833 минут. Имеется большое количество выбросов. Максимальная длительность звонков у одного пользователя - 646,593 минут. Для фильтрации определим границы: нижняя граница - 1-й процентиль(0.005), верхняя граница - 99-й процентиль(0.995). Мы отфильтровали 6.16%.\n",
    "- Проанализировали количество исходящих звонков по месяцам. Количество исходящих звонков(внутри и вне сети) постоянно растет. Резкий рост замедляется на 4-м месяце. Доля исходящих звонков внутри сети незначительная.\n",
    "- Проанализировали общую продолжительность исходящих звонков по месяцам. Аналогичная ситуация на этом графике: каждый месяц имеется значительный прирост. Рост замедляется(стабилизируется) на 4-м месяце. Доля звонков внутри сети минимальная.\n",
    "- Построили графики распределения абонентов по тарифным планам:\n",
    "  - Доля клиентов с тарифными планоми А и B практически не меняется от месяца к месяцу\n",
    "  - Доля клиентов с тарифным планом C постепенно растет первые три месяца\n",
    "- Разделили клиентов на активных и неактивных:\n",
    "  - Выделили активными клиентами тех пользователей услуг, которые присутствуют в датасете в ноябре. Мы отфильтровали 1,090(4.5%) записей с неактивными пользователями. Остальных всех пользователей будем считать активными.\n",
    "  - Построили графики распределений пользователей по тарифным планам: по всем пользователям и отдельно по активным. Доли активных пользователей остались примерно на том же уровне что и в основном датасете. Наша выборка - репрезентативная. Общее количество активных пользователей меньше на 44(15.7%) единицы.\n"
   ]
  },
  {
   "cell_type": "markdown",
   "id": "a81c9a02-81e7-4ef6-9505-020626cd26f5",
   "metadata": {},
   "source": [
    "## 4  Посчитаем расходы на исходящие звонки, общие расходы и потенциальную экономию"
   ]
  },
  {
   "cell_type": "markdown",
   "id": "b27046e5-81fa-4688-81a3-42733d1af14c",
   "metadata": {},
   "source": [
    "### Посчитаем количество операторов для каждого клиента помесячно, отфильтруем исходящие звонки и столбцы из главной таблицы, которые не нужны для данного расчета"
   ]
  },
  {
   "cell_type": "code",
   "execution_count": 109,
   "id": "0e982f63-3c27-4d51-8da9-d98ef5a47579",
   "metadata": {},
   "outputs": [
    {
     "data": {
      "text/html": [
       "<div>\n",
       "<style scoped>\n",
       "    .dataframe tbody tr th:only-of-type {\n",
       "        vertical-align: middle;\n",
       "    }\n",
       "\n",
       "    .dataframe tbody tr th {\n",
       "        vertical-align: top;\n",
       "    }\n",
       "\n",
       "    .dataframe thead th {\n",
       "        text-align: right;\n",
       "    }\n",
       "</style>\n",
       "<table border=\"1\" class=\"dataframe\">\n",
       "  <thead>\n",
       "    <tr style=\"text-align: right;\">\n",
       "      <th></th>\n",
       "      <th>user_id</th>\n",
       "      <th>internal</th>\n",
       "      <th>total_call_duration</th>\n",
       "      <th>tariff_plan</th>\n",
       "      <th>cur_monthly_fee</th>\n",
       "      <th>month</th>\n",
       "      <th>num_of_operators</th>\n",
       "    </tr>\n",
       "  </thead>\n",
       "  <tbody>\n",
       "    <tr>\n",
       "      <th>0</th>\n",
       "      <td>166377</td>\n",
       "      <td>True</td>\n",
       "      <td>18</td>\n",
       "      <td>B</td>\n",
       "      <td>2000</td>\n",
       "      <td>8</td>\n",
       "      <td>4</td>\n",
       "    </tr>\n",
       "    <tr>\n",
       "      <th>1</th>\n",
       "      <td>166377</td>\n",
       "      <td>False</td>\n",
       "      <td>29</td>\n",
       "      <td>B</td>\n",
       "      <td>2000</td>\n",
       "      <td>8</td>\n",
       "      <td>4</td>\n",
       "    </tr>\n",
       "    <tr>\n",
       "      <th>2</th>\n",
       "      <td>166377</td>\n",
       "      <td>False</td>\n",
       "      <td>819</td>\n",
       "      <td>B</td>\n",
       "      <td>2000</td>\n",
       "      <td>8</td>\n",
       "      <td>4</td>\n",
       "    </tr>\n",
       "  </tbody>\n",
       "</table>\n",
       "</div>"
      ],
      "text/plain": [
       "   user_id  internal  total_call_duration tariff_plan  cur_monthly_fee  month  \\\n",
       "0   166377      True                   18           B             2000      8   \n",
       "1   166377     False                   29           B             2000      8   \n",
       "2   166377     False                  819           B             2000      8   \n",
       "\n",
       "   num_of_operators  \n",
       "0                 4  \n",
       "1                 4  \n",
       "2                 4  "
      ]
     },
     "execution_count": 109,
     "metadata": {},
     "output_type": "execute_result"
    }
   ],
   "source": [
    "# Группа по user_id и month, считаем уникальные операторы\n",
    "number_of_operators_per_month = filtered_telecom_four.groupby(['user_id', 'month'])['operator_id'].nunique().reset_index(name='num_of_operators')\n",
    "# Объединение с основным датасетом\n",
    "filtered_telecom_five = filtered_telecom_four.merge(number_of_operators_per_month, on=['user_id', 'month'])\n",
    "\n",
    "\n",
    "# Фильтрация по нужным условиям\n",
    "outgoing_calls = filtered_telecom_five[(filtered_telecom_five['direction'] == 'out')]\n",
    "\n",
    "# Копируем dataframe для дальнейших манипуляций\n",
    "outgoing_calls = outgoing_calls.copy()\n",
    "\n",
    "# Удаляем ненужные столбцы\n",
    "outgoing_calls.drop(columns=['date','direction','operator_id','is_missed_call','calls_count','call_duration','date_start'], inplace=True)\n",
    "\n",
    "# Выведем первые строчки нового датасета\n",
    "outgoing_calls.head(3)"
   ]
  },
  {
   "cell_type": "markdown",
   "id": "2a999c9f-2bf5-4eb5-ae93-9d2e976950ef",
   "metadata": {},
   "source": [
    "### Посчитаем расходы на исходящие звонки внутри сети"
   ]
  },
  {
   "cell_type": "markdown",
   "id": "023ff419-80f1-442f-b466-4eeb9b65013f",
   "metadata": {},
   "source": [
    "Соберем общую продолжительность исходящих звонков внутри сети по клиентам помесячно"
   ]
  },
  {
   "cell_type": "code",
   "execution_count": 112,
   "id": "662339ad-70cf-400f-a02c-aa502fcc981b",
   "metadata": {},
   "outputs": [
    {
     "data": {
      "text/html": [
       "<div>\n",
       "<style scoped>\n",
       "    .dataframe tbody tr th:only-of-type {\n",
       "        vertical-align: middle;\n",
       "    }\n",
       "\n",
       "    .dataframe tbody tr th {\n",
       "        vertical-align: top;\n",
       "    }\n",
       "\n",
       "    .dataframe thead th {\n",
       "        text-align: right;\n",
       "    }\n",
       "</style>\n",
       "<table border=\"1\" class=\"dataframe\">\n",
       "  <thead>\n",
       "    <tr style=\"text-align: right;\">\n",
       "      <th></th>\n",
       "      <th>user_id</th>\n",
       "      <th>month</th>\n",
       "      <th>tariff_plan</th>\n",
       "      <th>num_of_operators</th>\n",
       "      <th>total_call_duration</th>\n",
       "    </tr>\n",
       "  </thead>\n",
       "  <tbody>\n",
       "    <tr>\n",
       "      <th>128</th>\n",
       "      <td>168336</td>\n",
       "      <td>11</td>\n",
       "      <td>C</td>\n",
       "      <td>11</td>\n",
       "      <td>2796</td>\n",
       "    </tr>\n",
       "    <tr>\n",
       "      <th>129</th>\n",
       "      <td>168500</td>\n",
       "      <td>11</td>\n",
       "      <td>B</td>\n",
       "      <td>1</td>\n",
       "      <td>30</td>\n",
       "    </tr>\n",
       "    <tr>\n",
       "      <th>130</th>\n",
       "      <td>168606</td>\n",
       "      <td>11</td>\n",
       "      <td>C</td>\n",
       "      <td>1</td>\n",
       "      <td>3716</td>\n",
       "    </tr>\n",
       "  </tbody>\n",
       "</table>\n",
       "</div>"
      ],
      "text/plain": [
       "     user_id  month tariff_plan  num_of_operators  total_call_duration\n",
       "128   168336     11           C                11                 2796\n",
       "129   168500     11           B                 1                   30\n",
       "130   168606     11           C                 1                 3716"
      ]
     },
     "execution_count": 112,
     "metadata": {},
     "output_type": "execute_result"
    }
   ],
   "source": [
    "# Фильтрация по нужным условиям\n",
    "outgoing_calls_inside_net = outgoing_calls[(outgoing_calls['internal'] == True)]\n",
    "\n",
    "# Новый группировочный список с добавлением tariff_plan\n",
    "outgoing_calls_inside_net_total_min = outgoing_calls_inside_net.groupby(['user_id', 'month', 'tariff_plan','num_of_operators'])['total_call_duration'].sum().reset_index()\n",
    "\n",
    "# Выведем первые строки\n",
    "outgoing_calls_inside_net_total_min.tail(3)"
   ]
  },
  {
   "cell_type": "markdown",
   "id": "642623c4-0828-4df1-8fa8-ee36a0b6650a",
   "metadata": {},
   "source": [
    "Посчитаем ежемсячные расходы на исходящие звонки внутри сети по каждому клиенту и тарифу"
   ]
  },
  {
   "cell_type": "code",
   "execution_count": 114,
   "id": "01ffe9f2-9aae-46a5-ad23-1798d9391b54",
   "metadata": {},
   "outputs": [
    {
     "data": {
      "text/html": [
       "<div>\n",
       "<style scoped>\n",
       "    .dataframe tbody tr th:only-of-type {\n",
       "        vertical-align: middle;\n",
       "    }\n",
       "\n",
       "    .dataframe tbody tr th {\n",
       "        vertical-align: top;\n",
       "    }\n",
       "\n",
       "    .dataframe thead th {\n",
       "        text-align: right;\n",
       "    }\n",
       "</style>\n",
       "<table border=\"1\" class=\"dataframe\">\n",
       "  <thead>\n",
       "    <tr style=\"text-align: right;\">\n",
       "      <th></th>\n",
       "      <th>user_id</th>\n",
       "      <th>month</th>\n",
       "      <th>tariff_plan</th>\n",
       "      <th>num_of_operators</th>\n",
       "      <th>tc_inside_net_calls_tariff_cur</th>\n",
       "      <th>tc_inside_net_calls_tariff_a</th>\n",
       "      <th>tc_inside_net_calls_tariff_b</th>\n",
       "      <th>tc_inside_net_calls_tariff_c</th>\n",
       "    </tr>\n",
       "  </thead>\n",
       "  <tbody>\n",
       "    <tr>\n",
       "      <th>128</th>\n",
       "      <td>168336</td>\n",
       "      <td>11</td>\n",
       "      <td>C</td>\n",
       "      <td>11</td>\n",
       "      <td>238.8</td>\n",
       "      <td>79.6</td>\n",
       "      <td>119.4</td>\n",
       "      <td>238.8</td>\n",
       "    </tr>\n",
       "    <tr>\n",
       "      <th>129</th>\n",
       "      <td>168500</td>\n",
       "      <td>11</td>\n",
       "      <td>B</td>\n",
       "      <td>1</td>\n",
       "      <td>0.0</td>\n",
       "      <td>0.0</td>\n",
       "      <td>0.0</td>\n",
       "      <td>0.0</td>\n",
       "    </tr>\n",
       "    <tr>\n",
       "      <th>130</th>\n",
       "      <td>168606</td>\n",
       "      <td>11</td>\n",
       "      <td>C</td>\n",
       "      <td>1</td>\n",
       "      <td>514.8</td>\n",
       "      <td>171.6</td>\n",
       "      <td>257.4</td>\n",
       "      <td>514.8</td>\n",
       "    </tr>\n",
       "  </tbody>\n",
       "</table>\n",
       "</div>"
      ],
      "text/plain": [
       "     user_id  month tariff_plan  num_of_operators  \\\n",
       "128   168336     11           C                11   \n",
       "129   168500     11           B                 1   \n",
       "130   168606     11           C                 1   \n",
       "\n",
       "     tc_inside_net_calls_tariff_cur  tc_inside_net_calls_tariff_a  \\\n",
       "128                           238.8                          79.6   \n",
       "129                             0.0                           0.0   \n",
       "130                           514.8                         171.6   \n",
       "\n",
       "     tc_inside_net_calls_tariff_b  tc_inside_net_calls_tariff_c  \n",
       "128                         119.4                         238.8  \n",
       "129                           0.0                           0.0  \n",
       "130                         257.4                         514.8  "
      ]
     },
     "execution_count": 114,
     "metadata": {},
     "output_type": "execute_result"
    }
   ],
   "source": [
    "# Определим константы для расчетов\n",
    "CONSTANT_MIN_MINS = 2000  # Базовые минуты, включённые в пакет тарифа\n",
    "COEFF_OUTGOING_CALLS_INSIDE_NET_A = 0.1  # Тариф А: стоимость минут сверх лимита\n",
    "COEFF_OUTGOING_CALLS_INSIDE_NET_B = 0.15  # Тариф Б: стоимость минут сверх лимита\n",
    "COEFF_OUTGOING_CALLS_INSIDE_NET_C = 0.30  # Тариф С: стоимость минут сверх лимита\n",
    "\n",
    "\n",
    "# Функция для расчета стоимости звонков исходя из текущего пакета\n",
    "def calculate_cost(row, rate):\n",
    "    \"\"\"\n",
    "    Расчет стоимости звонков.\n",
    "    \n",
    "    Если общее количество минут меньше базовых минут, стоимость равна нулю.\n",
    "    Иначе рассчитывается плата за превышение лимитированных минут.\n",
    "    \"\"\"\n",
    "    if row['total_call_duration'] <= CONSTANT_MIN_MINS:\n",
    "        return 0\n",
    "    else:\n",
    "        excess_minutes = row['total_call_duration'] - CONSTANT_MIN_MINS\n",
    "        return excess_minutes * rate\n",
    "\n",
    "\n",
    "# Создание копии исходного DataFrame для хранения результатов\n",
    "outgoing_calls_inside_net_monthly_total_cost = outgoing_calls_inside_net_total_min.copy()\n",
    "\n",
    "# Применение правил расчета стоимости звонков в зависимости от тарифного плана\n",
    "outgoing_calls_inside_net_monthly_total_cost['tc_inside_net_calls_tariff_cur'] = outgoing_calls_inside_net_monthly_total_cost.apply(\n",
    "    lambda x: calculate_cost(x, COEFF_OUTGOING_CALLS_INSIDE_NET_A) if x['tariff_plan'] == 'A' else\n",
    "              calculate_cost(x, COEFF_OUTGOING_CALLS_INSIDE_NET_B) if x['tariff_plan'] == 'B' else\n",
    "              calculate_cost(x, COEFF_OUTGOING_CALLS_INSIDE_NET_C),\n",
    "    axis=1\n",
    ")\n",
    "\n",
    "# Дополнительно рассчитываем стоимость звонков для каждого тарифного плана отдельно\n",
    "outgoing_calls_inside_net_monthly_total_cost['tc_inside_net_calls_tariff_a'] = outgoing_calls_inside_net_monthly_total_cost.apply(\n",
    "    lambda x: calculate_cost(x, COEFF_OUTGOING_CALLS_INSIDE_NET_A),\n",
    "    axis=1\n",
    ")\n",
    "\n",
    "outgoing_calls_inside_net_monthly_total_cost['tc_inside_net_calls_tariff_b'] = outgoing_calls_inside_net_monthly_total_cost.apply(\n",
    "    lambda x: calculate_cost(x, COEFF_OUTGOING_CALLS_INSIDE_NET_B),\n",
    "    axis=1\n",
    ")\n",
    "\n",
    "outgoing_calls_inside_net_monthly_total_cost['tc_inside_net_calls_tariff_c'] = outgoing_calls_inside_net_monthly_total_cost.apply(\n",
    "    lambda x: calculate_cost(x, COEFF_OUTGOING_CALLS_INSIDE_NET_C),\n",
    "    axis=1\n",
    ")\n",
    "\n",
    "# Удаляем ненужный столбец total_call_duration\n",
    "outgoing_calls_inside_net_monthly_total_cost.drop(columns=['total_call_duration'], inplace=True)\n",
    "\n",
    "# Выведем первые три строки\n",
    "outgoing_calls_inside_net_monthly_total_cost.tail(3)"
   ]
  },
  {
   "cell_type": "markdown",
   "id": "b75f7ada-da7b-4fdb-b8d1-0dc83d80a09c",
   "metadata": {},
   "source": [
    "### Посчитаем расходы клиентов на исходящие звонки вне сети "
   ]
  },
  {
   "cell_type": "markdown",
   "id": "4e9e21b9-0348-437f-9a76-8854e31f9127",
   "metadata": {},
   "source": [
    "Посчитаем исходящие звонки вне сети по каждой записи из датасета"
   ]
  },
  {
   "cell_type": "code",
   "execution_count": 117,
   "id": "9c8b7252-a5eb-4220-b4ed-ae5d7d622647",
   "metadata": {},
   "outputs": [
    {
     "data": {
      "text/html": [
       "<div>\n",
       "<style scoped>\n",
       "    .dataframe tbody tr th:only-of-type {\n",
       "        vertical-align: middle;\n",
       "    }\n",
       "\n",
       "    .dataframe tbody tr th {\n",
       "        vertical-align: top;\n",
       "    }\n",
       "\n",
       "    .dataframe thead th {\n",
       "        text-align: right;\n",
       "    }\n",
       "</style>\n",
       "<table border=\"1\" class=\"dataframe\">\n",
       "  <thead>\n",
       "    <tr style=\"text-align: right;\">\n",
       "      <th></th>\n",
       "      <th>user_id</th>\n",
       "      <th>tariff_plan</th>\n",
       "      <th>cur_monthly_fee</th>\n",
       "      <th>month</th>\n",
       "      <th>num_of_operators</th>\n",
       "      <th>outside_net_calls_cost_tariff_cur</th>\n",
       "      <th>outside_net_calls_cost_tariff_a</th>\n",
       "      <th>outside_net_calls_cost_tariff_b</th>\n",
       "      <th>outside_net_calls_cost_tariff_c</th>\n",
       "    </tr>\n",
       "  </thead>\n",
       "  <tbody>\n",
       "    <tr>\n",
       "      <th>1</th>\n",
       "      <td>166377</td>\n",
       "      <td>B</td>\n",
       "      <td>2000</td>\n",
       "      <td>8</td>\n",
       "      <td>4</td>\n",
       "      <td>14.5</td>\n",
       "      <td>11.6</td>\n",
       "      <td>14.5</td>\n",
       "      <td>20.3</td>\n",
       "    </tr>\n",
       "    <tr>\n",
       "      <th>2</th>\n",
       "      <td>166377</td>\n",
       "      <td>B</td>\n",
       "      <td>2000</td>\n",
       "      <td>8</td>\n",
       "      <td>4</td>\n",
       "      <td>409.5</td>\n",
       "      <td>327.6</td>\n",
       "      <td>409.5</td>\n",
       "      <td>573.3</td>\n",
       "    </tr>\n",
       "    <tr>\n",
       "      <th>3</th>\n",
       "      <td>166377</td>\n",
       "      <td>B</td>\n",
       "      <td>2000</td>\n",
       "      <td>8</td>\n",
       "      <td>4</td>\n",
       "      <td>14.0</td>\n",
       "      <td>11.2</td>\n",
       "      <td>14.0</td>\n",
       "      <td>19.6</td>\n",
       "    </tr>\n",
       "  </tbody>\n",
       "</table>\n",
       "</div>"
      ],
      "text/plain": [
       "   user_id tariff_plan  cur_monthly_fee  month  num_of_operators  \\\n",
       "1   166377           B             2000      8                 4   \n",
       "2   166377           B             2000      8                 4   \n",
       "3   166377           B             2000      8                 4   \n",
       "\n",
       "   outside_net_calls_cost_tariff_cur  outside_net_calls_cost_tariff_a  \\\n",
       "1                               14.5                             11.6   \n",
       "2                              409.5                            327.6   \n",
       "3                               14.0                             11.2   \n",
       "\n",
       "   outside_net_calls_cost_tariff_b  outside_net_calls_cost_tariff_c  \n",
       "1                             14.5                             20.3  \n",
       "2                            409.5                            573.3  \n",
       "3                             14.0                             19.6  "
      ]
     },
     "execution_count": 117,
     "metadata": {},
     "output_type": "execute_result"
    }
   ],
   "source": [
    "# Фильтрация по нужным условиям\n",
    "outgoing_calls_outside_net = outgoing_calls[(outgoing_calls['internal'] == False)]\n",
    "\n",
    "# Копируем dataframe для дальнейших манипуляций\n",
    "outgoing_calls_outside_net = outgoing_calls_outside_net.copy()\n",
    "\n",
    "# Коэффициенты стоимости звонков вне своей сети по тарифам\n",
    "COEFF_OUTGOING_CALLS_OUTSIDE_NET_A = 0.4  # Тариф А: стоимость минуты вне сети\n",
    "COEFF_OUTGOING_CALLS_OUTSIDE_NET_B = 0.5  # Тариф Б: стоимость минуты вне сети\n",
    "COEFF_OUTGOING_CALLS_OUTSIDE_NET_C = 0.7  # Тариф С: стоимость минуты вне сети\n",
    "\n",
    "# Функция для расчета стоимости звонков вне своей сети\n",
    "def calculate_outside_network_cost(row, tariff):\n",
    "    \"\"\"\n",
    "    Рассчитывает стоимость звонков вне сети, исходя из указанного тарифного плана.\n",
    "    :param row: Строка DataFrame с информацией о звонке\n",
    "    :param tariff: Текущий тарифный план ('A', 'B' или 'C')\n",
    "    :return: Стоимость звонка вне сети\n",
    "    \"\"\"\n",
    "    cost_per_minute = {\n",
    "        'A': COEFF_OUTGOING_CALLS_OUTSIDE_NET_A,\n",
    "        'B': COEFF_OUTGOING_CALLS_OUTSIDE_NET_B,\n",
    "        'C': COEFF_OUTGOING_CALLS_OUTSIDE_NET_C\n",
    "    }.get(tariff, 0)\n",
    "        \n",
    "    return round(cost_per_minute * row['total_call_duration'], 2)\n",
    "\n",
    "# Применение функции для расчета стоимости звонков вне сети по каждому тарифному плану\n",
    "outgoing_calls_outside_net['outside_net_calls_cost_tariff_cur'] = outgoing_calls_outside_net.apply(\n",
    "    lambda row: calculate_outside_network_cost(row, row['tariff_plan']),\n",
    "    axis=1\n",
    ")\n",
    "\n",
    "outgoing_calls_outside_net['outside_net_calls_cost_tariff_a'] = outgoing_calls_outside_net.apply(\n",
    "    lambda row: calculate_outside_network_cost(row, 'A'),\n",
    "    axis=1\n",
    ")\n",
    "\n",
    "outgoing_calls_outside_net['outside_net_calls_cost_tariff_b'] = outgoing_calls_outside_net.apply(\n",
    "    lambda row: calculate_outside_network_cost(row, 'B'),\n",
    "    axis=1\n",
    ")\n",
    "\n",
    "outgoing_calls_outside_net['outside_net_calls_cost_tariff_c'] = outgoing_calls_outside_net.apply(\n",
    "    lambda row: calculate_outside_network_cost(row, 'C'),\n",
    "    axis=1\n",
    ")\n",
    "\n",
    "# Удаляем ненужный столбец total_call_duration\n",
    "outgoing_calls_outside_net.drop(columns=['internal','total_call_duration'], inplace=True)\n",
    "\n",
    "# Выведем первые три строки\n",
    "outgoing_calls_outside_net.head(3)"
   ]
  },
  {
   "cell_type": "markdown",
   "id": "1ed43b1c-a94e-4026-9a3b-a1af8a80c10a",
   "metadata": {},
   "source": [
    "Сгруппируем данные помесячно"
   ]
  },
  {
   "cell_type": "code",
   "execution_count": 119,
   "id": "21df62b0-258a-44c1-a51a-b6a2f9ca3022",
   "metadata": {},
   "outputs": [
    {
     "data": {
      "text/html": [
       "<div>\n",
       "<style scoped>\n",
       "    .dataframe tbody tr th:only-of-type {\n",
       "        vertical-align: middle;\n",
       "    }\n",
       "\n",
       "    .dataframe tbody tr th {\n",
       "        vertical-align: top;\n",
       "    }\n",
       "\n",
       "    .dataframe thead th {\n",
       "        text-align: right;\n",
       "    }\n",
       "</style>\n",
       "<table border=\"1\" class=\"dataframe\">\n",
       "  <thead>\n",
       "    <tr style=\"text-align: right;\">\n",
       "      <th></th>\n",
       "      <th>user_id</th>\n",
       "      <th>month</th>\n",
       "      <th>cur_monthly_fee</th>\n",
       "      <th>tariff_plan</th>\n",
       "      <th>num_of_operators</th>\n",
       "      <th>tc_outside_net_calls_tariff_cur</th>\n",
       "      <th>tc_outside_net_calls_tariff_a</th>\n",
       "      <th>tc_outside_net_calls_tariff_b</th>\n",
       "      <th>tc_outside_net_calls_tariff_c</th>\n",
       "    </tr>\n",
       "  </thead>\n",
       "  <tbody>\n",
       "    <tr>\n",
       "      <th>0</th>\n",
       "      <td>166377</td>\n",
       "      <td>8</td>\n",
       "      <td>2000</td>\n",
       "      <td>B</td>\n",
       "      <td>4</td>\n",
       "      <td>34550.0</td>\n",
       "      <td>27640.0</td>\n",
       "      <td>34550.0</td>\n",
       "      <td>48370.0</td>\n",
       "    </tr>\n",
       "    <tr>\n",
       "      <th>1</th>\n",
       "      <td>166377</td>\n",
       "      <td>9</td>\n",
       "      <td>2000</td>\n",
       "      <td>B</td>\n",
       "      <td>4</td>\n",
       "      <td>45943.0</td>\n",
       "      <td>36754.4</td>\n",
       "      <td>45943.0</td>\n",
       "      <td>64320.2</td>\n",
       "    </tr>\n",
       "    <tr>\n",
       "      <th>2</th>\n",
       "      <td>166377</td>\n",
       "      <td>10</td>\n",
       "      <td>2000</td>\n",
       "      <td>B</td>\n",
       "      <td>5</td>\n",
       "      <td>44251.0</td>\n",
       "      <td>35400.8</td>\n",
       "      <td>44251.0</td>\n",
       "      <td>61951.4</td>\n",
       "    </tr>\n",
       "  </tbody>\n",
       "</table>\n",
       "</div>"
      ],
      "text/plain": [
       "   user_id  month  cur_monthly_fee tariff_plan  num_of_operators  \\\n",
       "0   166377      8             2000           B                 4   \n",
       "1   166377      9             2000           B                 4   \n",
       "2   166377     10             2000           B                 5   \n",
       "\n",
       "   tc_outside_net_calls_tariff_cur  tc_outside_net_calls_tariff_a  \\\n",
       "0                          34550.0                        27640.0   \n",
       "1                          45943.0                        36754.4   \n",
       "2                          44251.0                        35400.8   \n",
       "\n",
       "   tc_outside_net_calls_tariff_b  tc_outside_net_calls_tariff_c  \n",
       "0                        34550.0                        48370.0  \n",
       "1                        45943.0                        64320.2  \n",
       "2                        44251.0                        61951.4  "
      ]
     },
     "execution_count": 119,
     "metadata": {},
     "output_type": "execute_result"
    }
   ],
   "source": [
    "# Группировка и агрегация данных\n",
    "outgoing_calls_outside_net_monthly_total_cost = outgoing_calls_outside_net.groupby(['user_id', 'month'])[\n",
    "    ['outside_net_calls_cost_tariff_cur', 'outside_net_calls_cost_tariff_a', 'outside_net_calls_cost_tariff_b', 'outside_net_calls_cost_tariff_c','num_of_operators', 'cur_monthly_fee', 'tariff_plan',]\n",
    "].agg({\n",
    "    'cur_monthly_fee': 'first',\n",
    "    'tariff_plan': 'first',\n",
    "    'num_of_operators': 'first',\n",
    "    'outside_net_calls_cost_tariff_cur': 'sum',\n",
    "    'outside_net_calls_cost_tariff_a': 'sum',\n",
    "    'outside_net_calls_cost_tariff_b': 'sum',\n",
    "    'outside_net_calls_cost_tariff_c': 'sum'\n",
    "}).reset_index()\n",
    "\n",
    "# Правильное переименование столбцов\n",
    "outgoing_calls_outside_net_monthly_total_cost.rename(columns={\n",
    "    'outside_net_calls_cost_tariff_cur': 'tc_outside_net_calls_tariff_cur',  \n",
    "    'outside_net_calls_cost_tariff_a': 'tc_outside_net_calls_tariff_a',       \n",
    "    'outside_net_calls_cost_tariff_b': 'tc_outside_net_calls_tariff_b',       \n",
    "    'outside_net_calls_cost_tariff_c': 'tc_outside_net_calls_tariff_c'        \n",
    "}, inplace=True)\n",
    "\n",
    "# Выведем первые три строки\n",
    "outgoing_calls_outside_net_monthly_total_cost.head(3)"
   ]
  },
  {
   "cell_type": "markdown",
   "id": "911b7bd7-1814-410e-8865-a36c9501adc9",
   "metadata": {},
   "source": [
    "### Посчитаем суммарные расходы по каждому тарифу в разрезе пользователей помесячно"
   ]
  },
  {
   "cell_type": "markdown",
   "id": "18098777-91b5-49f5-b576-a86571ce5059",
   "metadata": {},
   "source": [
    "Объединим два датасета: ежемесячные расходы по исходящим внутри и вне сети"
   ]
  },
  {
   "cell_type": "code",
   "execution_count": 122,
   "id": "1f25c911-58d6-4334-aa90-79f562047465",
   "metadata": {},
   "outputs": [
    {
     "data": {
      "text/html": [
       "<div>\n",
       "<style scoped>\n",
       "    .dataframe tbody tr th:only-of-type {\n",
       "        vertical-align: middle;\n",
       "    }\n",
       "\n",
       "    .dataframe tbody tr th {\n",
       "        vertical-align: top;\n",
       "    }\n",
       "\n",
       "    .dataframe thead th {\n",
       "        text-align: right;\n",
       "    }\n",
       "</style>\n",
       "<table border=\"1\" class=\"dataframe\">\n",
       "  <thead>\n",
       "    <tr style=\"text-align: right;\">\n",
       "      <th></th>\n",
       "      <th>user_id</th>\n",
       "      <th>month</th>\n",
       "      <th>cur_monthly_fee</th>\n",
       "      <th>tariff_plan</th>\n",
       "      <th>num_of_operators</th>\n",
       "      <th>tc_outside_net_calls_tariff_cur</th>\n",
       "      <th>tc_outside_net_calls_tariff_a</th>\n",
       "      <th>tc_outside_net_calls_tariff_b</th>\n",
       "      <th>tc_outside_net_calls_tariff_c</th>\n",
       "      <th>tc_inside_net_calls_tariff_cur</th>\n",
       "      <th>tc_inside_net_calls_tariff_a</th>\n",
       "      <th>tc_inside_net_calls_tariff_b</th>\n",
       "      <th>tc_inside_net_calls_tariff_c</th>\n",
       "    </tr>\n",
       "  </thead>\n",
       "  <tbody>\n",
       "    <tr>\n",
       "      <th>0</th>\n",
       "      <td>166377</td>\n",
       "      <td>8</td>\n",
       "      <td>2000</td>\n",
       "      <td>B</td>\n",
       "      <td>4</td>\n",
       "      <td>34550.0</td>\n",
       "      <td>27640.0</td>\n",
       "      <td>34550.0</td>\n",
       "      <td>48370.0</td>\n",
       "      <td>0.0</td>\n",
       "      <td>0.0</td>\n",
       "      <td>0.0</td>\n",
       "      <td>0.0</td>\n",
       "    </tr>\n",
       "    <tr>\n",
       "      <th>1</th>\n",
       "      <td>166377</td>\n",
       "      <td>9</td>\n",
       "      <td>2000</td>\n",
       "      <td>B</td>\n",
       "      <td>4</td>\n",
       "      <td>45943.0</td>\n",
       "      <td>36754.4</td>\n",
       "      <td>45943.0</td>\n",
       "      <td>64320.2</td>\n",
       "      <td>NaN</td>\n",
       "      <td>NaN</td>\n",
       "      <td>NaN</td>\n",
       "      <td>NaN</td>\n",
       "    </tr>\n",
       "    <tr>\n",
       "      <th>2</th>\n",
       "      <td>166377</td>\n",
       "      <td>10</td>\n",
       "      <td>2000</td>\n",
       "      <td>B</td>\n",
       "      <td>5</td>\n",
       "      <td>44251.0</td>\n",
       "      <td>35400.8</td>\n",
       "      <td>44251.0</td>\n",
       "      <td>61951.4</td>\n",
       "      <td>0.0</td>\n",
       "      <td>0.0</td>\n",
       "      <td>0.0</td>\n",
       "      <td>0.0</td>\n",
       "    </tr>\n",
       "  </tbody>\n",
       "</table>\n",
       "</div>"
      ],
      "text/plain": [
       "   user_id  month  cur_monthly_fee tariff_plan  num_of_operators  \\\n",
       "0   166377      8             2000           B                 4   \n",
       "1   166377      9             2000           B                 4   \n",
       "2   166377     10             2000           B                 5   \n",
       "\n",
       "   tc_outside_net_calls_tariff_cur  tc_outside_net_calls_tariff_a  \\\n",
       "0                          34550.0                        27640.0   \n",
       "1                          45943.0                        36754.4   \n",
       "2                          44251.0                        35400.8   \n",
       "\n",
       "   tc_outside_net_calls_tariff_b  tc_outside_net_calls_tariff_c  \\\n",
       "0                        34550.0                        48370.0   \n",
       "1                        45943.0                        64320.2   \n",
       "2                        44251.0                        61951.4   \n",
       "\n",
       "   tc_inside_net_calls_tariff_cur  tc_inside_net_calls_tariff_a  \\\n",
       "0                             0.0                           0.0   \n",
       "1                             NaN                           NaN   \n",
       "2                             0.0                           0.0   \n",
       "\n",
       "   tc_inside_net_calls_tariff_b  tc_inside_net_calls_tariff_c  \n",
       "0                           0.0                           0.0  \n",
       "1                           NaN                           NaN  \n",
       "2                           0.0                           0.0  "
      ]
     },
     "execution_count": 122,
     "metadata": {},
     "output_type": "execute_result"
    }
   ],
   "source": [
    "# Операция слияния (объединение) по двум ключевым полям: user_id и month\n",
    "outgoing_calls_inside_outside_net_monthly_total_cost = outgoing_calls_outside_net_monthly_total_cost.merge(outgoing_calls_inside_net_monthly_total_cost, on=['user_id', 'month', 'tariff_plan','num_of_operators'], how='left')\n",
    "\n",
    "# Выводим первые строки\n",
    "outgoing_calls_inside_outside_net_monthly_total_cost.head(3)"
   ]
  },
  {
   "cell_type": "code",
   "execution_count": 123,
   "id": "b3d6aef2-54d6-4b5d-88d0-257decabb152",
   "metadata": {},
   "outputs": [
    {
     "name": "stdout",
     "output_type": "stream",
     "text": [
      "<class 'pandas.core.frame.DataFrame'>\n",
      "RangeIndex: 402 entries, 0 to 401\n",
      "Data columns (total 13 columns):\n",
      " #   Column                           Non-Null Count  Dtype  \n",
      "---  ------                           --------------  -----  \n",
      " 0   user_id                          402 non-null    int64  \n",
      " 1   month                            402 non-null    int32  \n",
      " 2   cur_monthly_fee                  402 non-null    int64  \n",
      " 3   tariff_plan                      402 non-null    object \n",
      " 4   num_of_operators                 402 non-null    int64  \n",
      " 5   tc_outside_net_calls_tariff_cur  402 non-null    float64\n",
      " 6   tc_outside_net_calls_tariff_a    402 non-null    float64\n",
      " 7   tc_outside_net_calls_tariff_b    402 non-null    float64\n",
      " 8   tc_outside_net_calls_tariff_c    402 non-null    float64\n",
      " 9   tc_inside_net_calls_tariff_cur   123 non-null    float64\n",
      " 10  tc_inside_net_calls_tariff_a     123 non-null    float64\n",
      " 11  tc_inside_net_calls_tariff_b     123 non-null    float64\n",
      " 12  tc_inside_net_calls_tariff_c     123 non-null    float64\n",
      "dtypes: float64(8), int32(1), int64(3), object(1)\n",
      "memory usage: 39.4+ KB\n"
     ]
    }
   ],
   "source": [
    "outgoing_calls_inside_outside_net_monthly_total_cost.info()"
   ]
  },
  {
   "cell_type": "markdown",
   "id": "bf16cef0-d185-4ef3-a295-bcf496ddbc30",
   "metadata": {},
   "source": [
    "Заменим значения NaN в столбцах tc_inside_net_calls_tariff_cur, tc_inside_net_calls_tariff_a, tc_inside_net_calls_tariff_b, tc_inside_net_calls_tariff_c на 0"
   ]
  },
  {
   "cell_type": "code",
   "execution_count": 125,
   "id": "a5d7ea4c-49b7-43e8-8b81-ec984541634f",
   "metadata": {},
   "outputs": [
    {
     "data": {
      "text/html": [
       "<div>\n",
       "<style scoped>\n",
       "    .dataframe tbody tr th:only-of-type {\n",
       "        vertical-align: middle;\n",
       "    }\n",
       "\n",
       "    .dataframe tbody tr th {\n",
       "        vertical-align: top;\n",
       "    }\n",
       "\n",
       "    .dataframe thead th {\n",
       "        text-align: right;\n",
       "    }\n",
       "</style>\n",
       "<table border=\"1\" class=\"dataframe\">\n",
       "  <thead>\n",
       "    <tr style=\"text-align: right;\">\n",
       "      <th></th>\n",
       "      <th>user_id</th>\n",
       "      <th>month</th>\n",
       "      <th>cur_monthly_fee</th>\n",
       "      <th>tariff_plan</th>\n",
       "      <th>num_of_operators</th>\n",
       "      <th>tc_outside_net_calls_tariff_cur</th>\n",
       "      <th>tc_outside_net_calls_tariff_a</th>\n",
       "      <th>tc_outside_net_calls_tariff_b</th>\n",
       "      <th>tc_outside_net_calls_tariff_c</th>\n",
       "      <th>tc_inside_net_calls_tariff_cur</th>\n",
       "      <th>tc_inside_net_calls_tariff_a</th>\n",
       "      <th>tc_inside_net_calls_tariff_b</th>\n",
       "      <th>tc_inside_net_calls_tariff_c</th>\n",
       "    </tr>\n",
       "  </thead>\n",
       "  <tbody>\n",
       "    <tr>\n",
       "      <th>0</th>\n",
       "      <td>166377</td>\n",
       "      <td>8</td>\n",
       "      <td>2000</td>\n",
       "      <td>B</td>\n",
       "      <td>4</td>\n",
       "      <td>34550.0</td>\n",
       "      <td>27640.0</td>\n",
       "      <td>34550.0</td>\n",
       "      <td>48370.0</td>\n",
       "      <td>0.0</td>\n",
       "      <td>0.0</td>\n",
       "      <td>0.0</td>\n",
       "      <td>0.0</td>\n",
       "    </tr>\n",
       "    <tr>\n",
       "      <th>1</th>\n",
       "      <td>166377</td>\n",
       "      <td>9</td>\n",
       "      <td>2000</td>\n",
       "      <td>B</td>\n",
       "      <td>4</td>\n",
       "      <td>45943.0</td>\n",
       "      <td>36754.4</td>\n",
       "      <td>45943.0</td>\n",
       "      <td>64320.2</td>\n",
       "      <td>0.0</td>\n",
       "      <td>0.0</td>\n",
       "      <td>0.0</td>\n",
       "      <td>0.0</td>\n",
       "    </tr>\n",
       "    <tr>\n",
       "      <th>2</th>\n",
       "      <td>166377</td>\n",
       "      <td>10</td>\n",
       "      <td>2000</td>\n",
       "      <td>B</td>\n",
       "      <td>5</td>\n",
       "      <td>44251.0</td>\n",
       "      <td>35400.8</td>\n",
       "      <td>44251.0</td>\n",
       "      <td>61951.4</td>\n",
       "      <td>0.0</td>\n",
       "      <td>0.0</td>\n",
       "      <td>0.0</td>\n",
       "      <td>0.0</td>\n",
       "    </tr>\n",
       "  </tbody>\n",
       "</table>\n",
       "</div>"
      ],
      "text/plain": [
       "   user_id  month  cur_monthly_fee tariff_plan  num_of_operators  \\\n",
       "0   166377      8             2000           B                 4   \n",
       "1   166377      9             2000           B                 4   \n",
       "2   166377     10             2000           B                 5   \n",
       "\n",
       "   tc_outside_net_calls_tariff_cur  tc_outside_net_calls_tariff_a  \\\n",
       "0                          34550.0                        27640.0   \n",
       "1                          45943.0                        36754.4   \n",
       "2                          44251.0                        35400.8   \n",
       "\n",
       "   tc_outside_net_calls_tariff_b  tc_outside_net_calls_tariff_c  \\\n",
       "0                        34550.0                        48370.0   \n",
       "1                        45943.0                        64320.2   \n",
       "2                        44251.0                        61951.4   \n",
       "\n",
       "   tc_inside_net_calls_tariff_cur  tc_inside_net_calls_tariff_a  \\\n",
       "0                             0.0                           0.0   \n",
       "1                             0.0                           0.0   \n",
       "2                             0.0                           0.0   \n",
       "\n",
       "   tc_inside_net_calls_tariff_b  tc_inside_net_calls_tariff_c  \n",
       "0                           0.0                           0.0  \n",
       "1                           0.0                           0.0  \n",
       "2                           0.0                           0.0  "
      ]
     },
     "execution_count": 125,
     "metadata": {},
     "output_type": "execute_result"
    }
   ],
   "source": [
    "# Список столбцов, в которых нужно заменить NaN на 0\n",
    "columns_to_fill = ['tc_inside_net_calls_tariff_cur', 'tc_inside_net_calls_tariff_a', 'tc_inside_net_calls_tariff_b', 'tc_inside_net_calls_tariff_c']\n",
    "\n",
    "# Заполнение NaN значениями 0\n",
    "outgoing_calls_inside_outside_net_monthly_total_cost[columns_to_fill] = outgoing_calls_inside_outside_net_monthly_total_cost[columns_to_fill].fillna(0)\n",
    "\n",
    "# Выводим первые строки\n",
    "outgoing_calls_inside_outside_net_monthly_total_cost.head(3)"
   ]
  },
  {
   "cell_type": "markdown",
   "id": "f71b0bc5-c266-4cec-b050-fb45053fea4b",
   "metadata": {},
   "source": [
    "Считаем суммарные ежемесячные расходы"
   ]
  },
  {
   "cell_type": "code",
   "execution_count": 127,
   "id": "bc9b89c7-6d9f-44d9-8e64-1f828f7db47a",
   "metadata": {},
   "outputs": [
    {
     "data": {
      "text/html": [
       "<div>\n",
       "<style scoped>\n",
       "    .dataframe tbody tr th:only-of-type {\n",
       "        vertical-align: middle;\n",
       "    }\n",
       "\n",
       "    .dataframe tbody tr th {\n",
       "        vertical-align: top;\n",
       "    }\n",
       "\n",
       "    .dataframe thead th {\n",
       "        text-align: right;\n",
       "    }\n",
       "</style>\n",
       "<table border=\"1\" class=\"dataframe\">\n",
       "  <thead>\n",
       "    <tr style=\"text-align: right;\">\n",
       "      <th></th>\n",
       "      <th>user_id</th>\n",
       "      <th>month</th>\n",
       "      <th>tariff_plan</th>\n",
       "      <th>tc_tariff_cur</th>\n",
       "      <th>tc_tariff_a</th>\n",
       "      <th>tc_tariff_b</th>\n",
       "      <th>tc_tariff_c</th>\n",
       "    </tr>\n",
       "  </thead>\n",
       "  <tbody>\n",
       "    <tr>\n",
       "      <th>0</th>\n",
       "      <td>166377</td>\n",
       "      <td>8</td>\n",
       "      <td>B</td>\n",
       "      <td>37150.0</td>\n",
       "      <td>32840.0</td>\n",
       "      <td>37150.0</td>\n",
       "      <td>50570.0</td>\n",
       "    </tr>\n",
       "    <tr>\n",
       "      <th>1</th>\n",
       "      <td>166377</td>\n",
       "      <td>9</td>\n",
       "      <td>B</td>\n",
       "      <td>48543.0</td>\n",
       "      <td>41954.4</td>\n",
       "      <td>48543.0</td>\n",
       "      <td>66520.2</td>\n",
       "    </tr>\n",
       "    <tr>\n",
       "      <th>2</th>\n",
       "      <td>166377</td>\n",
       "      <td>10</td>\n",
       "      <td>B</td>\n",
       "      <td>47001.0</td>\n",
       "      <td>40650.8</td>\n",
       "      <td>47001.0</td>\n",
       "      <td>64451.4</td>\n",
       "    </tr>\n",
       "  </tbody>\n",
       "</table>\n",
       "</div>"
      ],
      "text/plain": [
       "   user_id  month tariff_plan  tc_tariff_cur  tc_tariff_a  tc_tariff_b  \\\n",
       "0   166377      8           B        37150.0      32840.0      37150.0   \n",
       "1   166377      9           B        48543.0      41954.4      48543.0   \n",
       "2   166377     10           B        47001.0      40650.8      47001.0   \n",
       "\n",
       "   tc_tariff_c  \n",
       "0      50570.0  \n",
       "1      66520.2  \n",
       "2      64451.4  "
      ]
     },
     "execution_count": 127,
     "metadata": {},
     "output_type": "execute_result"
    }
   ],
   "source": [
    "# Коэффициенты стоимости звонков вне своей сети по тарифам\n",
    "ONE_OPERATOR_COST_A = 50  # Тариф А: цена одного оператора\n",
    "ONE_OPERATOR_COST_B = 150  # Тариф Б: цена одного оператора\n",
    "ONE_OPERATOR_COST_C = 300  # Тариф С: цена одного оператора\n",
    "\n",
    "# Определение коэффициентов в зависимости от тарифного плана\n",
    "coefficients = {'A': ONE_OPERATOR_COST_A, 'B': ONE_OPERATOR_COST_B, 'C': ONE_OPERATOR_COST_C}\n",
    "\n",
    "# Преобразование условий и создание новых столбцов\n",
    "for index, row in outgoing_calls_inside_outside_net_monthly_total_cost.iterrows():\n",
    "    coefficient = coefficients[row['tariff_plan']] * row['num_of_operators']\n",
    "    \n",
    "    # Перерассчёт столбцов с учётом new_coefficient\n",
    "    outgoing_calls_inside_outside_net_monthly_total_cost.at[index, 'tc_tariff_cur'] = row['cur_monthly_fee'] + row['tc_outside_net_calls_tariff_cur'] + row['tc_inside_net_calls_tariff_cur'] + coefficient\n",
    "    outgoing_calls_inside_outside_net_monthly_total_cost.at[index, 'tc_tariff_a'] = MONTHLY_FEE_TARIFF_A + row['tc_outside_net_calls_tariff_a'] + row['tc_inside_net_calls_tariff_a'] + ONE_OPERATOR_COST_A * row['num_of_operators']\n",
    "    outgoing_calls_inside_outside_net_monthly_total_cost.at[index, 'tc_tariff_b'] = MONTHLY_FEE_TARIFF_B + row['tc_outside_net_calls_tariff_b'] + row['tc_inside_net_calls_tariff_b'] + ONE_OPERATOR_COST_B * row['num_of_operators']\n",
    "    outgoing_calls_inside_outside_net_monthly_total_cost.at[index, 'tc_tariff_c'] = MONTHLY_FEE_TARIFF_C + row['tc_outside_net_calls_tariff_c'] + row['tc_inside_net_calls_tariff_c'] + ONE_OPERATOR_COST_C * row['num_of_operators']\n",
    "\n",
    "# Сохраняем нужный набор столбцов\n",
    "total_monthly_costs_per_user = outgoing_calls_inside_outside_net_monthly_total_cost[\n",
    "    ['user_id', 'month','tariff_plan', 'tc_tariff_cur', 'tc_tariff_a', 'tc_tariff_b', 'tc_tariff_c']\n",
    "]\n",
    "\n",
    "# Выведем первые три строки\n",
    "total_monthly_costs_per_user.head(3)"
   ]
  },
  {
   "cell_type": "markdown",
   "id": "7c25539f-f000-44ec-ab26-899a687685e4",
   "metadata": {},
   "source": [
    "### Посчитаем общую возможную экономию для клиентов за 4 месяца"
   ]
  },
  {
   "cell_type": "markdown",
   "id": "5ff7e166-49eb-4f43-8c8a-c31a0bdb23af",
   "metadata": {},
   "source": [
    "Посчитаем потенциальную общую среднемесячную экономию для клиентов"
   ]
  },
  {
   "cell_type": "code",
   "execution_count": 130,
   "id": "490e6d80-d256-428a-ac88-4ef5d458265c",
   "metadata": {},
   "outputs": [
    {
     "data": {
      "text/html": [
       "<div>\n",
       "<style scoped>\n",
       "    .dataframe tbody tr th:only-of-type {\n",
       "        vertical-align: middle;\n",
       "    }\n",
       "\n",
       "    .dataframe tbody tr th {\n",
       "        vertical-align: top;\n",
       "    }\n",
       "\n",
       "    .dataframe thead th {\n",
       "        text-align: right;\n",
       "    }\n",
       "</style>\n",
       "<table border=\"1\" class=\"dataframe\">\n",
       "  <thead>\n",
       "    <tr style=\"text-align: right;\">\n",
       "      <th></th>\n",
       "      <th>user_id</th>\n",
       "      <th>month</th>\n",
       "      <th>tariff_plan</th>\n",
       "      <th>tc_tariff_cur</th>\n",
       "      <th>tc_tariff_a</th>\n",
       "      <th>tc_tariff_b</th>\n",
       "      <th>tc_tariff_c</th>\n",
       "      <th>potential_savings</th>\n",
       "    </tr>\n",
       "  </thead>\n",
       "  <tbody>\n",
       "    <tr>\n",
       "      <th>0</th>\n",
       "      <td>166377</td>\n",
       "      <td>8</td>\n",
       "      <td>B</td>\n",
       "      <td>37150.0</td>\n",
       "      <td>32840.0</td>\n",
       "      <td>37150.0</td>\n",
       "      <td>50570.0</td>\n",
       "      <td>4310.0</td>\n",
       "    </tr>\n",
       "    <tr>\n",
       "      <th>1</th>\n",
       "      <td>166377</td>\n",
       "      <td>9</td>\n",
       "      <td>B</td>\n",
       "      <td>48543.0</td>\n",
       "      <td>41954.4</td>\n",
       "      <td>48543.0</td>\n",
       "      <td>66520.2</td>\n",
       "      <td>6588.6</td>\n",
       "    </tr>\n",
       "    <tr>\n",
       "      <th>2</th>\n",
       "      <td>166377</td>\n",
       "      <td>10</td>\n",
       "      <td>B</td>\n",
       "      <td>47001.0</td>\n",
       "      <td>40650.8</td>\n",
       "      <td>47001.0</td>\n",
       "      <td>64451.4</td>\n",
       "      <td>6350.2</td>\n",
       "    </tr>\n",
       "  </tbody>\n",
       "</table>\n",
       "</div>"
      ],
      "text/plain": [
       "   user_id  month tariff_plan  tc_tariff_cur  tc_tariff_a  tc_tariff_b  \\\n",
       "0   166377      8           B        37150.0      32840.0      37150.0   \n",
       "1   166377      9           B        48543.0      41954.4      48543.0   \n",
       "2   166377     10           B        47001.0      40650.8      47001.0   \n",
       "\n",
       "   tc_tariff_c  potential_savings  \n",
       "0      50570.0             4310.0  \n",
       "1      66520.2             6588.6  \n",
       "2      64451.4             6350.2  "
      ]
     },
     "execution_count": 130,
     "metadata": {},
     "output_type": "execute_result"
    }
   ],
   "source": [
    "# Основной DataFrame\n",
    "monthly_costs_and_potential_savings = pd.DataFrame(total_monthly_costs_per_user)\n",
    "\n",
    "\n",
    "# Создание столбца potential_savings\n",
    "def compute_potential_savings(row):\n",
    "    cur_tariff = row['tc_tariff_cur']\n",
    "    other_tariffs = [row['tc_tariff_a'], row['tc_tariff_b'], row['tc_tariff_c']]\n",
    "    min_tariff = min(other_tariffs)\n",
    "    \n",
    "    if cur_tariff == min_tariff:\n",
    "        return 0\n",
    "    elif cur_tariff > min_tariff:\n",
    "        return cur_tariff - min_tariff\n",
    "    \n",
    "    \n",
    "    elif cur_tariff in other_tariffs:\n",
    "        return cur_tariff - min_tariff\n",
    "    else:\n",
    "        return None  # Или другое подходящее значение, если хотите пропустить такие случаи\n",
    "\n",
    "# Применяем функцию к каждой строке\n",
    "monthly_costs_and_potential_savings['potential_savings'] = monthly_costs_and_potential_savings.apply(compute_potential_savings, axis=1)\n",
    "\n",
    "# Выведем первые три строки\n",
    "monthly_costs_and_potential_savings.head(3)"
   ]
  },
  {
   "cell_type": "code",
   "execution_count": 131,
   "id": "49fd2b79-21b5-40f3-87fa-81a8ef26e3f3",
   "metadata": {},
   "outputs": [
    {
     "name": "stdout",
     "output_type": "stream",
     "text": [
      "Общая выручка за 4 месяца: 9157124.95 рублей\n",
      "Общая сумма потенциальнОЙ экономии для клиентов за 4 месяца: 2104373.9 рублей\n"
     ]
    }
   ],
   "source": [
    "# Подсчет общей суммы потенциальных сбережений\n",
    "total_savings = f\"{monthly_costs_and_potential_savings['potential_savings'].sum()}\"\n",
    "\n",
    "# Подсчет текущей средней ежемесячной выручки\n",
    "current_turnover = f\"{monthly_costs_and_potential_savings['tc_tariff_cur'].sum()}\"\n",
    "\n",
    "print(f'Общая выручка за 4 месяца: {current_turnover} рублей')\n",
    "print(f'Общая сумма потенциальнОЙ экономии для клиентов за 4 месяца: {total_savings} рублей')"
   ]
  },
  {
   "cell_type": "markdown",
   "id": "fda358fa-50d1-4356-a6e3-3e6f24d4dcba",
   "metadata": {},
   "source": [
    "### Посчитаем среднемесячную потенциальную экономию клиентов"
   ]
  },
  {
   "cell_type": "markdown",
   "id": "bb56bf99-c7ae-4861-b0fe-cf8480e9f81b",
   "metadata": {},
   "source": [
    "Посчитаем среднее и медиану"
   ]
  },
  {
   "cell_type": "code",
   "execution_count": 134,
   "id": "6853f097-8544-4568-9bc4-2818132fed41",
   "metadata": {},
   "outputs": [
    {
     "name": "stdout",
     "output_type": "stream",
     "text": [
      "Среднее значение экономии: 5234.8\n",
      "Медианное значение экономии: 520.3250000000003\n"
     ]
    }
   ],
   "source": [
    "mean_value = round(monthly_costs_and_potential_savings['potential_savings'].mean(),1)\n",
    "median_value = monthly_costs_and_potential_savings['potential_savings'].median()\n",
    "print(\"Среднее значение экономии:\", mean_value)\n",
    "print(\"Медианное значение экономии:\", median_value)"
   ]
  },
  {
   "cell_type": "markdown",
   "id": "91c5d6ed-f37a-4756-b231-69f572c162bc",
   "metadata": {},
   "source": [
    "Так как медиана в разы отличается от среднего значения, возьмем за основу медиану. Будем предлагать смену тарифа клиентам, если экономия для них соствит больше 100 рублей."
   ]
  },
  {
   "cell_type": "code",
   "execution_count": 136,
   "id": "70b25b47-9e96-49c1-8fe6-f7e1e1a3995b",
   "metadata": {},
   "outputs": [
    {
     "data": {
      "text/html": [
       "<div>\n",
       "<style scoped>\n",
       "    .dataframe tbody tr th:only-of-type {\n",
       "        vertical-align: middle;\n",
       "    }\n",
       "\n",
       "    .dataframe tbody tr th {\n",
       "        vertical-align: top;\n",
       "    }\n",
       "\n",
       "    .dataframe thead th {\n",
       "        text-align: right;\n",
       "    }\n",
       "</style>\n",
       "<table border=\"1\" class=\"dataframe\">\n",
       "  <thead>\n",
       "    <tr style=\"text-align: right;\">\n",
       "      <th></th>\n",
       "      <th>user_id</th>\n",
       "      <th>month</th>\n",
       "      <th>tariff_plan</th>\n",
       "      <th>tc_tariff_cur</th>\n",
       "      <th>tc_tariff_a</th>\n",
       "      <th>tc_tariff_b</th>\n",
       "      <th>tc_tariff_c</th>\n",
       "      <th>potential_savings</th>\n",
       "    </tr>\n",
       "  </thead>\n",
       "  <tbody>\n",
       "    <tr>\n",
       "      <th>0</th>\n",
       "      <td>166377</td>\n",
       "      <td>8</td>\n",
       "      <td>B</td>\n",
       "      <td>37150.0</td>\n",
       "      <td>32840.0</td>\n",
       "      <td>37150.0</td>\n",
       "      <td>50570.0</td>\n",
       "      <td>4310.0</td>\n",
       "    </tr>\n",
       "    <tr>\n",
       "      <th>1</th>\n",
       "      <td>166377</td>\n",
       "      <td>9</td>\n",
       "      <td>B</td>\n",
       "      <td>48543.0</td>\n",
       "      <td>41954.4</td>\n",
       "      <td>48543.0</td>\n",
       "      <td>66520.2</td>\n",
       "      <td>6588.6</td>\n",
       "    </tr>\n",
       "    <tr>\n",
       "      <th>2</th>\n",
       "      <td>166377</td>\n",
       "      <td>10</td>\n",
       "      <td>B</td>\n",
       "      <td>47001.0</td>\n",
       "      <td>40650.8</td>\n",
       "      <td>47001.0</td>\n",
       "      <td>64451.4</td>\n",
       "      <td>6350.2</td>\n",
       "    </tr>\n",
       "  </tbody>\n",
       "</table>\n",
       "</div>"
      ],
      "text/plain": [
       "   user_id  month tariff_plan  tc_tariff_cur  tc_tariff_a  tc_tariff_b  \\\n",
       "0   166377      8           B        37150.0      32840.0      37150.0   \n",
       "1   166377      9           B        48543.0      41954.4      48543.0   \n",
       "2   166377     10           B        47001.0      40650.8      47001.0   \n",
       "\n",
       "   tc_tariff_c  potential_savings  \n",
       "0      50570.0             4310.0  \n",
       "1      66520.2             6588.6  \n",
       "2      64451.4             6350.2  "
      ]
     },
     "execution_count": 136,
     "metadata": {},
     "output_type": "execute_result"
    }
   ],
   "source": [
    "# Заведем константу\n",
    "MIN_SAVINGS = 100\n",
    "\n",
    "monthly_costs_and_potential_savings_101 = monthly_costs_and_potential_savings.query('potential_savings > @MIN_SAVINGS')\n",
    "\n",
    "# Выведем первые три строки\n",
    "monthly_costs_and_potential_savings_101.head(3)"
   ]
  },
  {
   "cell_type": "code",
   "execution_count": 137,
   "id": "238f0dff-0bfc-4926-a24e-b26aac1f02f7",
   "metadata": {},
   "outputs": [
    {
     "data": {
      "text/html": [
       "<div>\n",
       "<style scoped>\n",
       "    .dataframe tbody tr th:only-of-type {\n",
       "        vertical-align: middle;\n",
       "    }\n",
       "\n",
       "    .dataframe tbody tr th {\n",
       "        vertical-align: top;\n",
       "    }\n",
       "\n",
       "    .dataframe thead th {\n",
       "        text-align: right;\n",
       "    }\n",
       "</style>\n",
       "<table border=\"1\" class=\"dataframe\">\n",
       "  <thead>\n",
       "    <tr style=\"text-align: right;\">\n",
       "      <th></th>\n",
       "      <th>user_id</th>\n",
       "      <th>avg_tc_tariff_cur</th>\n",
       "      <th>avg_tc_tariff_a</th>\n",
       "      <th>avg_tc_tariff_b</th>\n",
       "      <th>avg_tc_tariff_c</th>\n",
       "      <th>avg_potential_savings</th>\n",
       "    </tr>\n",
       "  </thead>\n",
       "  <tbody>\n",
       "    <tr>\n",
       "      <th>0</th>\n",
       "      <td>166377</td>\n",
       "      <td>44378.4</td>\n",
       "      <td>38622.7</td>\n",
       "      <td>44378.4</td>\n",
       "      <td>60689.7</td>\n",
       "      <td>5755.7</td>\n",
       "    </tr>\n",
       "    <tr>\n",
       "      <th>1</th>\n",
       "      <td>166405</td>\n",
       "      <td>112602.0</td>\n",
       "      <td>93061.6</td>\n",
       "      <td>112602.0</td>\n",
       "      <td>156382.8</td>\n",
       "      <td>19540.4</td>\n",
       "    </tr>\n",
       "    <tr>\n",
       "      <th>2</th>\n",
       "      <td>166406</td>\n",
       "      <td>48626.4</td>\n",
       "      <td>42143.6</td>\n",
       "      <td>48626.4</td>\n",
       "      <td>66479.4</td>\n",
       "      <td>6482.8</td>\n",
       "    </tr>\n",
       "  </tbody>\n",
       "</table>\n",
       "</div>"
      ],
      "text/plain": [
       "   user_id  avg_tc_tariff_cur  avg_tc_tariff_a  avg_tc_tariff_b  \\\n",
       "0   166377            44378.4          38622.7          44378.4   \n",
       "1   166405           112602.0          93061.6         112602.0   \n",
       "2   166406            48626.4          42143.6          48626.4   \n",
       "\n",
       "   avg_tc_tariff_c  avg_potential_savings  \n",
       "0          60689.7                 5755.7  \n",
       "1         156382.8                19540.4  \n",
       "2          66479.4                 6482.8  "
      ]
     },
     "execution_count": 137,
     "metadata": {},
     "output_type": "execute_result"
    }
   ],
   "source": [
    "# Вычисление средних значений по каждому пользователю\n",
    "avg_costs_and_potential_savings = monthly_costs_and_potential_savings_101.groupby('user_id').agg({\n",
    "    'tc_tariff_cur': 'mean',\n",
    "    'tc_tariff_a': 'mean',\n",
    "    'tc_tariff_b': 'mean',\n",
    "    'tc_tariff_c': 'mean',\n",
    "    'potential_savings': 'mean'\n",
    "}).reset_index()\n",
    "\n",
    "# Округляем значения до одного десятичного знака\n",
    "avg_costs_and_potential_savings = avg_costs_and_potential_savings.round(1)\n",
    "\n",
    "# Переименование столбцов\n",
    "avg_costs_and_potential_savings.columns = ['user_id', 'avg_tc_tariff_cur', 'avg_tc_tariff_a', 'avg_tc_tariff_b', 'avg_tc_tariff_c', 'avg_potential_savings']\n",
    "\n",
    "# Выведем первые три строки\n",
    "avg_costs_and_potential_savings.head(3)"
   ]
  },
  {
   "cell_type": "code",
   "execution_count": 138,
   "id": "02f339ae-fe00-4655-8b45-a7c6f599b597",
   "metadata": {},
   "outputs": [
    {
     "name": "stdout",
     "output_type": "stream",
     "text": [
      "Общая среднемесячная выручка на данный момент: 3,387,895.0 рублей\n",
      "Общая сумма потенциальных экономии для клиентов в месяц: 932,538.6 рублей\n"
     ]
    }
   ],
   "source": [
    "# Подсчет общей суммы потенциальных сбережений\n",
    "avg_monthly_total_savings = f\"{avg_costs_and_potential_savings['avg_potential_savings'].sum():,.1f}\"\n",
    "\n",
    "# Подсчет текущей средней ежемесячной выручки\n",
    "avg_monthly__tc_current_turnover = f\"{avg_costs_and_potential_savings['avg_tc_tariff_cur'].sum():,.1f}\"\n",
    "\n",
    "print(f'Общая среднемесячная выручка на данный момент: {avg_monthly__tc_current_turnover} рублей')\n",
    "print(f'Общая сумма потенциальных экономии для клиентов в месяц: {avg_monthly_total_savings} рублей')"
   ]
  },
  {
   "cell_type": "markdown",
   "id": "75298a50-ed53-4a02-9c24-107112ce050f",
   "metadata": {},
   "source": [
    "Мы сделали следующие расчеты:\n",
    "- Мы посчитали количество операторов для каждого клиента помесячно\n",
    "- Посчитали расходы на исходящие звонки внутри сети\n",
    "- Посчитали суммарные расходы клиентов на исходящие звонки вне сети\n",
    "- Посчитали суммарные расходы по каждому тарифу в разрезе пользователей помесячно\n",
    "- Посчитали общую возможную экономию для клиентов за 4 месяца:\n",
    "  - Общая выручка за 4 месяца: 9,157,124.95 рублей\n",
    "  - Общая сумма потенциальной экономии для клиентов за 4 месяца: 2,104,373.9 рублей\n",
    "- Посчитали среднемесячную потенциальную экономию клиентов:\n",
    "  - Общая среднемесячная выручка на данный момент: 3,387,895.0 рублей\n",
    "  - Общая сумма потенциальных экономии для клиентов в месяц: 932,538.7 рублей"
   ]
  },
  {
   "cell_type": "markdown",
   "id": "11080d08-f45b-49cd-82ce-0c6d3b55a888",
   "metadata": {},
   "source": [
    "## 5 Создадим список клиентов со старым и новым(оптимальным) тарифом"
   ]
  },
  {
   "cell_type": "code",
   "execution_count": 141,
   "id": "d9e82254-c78e-4915-8a84-f91d5ab09766",
   "metadata": {},
   "outputs": [
    {
     "data": {
      "text/html": [
       "<div>\n",
       "<style scoped>\n",
       "    .dataframe tbody tr th:only-of-type {\n",
       "        vertical-align: middle;\n",
       "    }\n",
       "\n",
       "    .dataframe tbody tr th {\n",
       "        vertical-align: top;\n",
       "    }\n",
       "\n",
       "    .dataframe thead th {\n",
       "        text-align: right;\n",
       "    }\n",
       "</style>\n",
       "<table border=\"1\" class=\"dataframe\">\n",
       "  <thead>\n",
       "    <tr style=\"text-align: right;\">\n",
       "      <th></th>\n",
       "      <th>user_id</th>\n",
       "      <th>month</th>\n",
       "      <th>tariff_plan</th>\n",
       "      <th>optimal_tariff_plan</th>\n",
       "    </tr>\n",
       "  </thead>\n",
       "  <tbody>\n",
       "    <tr>\n",
       "      <th>0</th>\n",
       "      <td>166377</td>\n",
       "      <td>8</td>\n",
       "      <td>B</td>\n",
       "      <td>A</td>\n",
       "    </tr>\n",
       "    <tr>\n",
       "      <th>1</th>\n",
       "      <td>166377</td>\n",
       "      <td>9</td>\n",
       "      <td>B</td>\n",
       "      <td>A</td>\n",
       "    </tr>\n",
       "    <tr>\n",
       "      <th>2</th>\n",
       "      <td>166377</td>\n",
       "      <td>10</td>\n",
       "      <td>B</td>\n",
       "      <td>A</td>\n",
       "    </tr>\n",
       "  </tbody>\n",
       "</table>\n",
       "</div>"
      ],
      "text/plain": [
       "   user_id  month tariff_plan optimal_tariff_plan\n",
       "0   166377      8           B                   A\n",
       "1   166377      9           B                   A\n",
       "2   166377     10           B                   A"
      ]
     },
     "execution_count": 141,
     "metadata": {},
     "output_type": "execute_result"
    }
   ],
   "source": [
    "total_monthly_costs_per_user = total_monthly_costs_per_user.copy()\n",
    "\n",
    "def find_optimal_tariff(row):\n",
    "    # Выбираем минимальные тарифы из предложенных\n",
    "    min_value = min(row['tc_tariff_a'], row['tc_tariff_b'], row['tc_tariff_c'])\n",
    "    \n",
    "    if row['tc_tariff_cur'] == min_value:\n",
    "        return row['tariff_plan']\n",
    "    elif row['tc_tariff_a'] == min_value:\n",
    "        return 'A'\n",
    "    elif row['tc_tariff_b'] == min_value:\n",
    "        return 'B'\n",
    "    else:\n",
    "        return 'C'\n",
    "\n",
    "# Применяем функцию к каждому ряду\n",
    "total_monthly_costs_per_user['optimal_tariff_plan'] = total_monthly_costs_per_user.apply(find_optimal_tariff, axis=1)\n",
    "\n",
    "# Оставляем нужные столбцы\n",
    "optimal_tariff_list = total_monthly_costs_per_user[['user_id', 'month', 'tariff_plan', 'optimal_tariff_plan']]\n",
    "\n",
    "# Выведем первые три строки\n",
    "optimal_tariff_list.head(3)"
   ]
  },
  {
   "cell_type": "markdown",
   "id": "5bd4eced-9f18-4b01-af08-84fdf2ddbd41",
   "metadata": {},
   "source": [
    "В виду того что есть пользователи, у которых оптимальные тарифный план отличается от месяца к месяцу, выведем список с номером пользователем и модальным значением оптимального тарифа. Если модальное значение посчитать не получается, будем использовать значение последнего месяца."
   ]
  },
  {
   "cell_type": "code",
   "execution_count": 143,
   "id": "bb3c551e-68d6-40e4-afc2-b638f4c5646f",
   "metadata": {},
   "outputs": [
    {
     "data": {
      "text/html": [
       "<div>\n",
       "<style scoped>\n",
       "    .dataframe tbody tr th:only-of-type {\n",
       "        vertical-align: middle;\n",
       "    }\n",
       "\n",
       "    .dataframe tbody tr th {\n",
       "        vertical-align: top;\n",
       "    }\n",
       "\n",
       "    .dataframe thead th {\n",
       "        text-align: right;\n",
       "    }\n",
       "</style>\n",
       "<table border=\"1\" class=\"dataframe\">\n",
       "  <thead>\n",
       "    <tr style=\"text-align: right;\">\n",
       "      <th></th>\n",
       "      <th>user_id</th>\n",
       "      <th>optimal_tariff_plan_mode</th>\n",
       "      <th>tariff_plan</th>\n",
       "    </tr>\n",
       "  </thead>\n",
       "  <tbody>\n",
       "    <tr>\n",
       "      <th>0</th>\n",
       "      <td>166377</td>\n",
       "      <td>A</td>\n",
       "      <td>B</td>\n",
       "    </tr>\n",
       "    <tr>\n",
       "      <th>1</th>\n",
       "      <td>166405</td>\n",
       "      <td>A</td>\n",
       "      <td>B</td>\n",
       "    </tr>\n",
       "    <tr>\n",
       "      <th>2</th>\n",
       "      <td>166406</td>\n",
       "      <td>A</td>\n",
       "      <td>B</td>\n",
       "    </tr>\n",
       "  </tbody>\n",
       "</table>\n",
       "</div>"
      ],
      "text/plain": [
       "   user_id optimal_tariff_plan_mode tariff_plan\n",
       "0   166377                        A           B\n",
       "1   166405                        A           B\n",
       "2   166406                        A           B"
      ]
     },
     "execution_count": 143,
     "metadata": {},
     "output_type": "execute_result"
    }
   ],
   "source": [
    "# Группируем по пользователям и считаем модальное значение оптимального тарифа\n",
    "def calculate_optimal(user_data):\n",
    "    mode_values = user_data.value_counts()\n",
    "    max_count = mode_values.max()\n",
    "    \n",
    "    # Проверяем, есть ли однозначное модальное значение\n",
    "    if len(mode_values[mode_values == max_count]) > 1:\n",
    "        # Берем значение за последний месяц\n",
    "        last_row = user_data.tail(1).values[0]\n",
    "        return last_row\n",
    "    else:\n",
    "        # Возвращаем модальное значение\n",
    "        return mode_values.idxmax()\n",
    "\n",
    " \n",
    "    \n",
    "# Группируем и рассчитываем модальное значение или значение за последний месяц\n",
    "grouped_optimal_tariff_list = optimal_tariff_list.groupby('user_id')['optimal_tariff_plan'].apply(calculate_optimal)\n",
    "\n",
    "# Преобразовываем обратно в DataFrame\n",
    "result_grouped_optimal_tariff_list = grouped_optimal_tariff_list.reset_index(name='optimal_tariff_plan_mode')\n",
    "\n",
    "# Добавляем текущий тарифный план\n",
    "result_grouped_optimal_tariff_list['tariff_plan'] = result_grouped_optimal_tariff_list['user_id'].map(\n",
    "    optimal_tariff_list.drop_duplicates(subset=['user_id']) \\\n",
    "     .set_index('user_id')['tariff_plan']\n",
    ")\n",
    "\n",
    "# Выведем первые три строки\n",
    "result_grouped_optimal_tariff_list.head(3)"
   ]
  },
  {
   "cell_type": "markdown",
   "id": "d8ebea90-0d3f-49c9-abbe-eb2b6a2cc996",
   "metadata": {},
   "source": [
    "Мы создали список клиентов со старым и новым(оптимальным) тарифом"
   ]
  },
  {
   "cell_type": "code",
   "execution_count": 272,
   "id": "190f6618-61be-43f8-ab5a-9e3c51dfaa47",
   "metadata": {},
   "outputs": [
    {
     "data": {
      "image/png": "[encoded data removed]",
      "text/plain": [
       "<Figure size 1200x600 with 2 Axes>"
      ]
     },
     "metadata": {},
     "output_type": "display_data"
    }
   ],
   "source": [
    "# Список категорий и порядок\n",
    "categories_order = [\"A\", \"B\", \"C\"]\n",
    "\n",
    "# Применение категории с установленным порядком\n",
    "result_grouped_optimal_tariff_list[\"optimal_tariff_plan_mode\"] = \\\n",
    "    result_grouped_optimal_tariff_list[\"optimal_tariff_plan_mode\"].astype(pd.CategoricalDtype(categories=categories_order, ordered=True))\n",
    "\n",
    "result_grouped_optimal_tariff_list[\"tariff_plan\"] = \\\n",
    "    result_grouped_optimal_tariff_list[\"tariff_plan\"].astype(pd.CategoricalDtype(categories=categories_order, ordered=True))\n",
    "\n",
    "# Определяем максимальную величину для общей оси Y\n",
    "max_value = max(result_grouped_optimal_tariff_list[\"tariff_plan\"].value_counts().max(),\n",
    "                result_grouped_optimal_tariff_list[\"optimal_tariff_plan_mode\"].value_counts().max())\n",
    "\n",
    "# Рисование графиков\n",
    "plt.figure(figsize=(12, 6))\n",
    "\n",
    "# Левый график: Current Tariff Plan\n",
    "plt.subplot(1, 2, 1)\n",
    "sns.countplot(x=\"tariff_plan\", data=result_grouped_optimal_tariff_list)\n",
    "plt.title(\"Распределение пользователей по текущим тарифам\")\n",
    "plt.xlabel(\"Тарифный план\")\n",
    "plt.ylabel(\"Количество пользователей\")\n",
    "plt.ylim([0, max_value])  # Установили общую ось Y\n",
    "\n",
    "# Правый график: Optimal Tariff Plan Mode\n",
    "plt.subplot(1, 2, 2)\n",
    "sns.countplot(x=\"optimal_tariff_plan_mode\", data=result_grouped_optimal_tariff_list)\n",
    "plt.title(\"Распределение пользователей по оптимальным тарифам\")\n",
    "plt.xlabel(\"Тарифный план\")\n",
    "plt.ylabel(\"Количество пользователей\")\n",
    "plt.ylim([0, max_value])  # Тоже устанавливаем общую ось Y\n",
    "\n",
    "# Оптимизация расположения элементов\n",
    "plt.tight_layout()\n",
    "\n",
    "# Показываем графики\n",
    "plt.show()"
   ]
  },
  {
   "cell_type": "markdown",
   "id": "24745a6f-7ca6-4f80-af72-34582dd0f79a",
   "metadata": {},
   "source": [
    "- Доля пользователей с тарифным планом A значительно прирастет после перевода части пользователей на оптимальный тариф\n",
    "- Доля пользоватлей с тарифными планами B и C снизится после перехода на оптимальный тариф"
   ]
  },
  {
   "cell_type": "markdown",
   "id": "3ac94b43-2afc-4a5f-bc46-3db7e9693d45",
   "metadata": {},
   "source": [
    "Результаты:\n",
    "- Мы создадили список клиентов со старым и новым(оптимальным) тарифом\n",
    "- Мы построили графики с распределением пользователей по текущим тарифам и оптимальным:\n",
    "    - Доля пользователей с тарифным планом A значительно прирастет после перевода части пользователей на оптимальный тариф\n",
    "    - Доля пользоватлей с тарифными планами B и C снизится после перехода на оптимальный тариф"
   ]
  },
  {
   "cell_type": "markdown",
   "id": "4fd18ef4-eb1c-420e-964f-e09381663fc9",
   "metadata": {},
   "source": [
    "## 6 Проверка гипотез"
   ]
  },
  {
   "cell_type": "markdown",
   "id": "6defc5fe-21e1-4493-85a8-1e11589b3c79",
   "metadata": {},
   "source": [
    "### Проверим гипотезу \"Стоимость услуг на тарифных планах A и B одинаковая\"."
   ]
  },
  {
   "cell_type": "markdown",
   "id": "9774d647-f412-4fa1-a0e2-683e21212782",
   "metadata": {},
   "source": [
    "- Нулевая гипотеза: различий в стоимости услуг на тарифных планах А и B нет \n",
    "- Альтернативня гипотеза: есть различие в стоимости услуг на тарифных планах А и B"
   ]
  },
  {
   "cell_type": "code",
   "execution_count": 151,
   "id": "6e2fd6e4-305e-4ffc-8d41-b2b92bacd61e",
   "metadata": {},
   "outputs": [
    {
     "name": "stdout",
     "output_type": "stream",
     "text": [
      "count       248.000000\n",
      "mean      23198.621371\n",
      "std       27742.200830\n",
      "min        5051.600000\n",
      "25%        6176.000000\n",
      "50%       11984.400000\n",
      "75%       27666.400000\n",
      "max      207222.400000\n",
      "Name: tc_tariff_a, dtype: float64\n",
      "count       248.000000\n",
      "mean      25051.834476\n",
      "std       34778.321937\n",
      "min        2152.000000\n",
      "25%        3651.375000\n",
      "50%       10861.750000\n",
      "75%       30879.875000\n",
      "max      255040.500000\n",
      "Name: tc_tariff_b, dtype: float64\n"
     ]
    }
   ],
   "source": [
    "print(monthly_costs_and_potential_savings_101['tc_tariff_a'].describe())\n",
    "print(monthly_costs_and_potential_savings_101['tc_tariff_b'].describe())"
   ]
  },
  {
   "cell_type": "code",
   "execution_count": 152,
   "id": "901994b8-9b34-4630-8705-f1d145988d10",
   "metadata": {},
   "outputs": [
    {
     "name": "stdout",
     "output_type": "stream",
     "text": [
      "Медиана средних расходов по тарифному плану А: 11984.400000000001\n",
      "Медиана средних расходов по тарифному плану B: 10861.75\n"
     ]
    }
   ],
   "source": [
    "# Посчитаем средние значения\n",
    "tc_tariff_a_median = monthly_costs_and_potential_savings_101['tc_tariff_a'].median()\n",
    "tc_tariff_b_median = monthly_costs_and_potential_savings_101['tc_tariff_b'].median()\n",
    "\n",
    "# Выведем разницу на экран\n",
    "print(f\"Медиана средних расходов по тарифному плану А: {tc_tariff_a_median}\")\n",
    "print(f\"Медиана средних расходов по тарифному плану B: {tc_tariff_b_median}\")"
   ]
  },
  {
   "cell_type": "markdown",
   "id": "77cb77ab-fe16-4f8c-9270-2f9c4c3adf1e",
   "metadata": {},
   "source": [
    "Медианы(как и средние) практически совпадают. При этом, в обоих случаях медиана в разы отличается от среднего(распределение отличается от нормального). Также дисперсии отличаются друг от друга на 25%, используем тест Манна-Уитни."
   ]
  },
  {
   "cell_type": "code",
   "execution_count": 154,
   "id": "a7c0dd71-20fd-4523-92bf-9dcb51fff118",
   "metadata": {},
   "outputs": [
    {
     "name": "stdout",
     "output_type": "stream",
     "text": [
      "p-значение: 0.023359040312896272\n",
      "Отвергаем нулевую гипотезу\n"
     ]
    }
   ],
   "source": [
    "result_one = stats.mannwhitneyu(monthly_costs_and_potential_savings_101['tc_tariff_a'], monthly_costs_and_potential_savings_101['tc_tariff_b'])\n",
    "\n",
    "#results = st.mannwhitneyu(tarif_a, tarif_b) \n",
    "\n",
    "alpha = 0.05\n",
    "\n",
    "print('p-значение:', result_one.pvalue)\n",
    "\n",
    "if (result_one.pvalue < alpha):\n",
    "    print('Отвергаем нулевую гипотезу')\n",
    "else:\n",
    "    print('Не удалось отвергнуть нулевую гипотезу')"
   ]
  },
  {
   "cell_type": "markdown",
   "id": "7f410acf-d691-4c28-bc1b-a3e967f52bf9",
   "metadata": {},
   "source": [
    "Отвергаем нулевую гипотезу: различия в стоимости услуг между тарифами А и B есть."
   ]
  },
  {
   "cell_type": "markdown",
   "id": "32a2b09b-f4a5-4ece-9c10-0edb36938499",
   "metadata": {},
   "source": [
    "### Проверим гипотезу \"Время ожидания ответа на тарифных планах B и C одинаковое\""
   ]
  },
  {
   "cell_type": "markdown",
   "id": "3292ea57-6c80-42e4-84b8-ed917076959d",
   "metadata": {},
   "source": [
    "- Нулевая гипотеза: различий во времени ожидания ответа в тарифных планах B и С нет \n",
    "- Альтернативня гипотеза: есть различие во времения ожидания ответа в тарифных планах B и С"
   ]
  },
  {
   "cell_type": "code",
   "execution_count": 158,
   "id": "f315a489-102e-4b59-a784-768c0379e1d5",
   "metadata": {},
   "outputs": [
    {
     "data": {
      "text/html": [
       "<div>\n",
       "<style scoped>\n",
       "    .dataframe tbody tr th:only-of-type {\n",
       "        vertical-align: middle;\n",
       "    }\n",
       "\n",
       "    .dataframe tbody tr th {\n",
       "        vertical-align: top;\n",
       "    }\n",
       "\n",
       "    .dataframe thead th {\n",
       "        text-align: right;\n",
       "    }\n",
       "</style>\n",
       "<table border=\"1\" class=\"dataframe\">\n",
       "  <thead>\n",
       "    <tr style=\"text-align: right;\">\n",
       "      <th></th>\n",
       "      <th>user_id</th>\n",
       "      <th>date</th>\n",
       "      <th>direction</th>\n",
       "      <th>internal</th>\n",
       "      <th>operator_id</th>\n",
       "      <th>is_missed_call</th>\n",
       "      <th>calls_count</th>\n",
       "      <th>call_duration</th>\n",
       "      <th>total_call_duration</th>\n",
       "      <th>tariff_plan</th>\n",
       "      <th>date_start</th>\n",
       "      <th>cur_monthly_fee</th>\n",
       "      <th>month</th>\n",
       "      <th>num_of_operators</th>\n",
       "      <th>waiting_time</th>\n",
       "    </tr>\n",
       "  </thead>\n",
       "  <tbody>\n",
       "    <tr>\n",
       "      <th>0</th>\n",
       "      <td>166377</td>\n",
       "      <td>2019-08-05</td>\n",
       "      <td>out</td>\n",
       "      <td>True</td>\n",
       "      <td>880020</td>\n",
       "      <td>False</td>\n",
       "      <td>1</td>\n",
       "      <td>10</td>\n",
       "      <td>18</td>\n",
       "      <td>B</td>\n",
       "      <td>2019-08-01</td>\n",
       "      <td>2000</td>\n",
       "      <td>8</td>\n",
       "      <td>4</td>\n",
       "      <td>8</td>\n",
       "    </tr>\n",
       "    <tr>\n",
       "      <th>1</th>\n",
       "      <td>166377</td>\n",
       "      <td>2019-08-05</td>\n",
       "      <td>out</td>\n",
       "      <td>False</td>\n",
       "      <td>880020</td>\n",
       "      <td>False</td>\n",
       "      <td>2</td>\n",
       "      <td>3</td>\n",
       "      <td>29</td>\n",
       "      <td>B</td>\n",
       "      <td>2019-08-01</td>\n",
       "      <td>2000</td>\n",
       "      <td>8</td>\n",
       "      <td>4</td>\n",
       "      <td>26</td>\n",
       "    </tr>\n",
       "    <tr>\n",
       "      <th>2</th>\n",
       "      <td>166377</td>\n",
       "      <td>2019-08-06</td>\n",
       "      <td>out</td>\n",
       "      <td>False</td>\n",
       "      <td>880020</td>\n",
       "      <td>False</td>\n",
       "      <td>5</td>\n",
       "      <td>800</td>\n",
       "      <td>819</td>\n",
       "      <td>B</td>\n",
       "      <td>2019-08-01</td>\n",
       "      <td>2000</td>\n",
       "      <td>8</td>\n",
       "      <td>4</td>\n",
       "      <td>19</td>\n",
       "    </tr>\n",
       "  </tbody>\n",
       "</table>\n",
       "</div>"
      ],
      "text/plain": [
       "   user_id       date direction  internal  operator_id  is_missed_call  \\\n",
       "0   166377 2019-08-05       out      True       880020           False   \n",
       "1   166377 2019-08-05       out     False       880020           False   \n",
       "2   166377 2019-08-06       out     False       880020           False   \n",
       "\n",
       "   calls_count  call_duration  total_call_duration tariff_plan date_start  \\\n",
       "0            1             10                   18           B 2019-08-01   \n",
       "1            2              3                   29           B 2019-08-01   \n",
       "2            5            800                  819           B 2019-08-01   \n",
       "\n",
       "   cur_monthly_fee  month  num_of_operators  waiting_time  \n",
       "0             2000      8                 4             8  \n",
       "1             2000      8                 4            26  \n",
       "2             2000      8                 4            19  "
      ]
     },
     "execution_count": 158,
     "metadata": {},
     "output_type": "execute_result"
    }
   ],
   "source": [
    "filtered_telecom_five = filtered_telecom_five.copy()\n",
    "filtered_telecom_five['waiting_time'] = filtered_telecom_five['total_call_duration'] - filtered_telecom_five['call_duration']\n",
    "filtered_telecom_five.head(3)"
   ]
  },
  {
   "cell_type": "code",
   "execution_count": 159,
   "id": "6f00368e-681c-45f2-b108-9c20d4189412",
   "metadata": {},
   "outputs": [],
   "source": [
    "tariff_B_tot_waiting_time = filtered_telecom_five.query('tariff_plan == \"B\"')['waiting_time']\n",
    "tariff_C_tot_waiting_time = filtered_telecom_five.query('tariff_plan == \"C\"')['waiting_time']"
   ]
  },
  {
   "cell_type": "code",
   "execution_count": 160,
   "id": "88fd7b27-d65e-47b8-a1b7-db31a50cf6fe",
   "metadata": {},
   "outputs": [
    {
     "name": "stdout",
     "output_type": "stream",
     "text": [
      "count    8077.000000\n",
      "mean      147.932401\n",
      "std       275.945873\n",
      "min         0.000000\n",
      "25%        16.000000\n",
      "50%        45.000000\n",
      "75%       153.000000\n",
      "max      4171.000000\n",
      "Name: waiting_time, dtype: float64\n",
      "count     9334.000000\n",
      "mean       145.349582\n",
      "std        348.392918\n",
      "min          0.000000\n",
      "25%         19.000000\n",
      "50%         50.000000\n",
      "75%        148.000000\n",
      "max      11122.000000\n",
      "Name: waiting_time, dtype: float64\n"
     ]
    }
   ],
   "source": [
    "print(tariff_B_tot_waiting_time.describe())\n",
    "print(tariff_C_tot_waiting_time.describe())"
   ]
  },
  {
   "cell_type": "code",
   "execution_count": 161,
   "id": "24a185fb-6edd-4800-875f-b37b7a6778b9",
   "metadata": {},
   "outputs": [
    {
     "name": "stdout",
     "output_type": "stream",
     "text": [
      "Медиана средних расходов по тарифному плану B: 45.0\n",
      "Медиана средних расходов по тарифному плану C: 50.0\n"
     ]
    }
   ],
   "source": [
    "# Посчитаем средние значения\n",
    "tariff_B_tot_waiting_time_median = tariff_B_tot_waiting_time.median()\n",
    "tariff_C_tot_waiting_time_median = tariff_C_tot_waiting_time.median()\n",
    "\n",
    "\n",
    "# Выведем разницу на экран\n",
    "print(f\"Медиана средних расходов по тарифному плану B: {tariff_B_tot_waiting_time_median}\")\n",
    "print(f\"Медиана средних расходов по тарифному плану C: {tariff_C_tot_waiting_time_median}\")"
   ]
  },
  {
   "cell_type": "markdown",
   "id": "da6e5aae-cf0f-4354-99d4-9c3bd49cf63f",
   "metadata": {},
   "source": [
    "Медианы в обоих случаях в разы отличаются от средних значений, при этом, не сильно разнятся между собой. Также дисперсии отличаются друг от друга на 26%, используем тест Манна-Уитни."
   ]
  },
  {
   "cell_type": "code",
   "execution_count": 163,
   "id": "6a8fb802-2cc6-423f-8d97-e79ca3addf21",
   "metadata": {},
   "outputs": [
    {
     "name": "stdout",
     "output_type": "stream",
     "text": [
      "p-значение: 0.01237935596188597\n",
      "Отвергаем нулевую гипотезу\n"
     ]
    }
   ],
   "source": [
    "result_two = stats.mannwhitneyu(tariff_B_tot_waiting_time, tariff_C_tot_waiting_time)\n",
    "\n",
    "alpha = 0.05\n",
    "\n",
    "print('p-значение:', result_two.pvalue)\n",
    "\n",
    "if (result_two.pvalue < alpha):\n",
    "    print('Отвергаем нулевую гипотезу')\n",
    "else:\n",
    "    print('Не удалось отвергнуть нулевую гипотезу')"
   ]
  },
  {
   "cell_type": "markdown",
   "id": "e31fd208-fde4-49b0-8db0-a5d192132cea",
   "metadata": {},
   "source": [
    "Отвергаем нулевую гипотезу: различие во времени ожидания ответа в тарифных планах B и С есть."
   ]
  },
  {
   "cell_type": "markdown",
   "id": "a1f5f41e-fb24-42de-be81-1902a63c5b19",
   "metadata": {},
   "source": [
    "Проверка гипотез:\n",
    "   - Нулевая гипотеза: различий в стоимости услуг на тарифных планах А и B нет. Мы отвергли нулевую гипотезу: различия в стоимости услуг между тарифами А и B есть при уровне значимости 5%. \n",
    "   - Нулевая гипотеза: различий во времени ожидания ответа в тарифных планах B и С нет. Мы отвергли нулевую гипотезу: различия во времени ожидания ответа в тарифных планах B и С есть при уровне значимости alpha 5%. "
   ]
  },
  {
   "cell_type": "markdown",
   "id": "ad981e28-142a-4bdc-9f5e-c42e4a95c6db",
   "metadata": {},
   "source": [
    "## 7 Общий вывод"
   ]
  },
  {
   "cell_type": "markdown",
   "id": "e14ba6ce-1aaa-4f75-b8e7-3379c7aa7e73",
   "metadata": {},
   "source": [
    "1. Мы загрузили данные из фаилов. В первом датасете есть пропуски. Названия столбцов редактировать не нужно. В некоторых столбцах нужно преобразовать данные в нужный тип.\n",
    "\n",
    "2. Мы провели предобработку данных:\n",
    "   - Проверили наличие дубликатов. Идентифицировали 4,900(9%) явных дубликата. Удалили их.\n",
    "   - Проверили наличие пропусков:\n",
    "     - Удалили строки с пропущенными данными в столбце internal(их очень мало)\n",
    "     - В столбце operator_id пропусков идентифицировано в размере 7,456 штук(15.2%). Их удалять не стали, так как это может исказить результаты исследования (как следствие значительная часть клиентов уйдет от нас, которая нам приносит прибыль). Пропуски могут быть связаны с какими-то техническими проблемами(система не указывает оператора из-за технического сбоя). Заменили эти пропуски самыми часто встречаемыми операторами у данных клиентов(user_id)\n",
    "   - Объединили два датасета по столбцу user_id. В объединенный датасет вошли все строки из основного датасета dataset. У всех клиентов указан тарифный план(нет пропусков)\n",
    "   - Изменили типы данных некоторых столбцов:\n",
    "     - Преобразовали столбец 'date' в формат даты\n",
    "     - Преобразовали столбец 'date_start' в формат даты\n",
    "     - Привели идентификаторов операторов к целочисленному типу int\n",
    "     - Привели тип данныйх к булевому в столбце internal\n",
    "   - Проверили есть ли в датасете даты обслуживания клиентов, которые старше дат заключения с ними договоров. Количество записей обслуживания клиентов с датами старше дат их регистрации: 0.\n",
    "   - Добавили столбец с месячной абонентской платой cur_monthly_fee\n",
    "\n",
    "3. Мы провели исследовательский анализ данных:\n",
    "   - Вычислили границы анализируемого периода: начало периода: 2019-08-02,конец периода: 2019-11-28. Учитывая что мы выяснили, что самый большой трафик приходится на ноябрь, мы не стали ноябрьские данные редактировать(урезать), так как мы могли потерять ценную информацию для принятия решения по переводу клиентов на новый тариф.\n",
    "   - Построили график распределения количества звонков по датам. Звонки растут от месяца к месяцу. На выходных звонков традиционно меньше.\n",
    "   - Проанализировали соотношение входящих и исходящих звонков. 59% звонков - входящие. Они бесплатные. Но клиенты, которые используют только входящие звонки, платят ежемесячную абонентскую плату плюс за каждого оператора. Их удалаять нельзя.\n",
    "   - Посчитали количество пропущенных звонков. Довольно много пропущенных вызовов(43.8%). Они нам не нужны для дальнейших расчетов. Мы их удалали.\n",
    "   - Проанализировали общее количество звонков среди клиентов. В 75% случаях на одного клиента приходится до 869 звонка. Имеется большое количество выбросов. Самое большое количество - 83,276 звонков. Для фильтрации определили границы: нижняя граница - 1-й процентиль(0.01), верхняя граница - 99-й процентиль(0.99). Такой подход оставил ещё меньше экстремумов, оставляя лишь самые центрированные данные. Мы отфильтровали датасет по количеству звонков: убрали всех клиентов(5.36% от всех записей), у которых суммарное количество звонков больше 15,852 штук.\n",
    "   - Мы проанализировали общую длительность звонков. 75% пользователей имеют общую длительность звонков до 89,833 минут. Имелось большое количество выбросов. Максимальная длительность звонков у одного пользователя - 646,593 минут. Для фильтрации определили границы: нижняя граница - 1-й процентиль(0.005), верхняя граница - 99-й процентиль(0.995). Количество строк отфильтрованного датафрейма на 6.16% меньше датафрейма до фильтрации.\n",
    "   - Проанализировали количество исходящих звонков по месяцам.Количество исходящих звонков(внутри и вне сети) постоянно растет. Резкий рост замедляется на 4-м месяце. Доля исходящих звонков внутри сети незначительная.\n",
    "   - Проанализировали общую продолжительность исходящих звонков по месяцам. Аналогичная ситуация на этом графике: каждый месяц имеется значительный прирост. Рост замедляется(стабилизируется) на 4-м месяце. Доля звонков внутри сети минимальная.\n",
    "   - Построили графики распределения абонентов по тарифным планам:\n",
    "     - Доля клиентов с тарифными планоми А и B практически не меняется от месяца к месяцу\n",
    "     - Доля клиентов с тарифным планом C постепенно растет первые три месяца\n",
    "   - Разделили клиентов на активных и неактивных. К активным клиентам причислили тех пользователей услуг, которые присутствуют в датасете в ноябре. Мы отфильтровали 1,090(4.5%) записей с неактивными пользователями. Остальных всех пользователей будем считать активными.\n",
    "   - Построили графики распределений пользователей по тарифным планам: по всем пользователям и отдельно по активным. Доли активных пользователей остались примерно на том же уровне что и в основном датасете. Наша выборка - репрезентативная. Общее количество активных пользователей меньше на 44(15.7%) единицы.\n",
    "\n",
    "4. Мы сделали следующие расходы:\n",
    "   - Мы посчитали количество операторов для каждого клиента помесячно\n",
    "   - Посчитали расходы на исходящие звонки внутри сети\n",
    "   - Посчитали суммарные расходы клиентов на исходящие звонки вне сети\n",
    "   - Посчитали суммарные расходы по каждому тарифу в разрезе пользователей помесячно\n",
    "   - Посчитали общую возможную экономию для клиентов за 4 месяца:\n",
    "     - Общая выручка за 4 месяца: 9,157,124.95 рублей\n",
    "     - Общая сумма потенциальной экономии для клиентов за 4 месяца: 2,104,373.9 рублей\n",
    "   - Посчитали среднемесячную потенциальную экономию клиентов:\n",
    "     - Общая среднемесячная выручка на данный момент: 3,387,895.0 рублей\n",
    "     - Общая сумма потенциальных экономии для клиентов в месяц: 932,538.7 рублей\n",
    "  \n",
    "5. Мы создали список клиентов со старым и новым(оптимальным) тарифом:\n",
    "   - Мы создали список клиентов со старым и новым(оптимальным) тарифом\n",
    "   - Мы построили графики с распределением пользователей по текущим тарифам и оптимальным:\n",
    "     - Доля пользователей с тарифным планом A значительно прирастет после перевода части пользователей на оптимальный тариф\n",
    "     - Доля пользоватлей с тарифными планами B и C снизится после перехода на оптимальный тариф\n",
    "\n",
    "6. Мы проверили следующие гипотезы:\n",
    "   - Нулевая гипотеза: различий в стоимости услуг на тарифных планах А и B нет. Мы отвергли нулевую гипотезу: различия в стоимости услуг между тарифами А и B есть при уровне значимости 5%. \n",
    "   - Нулевая гипотеза: различий во времени ожидания ответа в тарифных планах B и С нет. Мы отвергли нулевую гипотезу: различия во времени ожидания ответа в тарифных планах B и С есть при уровне значимости alpha 5%. \n"
   ]
  },
  {
   "cell_type": "markdown",
   "id": "503d0883-dd43-49e0-8474-2528630d2903",
   "metadata": {},
   "source": [
    "Ссылка на презентацию: https://disk.yandex.ru/i/F9DziSTs_xpjyQ"
   ]
  }
 ],
 "metadata": {
  "kernelspec": {
   "display_name": "Python 3 (ipykernel)",
   "language": "python",
   "name": "python3"
  },
  "language_info": {
   "codemirror_mode": {
    "name": "ipython",
    "version": 3
   },
   "file_extension": ".py",
   "mimetype": "text/x-python",
   "name": "python",
   "nbconvert_exporter": "python",
   "pygments_lexer": "ipython3",
   "version": "3.12.4"
  }
 },
 "nbformat": 4,
 "nbformat_minor": 5
}
