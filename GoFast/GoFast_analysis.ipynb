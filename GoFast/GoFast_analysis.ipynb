{
 "cells": [
  {
   "cell_type": "markdown",
   "id": "b18d6472-06a8-4337-9ba6-40e0a2157237",
   "metadata": {},
   "source": [
    "# Исследование сервиса аренды самокатов GoFast #"
   ]
  },
  {
   "cell_type": "markdown",
   "id": "2f9c92c1-9b99-4481-8f15-184e6158fc41",
   "metadata": {},
   "source": [
    "<br>Задача:\n",
    "\n",
    "Вы аналитик популярного сервиса аренды самокатов GoFast. Вам передали данные о некоторых пользователях из нескольких городов, а также об их поездках. Проанализируйте данные и проверьте некоторые гипотезы, которые могут помочь бизнесу вырасти.\n",
    "\n",
    "<br>План:\n",
    "1. Загрузить данные:\n",
    "    - Считать csv фаилы с данными и сохранить их датафреймы\n",
    "    - Вывести первые строки каждого набора данных. Изучить общую информацию о каждом датафрейме.\n",
    "2. Провести предобработку данных:\n",
    "    - Приведите столбец date к типу даты pandas.\n",
    "    - Создайте новый столбец с номером месяца на основе столбца date.\n",
    "    - Проверьте наличие пропущенных значений и дубликатов в датафреймах. Обработайте их, если такие значения присутствуют.\n",
    "    \n",
    "3. Провести исследовательский анализ данных:\n",
    "    - Частота встречаемости городов;\n",
    "    - Соотношение пользователей с подпиской и без подписки;\n",
    "    - Возраст пользователей;\n",
    "    - Расстояние, которое пользователь преодолел за одну поездку;\n",
    "    - Продолжительность поездок.\n",
    "\n",
    "4. Объединение данных\n",
    "    - Объедините данные о пользователях, поездках и подписках в один датафрейм. Для этого воспользуйтесь методом merge()\n",
    "    - Создайте ещё два датафрейма из датафрейма, созданного на этапе 4.1:\n",
    "      - c данными о пользователях без подписки;\n",
    "      - с данными о пользователях с подпиской.\n",
    "    - Визуализируйте информацию о расстоянии и времени поездок для пользователей обеих категорий.\n",
    "    \n",
    "5. Подсчёт выручки\n",
    "    - Создайте датафрейм с агрегированными данными о поездках на основе датафрейма с объединёнными данными из шага 4: найдите суммарное расстояние, количество поездок и суммарное время для каждого пользователя за каждый месяц\n",
    "    - В этот же датафрейм добавьте столбец с помесячной выручкой, которую принёс каждый пользователь. Для этого обратитесь к информации об условиях оплаты для подписчиков и тех, у кого нет подписки. Продолжительность каждой поездки в каждой строке исходного датафрейма для подсчёта стоимости округляется до следующего целого числа: например, значения 25.3, 25.5 и 26.0 должны быть преобразованы к 26.\n",
    "    \n",
    "6. Проверка гипотез\n",
    "    - Важно понять, тратят ли пользователи с подпиской больше времени на поездки? Если да, то пользователи с подпиской могут быть «выгоднее» для компании. Проверьте гипотезу. Используйте исходные данные о продолжительности каждой сессии — отдельно для подписчиков и тех, у кого нет подписки.\n",
    "    - Проверьте гипотезу о том, будет ли помесячная выручка от пользователей с подпиской по месяцам выше, чем выручка от пользователей без подписки. Сделайте вывод.\n",
    "    - Представьте такую ситуацию: техническая команда сервиса обновила сервера, с которыми взаимодействует мобильное приложение. Она надеется, что из-за этого количество обращений в техподдержку значимо снизилось. Некоторый файл содержит для каждого пользователя данные о количестве обращений до обновления и после него. Какой тест вам понадобился бы для проверки этой гипотезы?\n",
    "    \n",
    "7. Сделать общий вывод\n",
    "    \n",
    "</div>"
   ]
  },
  {
   "cell_type": "code",
   "execution_count": 3,
   "id": "86458d4b-b956-45d5-ae90-8e051e91cf9f",
   "metadata": {},
   "outputs": [],
   "source": [
    "# добавим необходимые библиотеки\n",
    "import pandas as pd\n",
    "import matplotlib.pyplot as plt"
   ]
  },
  {
   "cell_type": "markdown",
   "id": "35a06d88-3df9-47f4-b7c8-5020d4d59d23",
   "metadata": {},
   "source": [
    "## 1 Загрузка данных"
   ]
  },
  {
   "cell_type": "code",
   "execution_count": 5,
   "id": "de2d6444-2b19-4f6c-b4f3-f3556b54b5c4",
   "metadata": {},
   "outputs": [],
   "source": [
    "# загрузим данные из фаилов\n",
    "users = pd.read_csv('/music/Practicum_projects/GoFast/datasets/users_go.csv')\n",
    "rides = pd.read_csv('/music/Practicum_projects/GoFast/datasets/rides_go.csv')\n",
    "sub_type = pd.read_csv('/music/Practicum_projects/GoFast/datasets/subscriptions_go.csv')"
   ]
  },
  {
   "cell_type": "code",
   "execution_count": 6,
   "id": "9011521a-d151-4b80-a7eb-193ba8b2b5fc",
   "metadata": {},
   "outputs": [
    {
     "data": {
      "text/html": [
       "<div>\n",
       "<style scoped>\n",
       "    .dataframe tbody tr th:only-of-type {\n",
       "        vertical-align: middle;\n",
       "    }\n",
       "\n",
       "    .dataframe tbody tr th {\n",
       "        vertical-align: top;\n",
       "    }\n",
       "\n",
       "    .dataframe thead th {\n",
       "        text-align: right;\n",
       "    }\n",
       "</style>\n",
       "<table border=\"1\" class=\"dataframe\">\n",
       "  <thead>\n",
       "    <tr style=\"text-align: right;\">\n",
       "      <th></th>\n",
       "      <th>user_id</th>\n",
       "      <th>name</th>\n",
       "      <th>age</th>\n",
       "      <th>city</th>\n",
       "      <th>subscription_type</th>\n",
       "    </tr>\n",
       "  </thead>\n",
       "  <tbody>\n",
       "    <tr>\n",
       "      <th>0</th>\n",
       "      <td>1</td>\n",
       "      <td>Кира</td>\n",
       "      <td>22</td>\n",
       "      <td>Тюмень</td>\n",
       "      <td>ultra</td>\n",
       "    </tr>\n",
       "    <tr>\n",
       "      <th>1</th>\n",
       "      <td>2</td>\n",
       "      <td>Станислав</td>\n",
       "      <td>31</td>\n",
       "      <td>Омск</td>\n",
       "      <td>ultra</td>\n",
       "    </tr>\n",
       "    <tr>\n",
       "      <th>2</th>\n",
       "      <td>3</td>\n",
       "      <td>Алексей</td>\n",
       "      <td>20</td>\n",
       "      <td>Москва</td>\n",
       "      <td>ultra</td>\n",
       "    </tr>\n",
       "  </tbody>\n",
       "</table>\n",
       "</div>"
      ],
      "text/plain": [
       "   user_id       name  age    city subscription_type\n",
       "0        1       Кира   22  Тюмень             ultra\n",
       "1        2  Станислав   31    Омск             ultra\n",
       "2        3    Алексей   20  Москва             ultra"
      ]
     },
     "execution_count": 6,
     "metadata": {},
     "output_type": "execute_result"
    }
   ],
   "source": [
    "users.head(3)"
   ]
  },
  {
   "cell_type": "code",
   "execution_count": 7,
   "id": "952a2323-0365-46a4-b0a5-56570219622d",
   "metadata": {},
   "outputs": [
    {
     "name": "stdout",
     "output_type": "stream",
     "text": [
      "<class 'pandas.core.frame.DataFrame'>\n",
      "RangeIndex: 1565 entries, 0 to 1564\n",
      "Data columns (total 5 columns):\n",
      " #   Column             Non-Null Count  Dtype \n",
      "---  ------             --------------  ----- \n",
      " 0   user_id            1565 non-null   int64 \n",
      " 1   name               1565 non-null   object\n",
      " 2   age                1565 non-null   int64 \n",
      " 3   city               1565 non-null   object\n",
      " 4   subscription_type  1565 non-null   object\n",
      "dtypes: int64(2), object(3)\n",
      "memory usage: 61.3+ KB\n"
     ]
    }
   ],
   "source": [
    "users.info()"
   ]
  },
  {
   "cell_type": "code",
   "execution_count": 8,
   "id": "8fc50e34-ae6b-40eb-bdb5-f129e43ed9be",
   "metadata": {},
   "outputs": [
    {
     "data": {
      "text/html": [
       "<div>\n",
       "<style scoped>\n",
       "    .dataframe tbody tr th:only-of-type {\n",
       "        vertical-align: middle;\n",
       "    }\n",
       "\n",
       "    .dataframe tbody tr th {\n",
       "        vertical-align: top;\n",
       "    }\n",
       "\n",
       "    .dataframe thead th {\n",
       "        text-align: right;\n",
       "    }\n",
       "</style>\n",
       "<table border=\"1\" class=\"dataframe\">\n",
       "  <thead>\n",
       "    <tr style=\"text-align: right;\">\n",
       "      <th></th>\n",
       "      <th>user_id</th>\n",
       "      <th>distance</th>\n",
       "      <th>duration</th>\n",
       "      <th>date</th>\n",
       "    </tr>\n",
       "  </thead>\n",
       "  <tbody>\n",
       "    <tr>\n",
       "      <th>0</th>\n",
       "      <td>1</td>\n",
       "      <td>4409.919140</td>\n",
       "      <td>25.599769</td>\n",
       "      <td>2021-01-01</td>\n",
       "    </tr>\n",
       "    <tr>\n",
       "      <th>1</th>\n",
       "      <td>1</td>\n",
       "      <td>2617.592153</td>\n",
       "      <td>15.816871</td>\n",
       "      <td>2021-01-18</td>\n",
       "    </tr>\n",
       "    <tr>\n",
       "      <th>2</th>\n",
       "      <td>1</td>\n",
       "      <td>754.159807</td>\n",
       "      <td>6.232113</td>\n",
       "      <td>2021-04-20</td>\n",
       "    </tr>\n",
       "    <tr>\n",
       "      <th>3</th>\n",
       "      <td>1</td>\n",
       "      <td>2694.783254</td>\n",
       "      <td>18.511000</td>\n",
       "      <td>2021-08-11</td>\n",
       "    </tr>\n",
       "    <tr>\n",
       "      <th>4</th>\n",
       "      <td>1</td>\n",
       "      <td>4028.687306</td>\n",
       "      <td>26.265803</td>\n",
       "      <td>2021-08-28</td>\n",
       "    </tr>\n",
       "    <tr>\n",
       "      <th>5</th>\n",
       "      <td>1</td>\n",
       "      <td>2770.890808</td>\n",
       "      <td>16.650138</td>\n",
       "      <td>2021-10-09</td>\n",
       "    </tr>\n",
       "    <tr>\n",
       "      <th>6</th>\n",
       "      <td>1</td>\n",
       "      <td>3039.020292</td>\n",
       "      <td>14.927879</td>\n",
       "      <td>2021-10-19</td>\n",
       "    </tr>\n",
       "    <tr>\n",
       "      <th>7</th>\n",
       "      <td>1</td>\n",
       "      <td>2842.118050</td>\n",
       "      <td>23.117468</td>\n",
       "      <td>2021-11-06</td>\n",
       "    </tr>\n",
       "    <tr>\n",
       "      <th>8</th>\n",
       "      <td>1</td>\n",
       "      <td>3412.690668</td>\n",
       "      <td>15.238072</td>\n",
       "      <td>2021-11-14</td>\n",
       "    </tr>\n",
       "    <tr>\n",
       "      <th>9</th>\n",
       "      <td>1</td>\n",
       "      <td>748.690645</td>\n",
       "      <td>15.041884</td>\n",
       "      <td>2021-11-22</td>\n",
       "    </tr>\n",
       "  </tbody>\n",
       "</table>\n",
       "</div>"
      ],
      "text/plain": [
       "   user_id     distance   duration        date\n",
       "0        1  4409.919140  25.599769  2021-01-01\n",
       "1        1  2617.592153  15.816871  2021-01-18\n",
       "2        1   754.159807   6.232113  2021-04-20\n",
       "3        1  2694.783254  18.511000  2021-08-11\n",
       "4        1  4028.687306  26.265803  2021-08-28\n",
       "5        1  2770.890808  16.650138  2021-10-09\n",
       "6        1  3039.020292  14.927879  2021-10-19\n",
       "7        1  2842.118050  23.117468  2021-11-06\n",
       "8        1  3412.690668  15.238072  2021-11-14\n",
       "9        1   748.690645  15.041884  2021-11-22"
      ]
     },
     "execution_count": 8,
     "metadata": {},
     "output_type": "execute_result"
    }
   ],
   "source": [
    "rides.head(10)"
   ]
  },
  {
   "cell_type": "code",
   "execution_count": 9,
   "id": "fd585af9-c45f-4bca-be16-2044ce648928",
   "metadata": {},
   "outputs": [
    {
     "name": "stdout",
     "output_type": "stream",
     "text": [
      "<class 'pandas.core.frame.DataFrame'>\n",
      "RangeIndex: 18068 entries, 0 to 18067\n",
      "Data columns (total 4 columns):\n",
      " #   Column    Non-Null Count  Dtype  \n",
      "---  ------    --------------  -----  \n",
      " 0   user_id   18068 non-null  int64  \n",
      " 1   distance  18068 non-null  float64\n",
      " 2   duration  18068 non-null  float64\n",
      " 3   date      18068 non-null  object \n",
      "dtypes: float64(2), int64(1), object(1)\n",
      "memory usage: 564.8+ KB\n"
     ]
    }
   ],
   "source": [
    "rides.info()"
   ]
  },
  {
   "cell_type": "code",
   "execution_count": 10,
   "id": "d0924a53-595c-4fe0-8e4b-ab275dcc9124",
   "metadata": {},
   "outputs": [
    {
     "data": {
      "text/html": [
       "<div>\n",
       "<style scoped>\n",
       "    .dataframe tbody tr th:only-of-type {\n",
       "        vertical-align: middle;\n",
       "    }\n",
       "\n",
       "    .dataframe tbody tr th {\n",
       "        vertical-align: top;\n",
       "    }\n",
       "\n",
       "    .dataframe thead th {\n",
       "        text-align: right;\n",
       "    }\n",
       "</style>\n",
       "<table border=\"1\" class=\"dataframe\">\n",
       "  <thead>\n",
       "    <tr style=\"text-align: right;\">\n",
       "      <th></th>\n",
       "      <th>subscription_type</th>\n",
       "      <th>minute_price</th>\n",
       "      <th>start_ride_price</th>\n",
       "      <th>subscription_fee</th>\n",
       "    </tr>\n",
       "  </thead>\n",
       "  <tbody>\n",
       "    <tr>\n",
       "      <th>0</th>\n",
       "      <td>free</td>\n",
       "      <td>8</td>\n",
       "      <td>50</td>\n",
       "      <td>0</td>\n",
       "    </tr>\n",
       "    <tr>\n",
       "      <th>1</th>\n",
       "      <td>ultra</td>\n",
       "      <td>6</td>\n",
       "      <td>0</td>\n",
       "      <td>199</td>\n",
       "    </tr>\n",
       "  </tbody>\n",
       "</table>\n",
       "</div>"
      ],
      "text/plain": [
       "  subscription_type  minute_price  start_ride_price  subscription_fee\n",
       "0              free             8                50                 0\n",
       "1             ultra             6                 0               199"
      ]
     },
     "execution_count": 10,
     "metadata": {},
     "output_type": "execute_result"
    }
   ],
   "source": [
    "sub_type.head(3)"
   ]
  },
  {
   "cell_type": "code",
   "execution_count": 11,
   "id": "ce760f50-0147-4f06-bda3-6b6fb05da3e7",
   "metadata": {},
   "outputs": [
    {
     "name": "stdout",
     "output_type": "stream",
     "text": [
      "<class 'pandas.core.frame.DataFrame'>\n",
      "RangeIndex: 2 entries, 0 to 1\n",
      "Data columns (total 4 columns):\n",
      " #   Column             Non-Null Count  Dtype \n",
      "---  ------             --------------  ----- \n",
      " 0   subscription_type  2 non-null      object\n",
      " 1   minute_price       2 non-null      int64 \n",
      " 2   start_ride_price   2 non-null      int64 \n",
      " 3   subscription_fee   2 non-null      int64 \n",
      "dtypes: int64(3), object(1)\n",
      "memory usage: 196.0+ bytes\n"
     ]
    }
   ],
   "source": [
    "sub_type.info()"
   ]
  },
  {
   "cell_type": "markdown",
   "id": "6ea814eb-e300-44ad-82ef-4e46688a19f1",
   "metadata": {},
   "source": [
    "Мы загрузили данные из трех фаилов. Пропуски в данных остуствуют. Названия столбцов редактировать не нужно. У некоторых столбцов нужно пометь тип данных."
   ]
  },
  {
   "cell_type": "markdown",
   "id": "68fdb0f2-052d-49b1-89cb-ea76be74a5fc",
   "metadata": {},
   "source": [
    "## 2 Предобработка данных"
   ]
  },
  {
   "cell_type": "code",
   "execution_count": 14,
   "id": "c932dc64-cf9a-4b66-9c3b-761cb876db2d",
   "metadata": {},
   "outputs": [],
   "source": [
    "# поменяем формат столбца date на дату\n",
    "rides['date'] = pd.to_datetime(rides['date'], format='%Y-%m-%d')"
   ]
  },
  {
   "cell_type": "code",
   "execution_count": 15,
   "id": "9ec30718-7ea2-4f61-8edb-f981db61ba5f",
   "metadata": {},
   "outputs": [
    {
     "name": "stdout",
     "output_type": "stream",
     "text": [
      "Все даты относятся к 2021 году\n"
     ]
    }
   ],
   "source": [
    "if (rides['date'].dt.year == 2021).all():\n",
    "    print(\"Все даты относятся к 2021 году\")\n",
    "else:\n",
    "    print(\"Есть даты, которые не относятся к 2021 году\")"
   ]
  },
  {
   "cell_type": "code",
   "execution_count": 16,
   "id": "61d87bd1-b6b4-4297-993d-905912f54319",
   "metadata": {},
   "outputs": [],
   "source": [
    "# добавим столбец с указанием месяца когда пользователь пользовался сервисом\n",
    "rides['month'] = rides['date'].dt.month"
   ]
  },
  {
   "cell_type": "code",
   "execution_count": 17,
   "id": "e5f9b6d5-130d-45e8-8890-4aba1e8f56bf",
   "metadata": {},
   "outputs": [
    {
     "data": {
      "text/html": [
       "<div>\n",
       "<style scoped>\n",
       "    .dataframe tbody tr th:only-of-type {\n",
       "        vertical-align: middle;\n",
       "    }\n",
       "\n",
       "    .dataframe tbody tr th {\n",
       "        vertical-align: top;\n",
       "    }\n",
       "\n",
       "    .dataframe thead th {\n",
       "        text-align: right;\n",
       "    }\n",
       "</style>\n",
       "<table border=\"1\" class=\"dataframe\">\n",
       "  <thead>\n",
       "    <tr style=\"text-align: right;\">\n",
       "      <th></th>\n",
       "      <th>user_id</th>\n",
       "      <th>distance</th>\n",
       "      <th>duration</th>\n",
       "      <th>date</th>\n",
       "      <th>month</th>\n",
       "    </tr>\n",
       "  </thead>\n",
       "  <tbody>\n",
       "    <tr>\n",
       "      <th>0</th>\n",
       "      <td>1</td>\n",
       "      <td>4409.919140</td>\n",
       "      <td>25.599769</td>\n",
       "      <td>2021-01-01</td>\n",
       "      <td>1</td>\n",
       "    </tr>\n",
       "    <tr>\n",
       "      <th>1</th>\n",
       "      <td>1</td>\n",
       "      <td>2617.592153</td>\n",
       "      <td>15.816871</td>\n",
       "      <td>2021-01-18</td>\n",
       "      <td>1</td>\n",
       "    </tr>\n",
       "    <tr>\n",
       "      <th>2</th>\n",
       "      <td>1</td>\n",
       "      <td>754.159807</td>\n",
       "      <td>6.232113</td>\n",
       "      <td>2021-04-20</td>\n",
       "      <td>4</td>\n",
       "    </tr>\n",
       "    <tr>\n",
       "      <th>3</th>\n",
       "      <td>1</td>\n",
       "      <td>2694.783254</td>\n",
       "      <td>18.511000</td>\n",
       "      <td>2021-08-11</td>\n",
       "      <td>8</td>\n",
       "    </tr>\n",
       "    <tr>\n",
       "      <th>4</th>\n",
       "      <td>1</td>\n",
       "      <td>4028.687306</td>\n",
       "      <td>26.265803</td>\n",
       "      <td>2021-08-28</td>\n",
       "      <td>8</td>\n",
       "    </tr>\n",
       "  </tbody>\n",
       "</table>\n",
       "</div>"
      ],
      "text/plain": [
       "   user_id     distance   duration       date  month\n",
       "0        1  4409.919140  25.599769 2021-01-01      1\n",
       "1        1  2617.592153  15.816871 2021-01-18      1\n",
       "2        1   754.159807   6.232113 2021-04-20      4\n",
       "3        1  2694.783254  18.511000 2021-08-11      8\n",
       "4        1  4028.687306  26.265803 2021-08-28      8"
      ]
     },
     "execution_count": 17,
     "metadata": {},
     "output_type": "execute_result"
    }
   ],
   "source": [
    "rides.head(5)"
   ]
  },
  {
   "cell_type": "code",
   "execution_count": 18,
   "id": "b655f457-399c-406e-a97b-6c7d83900c65",
   "metadata": {},
   "outputs": [
    {
     "data": {
      "text/plain": [
       "31"
      ]
     },
     "execution_count": 18,
     "metadata": {},
     "output_type": "execute_result"
    }
   ],
   "source": [
    "# проверим явные дубликаты среди пользователей\n",
    "users.duplicated().sum()"
   ]
  },
  {
   "cell_type": "markdown",
   "id": "43bbbe6e-106a-4061-9a97-9f8de511e355",
   "metadata": {},
   "source": [
    "Таких оказалось 31. Удалим их."
   ]
  },
  {
   "cell_type": "code",
   "execution_count": 20,
   "id": "1df0fabd-e3b8-45a2-88eb-1d8ab2d9ebe4",
   "metadata": {},
   "outputs": [],
   "source": [
    "# удаляем дубликаты\n",
    "users.drop_duplicates(inplace=True)"
   ]
  },
  {
   "cell_type": "code",
   "execution_count": 21,
   "id": "1ae726a5-565e-4b00-987d-4e7816b94be4",
   "metadata": {},
   "outputs": [],
   "source": [
    "# добавим необходимую библиотеку\n",
    "import math\n",
    "\n",
    "# округлим данные в столбцах distance и duration\n",
    "rides['distance'] = rides['distance'].apply(lambda x: math.ceil(x))\n",
    "rides['duration'] = rides['duration'].apply(lambda x: math.ceil(x))"
   ]
  },
  {
   "cell_type": "code",
   "execution_count": 22,
   "id": "0d36dd0e-9273-49d3-88c8-c192f393f181",
   "metadata": {},
   "outputs": [
    {
     "data": {
      "text/html": [
       "<div>\n",
       "<style scoped>\n",
       "    .dataframe tbody tr th:only-of-type {\n",
       "        vertical-align: middle;\n",
       "    }\n",
       "\n",
       "    .dataframe tbody tr th {\n",
       "        vertical-align: top;\n",
       "    }\n",
       "\n",
       "    .dataframe thead th {\n",
       "        text-align: right;\n",
       "    }\n",
       "</style>\n",
       "<table border=\"1\" class=\"dataframe\">\n",
       "  <thead>\n",
       "    <tr style=\"text-align: right;\">\n",
       "      <th></th>\n",
       "      <th>user_id</th>\n",
       "      <th>distance</th>\n",
       "      <th>duration</th>\n",
       "      <th>date</th>\n",
       "      <th>month</th>\n",
       "    </tr>\n",
       "  </thead>\n",
       "  <tbody>\n",
       "    <tr>\n",
       "      <th>0</th>\n",
       "      <td>1</td>\n",
       "      <td>4410</td>\n",
       "      <td>26</td>\n",
       "      <td>2021-01-01</td>\n",
       "      <td>1</td>\n",
       "    </tr>\n",
       "    <tr>\n",
       "      <th>1</th>\n",
       "      <td>1</td>\n",
       "      <td>2618</td>\n",
       "      <td>16</td>\n",
       "      <td>2021-01-18</td>\n",
       "      <td>1</td>\n",
       "    </tr>\n",
       "    <tr>\n",
       "      <th>2</th>\n",
       "      <td>1</td>\n",
       "      <td>755</td>\n",
       "      <td>7</td>\n",
       "      <td>2021-04-20</td>\n",
       "      <td>4</td>\n",
       "    </tr>\n",
       "    <tr>\n",
       "      <th>3</th>\n",
       "      <td>1</td>\n",
       "      <td>2695</td>\n",
       "      <td>19</td>\n",
       "      <td>2021-08-11</td>\n",
       "      <td>8</td>\n",
       "    </tr>\n",
       "    <tr>\n",
       "      <th>4</th>\n",
       "      <td>1</td>\n",
       "      <td>4029</td>\n",
       "      <td>27</td>\n",
       "      <td>2021-08-28</td>\n",
       "      <td>8</td>\n",
       "    </tr>\n",
       "  </tbody>\n",
       "</table>\n",
       "</div>"
      ],
      "text/plain": [
       "   user_id  distance  duration       date  month\n",
       "0        1      4410        26 2021-01-01      1\n",
       "1        1      2618        16 2021-01-18      1\n",
       "2        1       755         7 2021-04-20      4\n",
       "3        1      2695        19 2021-08-11      8\n",
       "4        1      4029        27 2021-08-28      8"
      ]
     },
     "execution_count": 22,
     "metadata": {},
     "output_type": "execute_result"
    }
   ],
   "source": [
    "rides.head(5)"
   ]
  },
  {
   "cell_type": "code",
   "execution_count": 23,
   "id": "a68542f0-e4a9-4237-99a7-6b5c4f2ac2ef",
   "metadata": {},
   "outputs": [
    {
     "data": {
      "text/plain": [
       "count    18068.000000\n",
       "mean        18.303520\n",
       "std          6.094928\n",
       "min          1.000000\n",
       "25%         14.000000\n",
       "50%         18.000000\n",
       "75%         22.000000\n",
       "max         41.000000\n",
       "Name: duration, dtype: float64"
      ]
     },
     "execution_count": 23,
     "metadata": {},
     "output_type": "execute_result"
    }
   ],
   "source": [
    "rides['duration'].describe()"
   ]
  },
  {
   "cell_type": "code",
   "execution_count": 24,
   "id": "1a9ccf9b-792a-4f3e-8fbb-a58e8136e0c5",
   "metadata": {},
   "outputs": [
    {
     "data": {
      "image/png": "[encoded data removed]",
      "text/plain": [
       "<Figure size 640x480 with 1 Axes>"
      ]
     },
     "metadata": {},
     "output_type": "display_data"
    }
   ],
   "source": [
    "# загружаем необходимую библиотеку\n",
    "import seaborn as sns\n",
    "\n",
    "# проверим длительность поездок на аномальные значения\n",
    "sns.boxplot (y = rides['duration']);\n",
    "plt.title('Аномальные значения длительности поездок')\n",
    "plt.ylabel('Минуты');"
   ]
  },
  {
   "cell_type": "code",
   "execution_count": 25,
   "id": "d14be09a-839d-465a-b534-f03c7f4406d2",
   "metadata": {},
   "outputs": [
    {
     "data": {
      "text/html": [
       "<div>\n",
       "<style scoped>\n",
       "    .dataframe tbody tr th:only-of-type {\n",
       "        vertical-align: middle;\n",
       "    }\n",
       "\n",
       "    .dataframe tbody tr th {\n",
       "        vertical-align: top;\n",
       "    }\n",
       "\n",
       "    .dataframe thead th {\n",
       "        text-align: right;\n",
       "    }\n",
       "</style>\n",
       "<table border=\"1\" class=\"dataframe\">\n",
       "  <thead>\n",
       "    <tr style=\"text-align: right;\">\n",
       "      <th></th>\n",
       "      <th>user_id</th>\n",
       "      <th>distance</th>\n",
       "      <th>duration</th>\n",
       "      <th>date</th>\n",
       "      <th>month</th>\n",
       "    </tr>\n",
       "  </thead>\n",
       "  <tbody>\n",
       "    <tr>\n",
       "      <th>42</th>\n",
       "      <td>4</td>\n",
       "      <td>4650</td>\n",
       "      <td>36</td>\n",
       "      <td>2021-08-14</td>\n",
       "      <td>8</td>\n",
       "    </tr>\n",
       "    <tr>\n",
       "      <th>143</th>\n",
       "      <td>15</td>\n",
       "      <td>4188</td>\n",
       "      <td>39</td>\n",
       "      <td>2021-01-13</td>\n",
       "      <td>1</td>\n",
       "    </tr>\n",
       "    <tr>\n",
       "      <th>499</th>\n",
       "      <td>55</td>\n",
       "      <td>4152</td>\n",
       "      <td>37</td>\n",
       "      <td>2021-06-30</td>\n",
       "      <td>6</td>\n",
       "    </tr>\n",
       "    <tr>\n",
       "      <th>524</th>\n",
       "      <td>58</td>\n",
       "      <td>4764</td>\n",
       "      <td>36</td>\n",
       "      <td>2021-02-17</td>\n",
       "      <td>2</td>\n",
       "    </tr>\n",
       "    <tr>\n",
       "      <th>854</th>\n",
       "      <td>91</td>\n",
       "      <td>4445</td>\n",
       "      <td>36</td>\n",
       "      <td>2021-11-05</td>\n",
       "      <td>11</td>\n",
       "    </tr>\n",
       "    <tr>\n",
       "      <th>...</th>\n",
       "      <td>...</td>\n",
       "      <td>...</td>\n",
       "      <td>...</td>\n",
       "      <td>...</td>\n",
       "      <td>...</td>\n",
       "    </tr>\n",
       "    <tr>\n",
       "      <th>17119</th>\n",
       "      <td>1468</td>\n",
       "      <td>4745</td>\n",
       "      <td>35</td>\n",
       "      <td>2021-06-13</td>\n",
       "      <td>6</td>\n",
       "    </tr>\n",
       "    <tr>\n",
       "      <th>17235</th>\n",
       "      <td>1476</td>\n",
       "      <td>4218</td>\n",
       "      <td>35</td>\n",
       "      <td>2021-04-13</td>\n",
       "      <td>4</td>\n",
       "    </tr>\n",
       "    <tr>\n",
       "      <th>17353</th>\n",
       "      <td>1485</td>\n",
       "      <td>3808</td>\n",
       "      <td>35</td>\n",
       "      <td>2021-12-09</td>\n",
       "      <td>12</td>\n",
       "    </tr>\n",
       "    <tr>\n",
       "      <th>17684</th>\n",
       "      <td>1509</td>\n",
       "      <td>3729</td>\n",
       "      <td>35</td>\n",
       "      <td>2021-01-22</td>\n",
       "      <td>1</td>\n",
       "    </tr>\n",
       "    <tr>\n",
       "      <th>17935</th>\n",
       "      <td>1526</td>\n",
       "      <td>4489</td>\n",
       "      <td>35</td>\n",
       "      <td>2021-06-05</td>\n",
       "      <td>6</td>\n",
       "    </tr>\n",
       "  </tbody>\n",
       "</table>\n",
       "<p>75 rows × 5 columns</p>\n",
       "</div>"
      ],
      "text/plain": [
       "       user_id  distance  duration       date  month\n",
       "42           4      4650        36 2021-08-14      8\n",
       "143         15      4188        39 2021-01-13      1\n",
       "499         55      4152        37 2021-06-30      6\n",
       "524         58      4764        36 2021-02-17      2\n",
       "854         91      4445        36 2021-11-05     11\n",
       "...        ...       ...       ...        ...    ...\n",
       "17119     1468      4745        35 2021-06-13      6\n",
       "17235     1476      4218        35 2021-04-13      4\n",
       "17353     1485      3808        35 2021-12-09     12\n",
       "17684     1509      3729        35 2021-01-22      1\n",
       "17935     1526      4489        35 2021-06-05      6\n",
       "\n",
       "[75 rows x 5 columns]"
      ]
     },
     "execution_count": 25,
     "metadata": {},
     "output_type": "execute_result"
    }
   ],
   "source": [
    "rides[rides['duration']>34]"
   ]
  },
  {
   "cell_type": "markdown",
   "id": "86dd8117-23e9-40d8-a2d8-25f9bb9c4789",
   "metadata": {},
   "source": [
    "75 поездок. Самая длинная - 36 минут. Можно себе такое представить. Люди иногда катаются по полчаса на самокате. Не будем их удалять. "
   ]
  },
  {
   "cell_type": "code",
   "execution_count": 27,
   "id": "a1b81e07-c6a2-4c87-8dc5-aae9e42fb7aa",
   "metadata": {},
   "outputs": [
    {
     "data": {
      "text/html": [
       "<div>\n",
       "<style scoped>\n",
       "    .dataframe tbody tr th:only-of-type {\n",
       "        vertical-align: middle;\n",
       "    }\n",
       "\n",
       "    .dataframe tbody tr th {\n",
       "        vertical-align: top;\n",
       "    }\n",
       "\n",
       "    .dataframe thead th {\n",
       "        text-align: right;\n",
       "    }\n",
       "</style>\n",
       "<table border=\"1\" class=\"dataframe\">\n",
       "  <thead>\n",
       "    <tr style=\"text-align: right;\">\n",
       "      <th></th>\n",
       "      <th>user_id</th>\n",
       "      <th>distance</th>\n",
       "      <th>duration</th>\n",
       "      <th>date</th>\n",
       "      <th>month</th>\n",
       "    </tr>\n",
       "  </thead>\n",
       "  <tbody>\n",
       "    <tr>\n",
       "      <th>5952</th>\n",
       "      <td>635</td>\n",
       "      <td>267</td>\n",
       "      <td>4</td>\n",
       "      <td>2021-12-23</td>\n",
       "      <td>12</td>\n",
       "    </tr>\n",
       "    <tr>\n",
       "      <th>6531</th>\n",
       "      <td>701</td>\n",
       "      <td>4197</td>\n",
       "      <td>1</td>\n",
       "      <td>2021-08-31</td>\n",
       "      <td>8</td>\n",
       "    </tr>\n",
       "    <tr>\n",
       "      <th>6570</th>\n",
       "      <td>704</td>\n",
       "      <td>4831</td>\n",
       "      <td>1</td>\n",
       "      <td>2021-10-14</td>\n",
       "      <td>10</td>\n",
       "    </tr>\n",
       "    <tr>\n",
       "      <th>6680</th>\n",
       "      <td>712</td>\n",
       "      <td>4685</td>\n",
       "      <td>1</td>\n",
       "      <td>2021-03-04</td>\n",
       "      <td>3</td>\n",
       "    </tr>\n",
       "    <tr>\n",
       "      <th>6691</th>\n",
       "      <td>712</td>\n",
       "      <td>24</td>\n",
       "      <td>3</td>\n",
       "      <td>2021-11-22</td>\n",
       "      <td>11</td>\n",
       "    </tr>\n",
       "    <tr>\n",
       "      <th>...</th>\n",
       "      <td>...</td>\n",
       "      <td>...</td>\n",
       "      <td>...</td>\n",
       "      <td>...</td>\n",
       "      <td>...</td>\n",
       "    </tr>\n",
       "    <tr>\n",
       "      <th>17722</th>\n",
       "      <td>1511</td>\n",
       "      <td>88</td>\n",
       "      <td>4</td>\n",
       "      <td>2021-01-21</td>\n",
       "      <td>1</td>\n",
       "    </tr>\n",
       "    <tr>\n",
       "      <th>17787</th>\n",
       "      <td>1515</td>\n",
       "      <td>560</td>\n",
       "      <td>4</td>\n",
       "      <td>2021-11-15</td>\n",
       "      <td>11</td>\n",
       "    </tr>\n",
       "    <tr>\n",
       "      <th>17802</th>\n",
       "      <td>1516</td>\n",
       "      <td>394</td>\n",
       "      <td>3</td>\n",
       "      <td>2021-07-28</td>\n",
       "      <td>7</td>\n",
       "    </tr>\n",
       "    <tr>\n",
       "      <th>17909</th>\n",
       "      <td>1524</td>\n",
       "      <td>4104</td>\n",
       "      <td>1</td>\n",
       "      <td>2021-06-18</td>\n",
       "      <td>6</td>\n",
       "    </tr>\n",
       "    <tr>\n",
       "      <th>17965</th>\n",
       "      <td>1528</td>\n",
       "      <td>183</td>\n",
       "      <td>4</td>\n",
       "      <td>2021-09-15</td>\n",
       "      <td>9</td>\n",
       "    </tr>\n",
       "  </tbody>\n",
       "</table>\n",
       "<p>183 rows × 5 columns</p>\n",
       "</div>"
      ],
      "text/plain": [
       "       user_id  distance  duration       date  month\n",
       "5952       635       267         4 2021-12-23     12\n",
       "6531       701      4197         1 2021-08-31      8\n",
       "6570       704      4831         1 2021-10-14     10\n",
       "6680       712      4685         1 2021-03-04      3\n",
       "6691       712        24         3 2021-11-22     11\n",
       "...        ...       ...       ...        ...    ...\n",
       "17722     1511        88         4 2021-01-21      1\n",
       "17787     1515       560         4 2021-11-15     11\n",
       "17802     1516       394         3 2021-07-28      7\n",
       "17909     1524      4104         1 2021-06-18      6\n",
       "17965     1528       183         4 2021-09-15      9\n",
       "\n",
       "[183 rows x 5 columns]"
      ]
     },
     "execution_count": 27,
     "metadata": {},
     "output_type": "execute_result"
    }
   ],
   "source": [
    "rides[rides['duration']<5]"
   ]
  },
  {
   "cell_type": "markdown",
   "id": "e2869b72-5620-4ed3-905c-66a9e2a1de7e",
   "metadata": {},
   "source": [
    "183 короткие поездки. Немного. Возможно люди передумали и решили прекратить аренду."
   ]
  },
  {
   "cell_type": "markdown",
   "id": "6277c360-475c-434f-98ab-adf0e3dcd910",
   "metadata": {},
   "source": [
    "Во время предобработки данных:\n",
    "   - Был изменён формат столбца date с object на дату в датафрейме rides(поездки)\n",
    "   - Был добавлен столбец с указанием месяца когда пользователь пользовался сервисом в датафрейме rides\n",
    "   - Были удалены явные дубликаты(31 шт.) в датафрейме users(пользователи)\n",
    "   - Были округлены данные в столбцах distance и duration в датафрейме rides"
   ]
  },
  {
   "cell_type": "markdown",
   "id": "80a6d4a5-fec4-4e05-a0f8-da6822c03939",
   "metadata": {},
   "source": [
    "## 3 Исследовательский анализ данных"
   ]
  },
  {
   "cell_type": "markdown",
   "id": "3a5d168a-3160-46d5-8612-4c97726e7224",
   "metadata": {},
   "source": [
    "### Частота встречаемости городов"
   ]
  },
  {
   "cell_type": "code",
   "execution_count": 32,
   "id": "c4863f64-4e0c-41fb-a0a7-7335b1db8727",
   "metadata": {},
   "outputs": [
    {
     "data": {
      "image/png": "[encoded data removed]",
      "text/plain": [
       "<Figure size 1200x600 with 1 Axes>"
      ]
     },
     "metadata": {},
     "output_type": "display_data"
    }
   ],
   "source": [
    "# создаем сводную таблицу, группируя пользователей по городу и считая их количество\n",
    "users_cities = (\n",
    "    users.pivot_table(index = 'city', values = 'user_id', aggfunc = 'count')\n",
    "    .sort_values(by='user_id', ascending = False))\n",
    "\n",
    "# строим горизонтальный бар-чарт\n",
    "fig, ax = plt.subplots(figsize=(12, 6))\n",
    "ax.barh(users_cities.index, users_cities.user_id, color='salmon', align='center', height=0.8)\n",
    "\n",
    "# добавляем сетку\n",
    "ax.grid(True)\n",
    "\n",
    "# устанавливаем заголовки и подписи осей\n",
    "ax.set_title('Распределение пользователей по городам', fontsize=16)\n",
    "ax.set_xlabel('Количество пользователей', fontsize=14)\n",
    "ax.set_ylabel('Города')\n",
    "\n",
    "# показываем график\n",
    "plt.show()"
   ]
  },
  {
   "cell_type": "code",
   "execution_count": 33,
   "id": "b5c93df1-8ad8-455b-a613-fbcb4f8c2165",
   "metadata": {},
   "outputs": [
    {
     "data": {
      "text/plain": [
       "city\n",
       "Пятигорск         219\n",
       "Екатеринбург      204\n",
       "Ростов-на-Дону    198\n",
       "Краснодар         193\n",
       "Сочи              189\n",
       "Омск              183\n",
       "Тюмень            180\n",
       "Москва            168\n",
       "Name: count, dtype: int64"
      ]
     },
     "execution_count": 33,
     "metadata": {},
     "output_type": "execute_result"
    }
   ],
   "source": [
    "# посчитаем количество пользователей в каждом городе\n",
    "users_per_city = users['city'].value_counts()\n",
    "users_per_city"
   ]
  },
  {
   "cell_type": "code",
   "execution_count": 34,
   "id": "895e3f7d-8e97-4181-b895-9e53e4a7fad9",
   "metadata": {},
   "outputs": [
    {
     "data": {
      "image/png": "[encoded data removed]",
      "text/plain": [
       "<Figure size 1500x500 with 1 Axes>"
      ]
     },
     "metadata": {},
     "output_type": "display_data"
    }
   ],
   "source": [
    "# Комментарий ревьюера\n",
    "import matplotlib.pyplot as plt\n",
    "import pandas as pd\n",
    "\n",
    "# Создаем копию датасета, что бы не работать с исходным\n",
    "tmp = users.copy()\n",
    "\n",
    "# Построение горизонтальной диаграммы\n",
    "ax = tmp['city'].value_counts(ascending=True).plot(\n",
    "    kind='barh',\n",
    "    figsize=(15, 5),\n",
    "    title='График частоты встречаемости городов'\n",
    ")\n",
    "\n",
    "# Добавление значений рядом со столбцами\n",
    "for p in ax.patches:\n",
    "    width = p.get_width()\n",
    "    ax.annotate(f'{width}',\n",
    "                (width, p.get_y() + p.get_height() / 2.),\n",
    "                ha='left', va='center',\n",
    "                xytext=(5, 0),\n",
    "                textcoords='offset points')\n",
    "\n",
    "# Добавление меток осей\n",
    "plt.xlabel('Количество пользователей')\n",
    "plt.ylabel('Город')\n",
    "\n",
    "# Отображение графика\n",
    "plt.show()"
   ]
  },
  {
   "cell_type": "markdown",
   "id": "e60fc63f-363c-47a7-9762-33b32c8479a1",
   "metadata": {},
   "source": [
    "Всего 8 городов представлено в исследовании. Больше всего пользователей в Пятигорске."
   ]
  },
  {
   "cell_type": "markdown",
   "id": "faab5335-ef18-4fd5-970b-c3a37e11a358",
   "metadata": {},
   "source": [
    "### Соотношение пользователей с подпиской и без подписки"
   ]
  },
  {
   "cell_type": "code",
   "execution_count": 37,
   "id": "42924cd3-cc26-4f5a-bb3b-5b1913d6a761",
   "metadata": {},
   "outputs": [
    {
     "data": {
      "image/png": "[encoded data removed]",
      "text/plain": [
       "<Figure size 1500x1100 with 1 Axes>"
      ]
     },
     "metadata": {},
     "output_type": "display_data"
    },
    {
     "data": {
      "text/plain": [
       "subscription_type\n",
       "free     835\n",
       "ultra    699\n",
       "Name: count, dtype: int64"
      ]
     },
     "metadata": {},
     "output_type": "display_data"
    }
   ],
   "source": [
    "users_sub_type = users['subscription_type'].value_counts()\n",
    "\n",
    "# Создание круговой диаграммы\n",
    "users_sub_type.plot(\n",
    "    kind='pie',\n",
    "    y='user_id',\n",
    "    autopct='%1.1f%%',\n",
    "    labels=['Без подписки', 'С подпиской'],\n",
    "    colors=['salmon', 'steelblue'],\n",
    "    figsize=(15, 11),\n",
    "    title='Соотношение пользователей с подпиской и без подписки'\n",
    ")\n",
    "\n",
    "# Удаляем подпись оси Y\n",
    "plt.ylabel('')\n",
    "\n",
    "# Отображаем график\n",
    "plt.show()\n",
    "\n",
    "# также покажем количество пользователей с подпиской и без\n",
    "display(users_sub_type)\n"
   ]
  },
  {
   "cell_type": "markdown",
   "id": "29df758a-236b-46d1-a5cb-d321ad420212",
   "metadata": {},
   "source": [
    "Пользователей без подписки немного больше"
   ]
  },
  {
   "cell_type": "markdown",
   "id": "d714bce0-e6f4-4ac6-8506-1ed204a6230e",
   "metadata": {},
   "source": [
    "### Возраст пользователей"
   ]
  },
  {
   "cell_type": "code",
   "execution_count": 40,
   "id": "0afc67a9-8247-45bb-bd97-aa2b096afadd",
   "metadata": {},
   "outputs": [
    {
     "data": {
      "image/png": "[encoded data removed]",
      "text/plain": [
       "<Figure size 1200x600 with 1 Axes>"
      ]
     },
     "metadata": {},
     "output_type": "display_data"
    }
   ],
   "source": [
    "# построение гистограммы возраста пользователей\n",
    "fig, ax = plt.subplots(figsize=(12, 6))\n",
    "ax.hist(users['age'], bins=30, color='salmon', edgecolor='black', linewidth=0.5)\n",
    "\n",
    "# добавляем сетку\n",
    "ax.grid(True)\n",
    "\n",
    "# устанавливаем заголовки и подписи осей\n",
    "ax.set_title('Возраст пользователей', fontsize=16)\n",
    "ax.set_xlabel('Возраст', fontsize=14)\n",
    "ax.set_ylabel('Количество пользователей', fontsize=14)\n",
    "\n",
    "# показываем график\n",
    "plt.show()"
   ]
  },
  {
   "cell_type": "code",
   "execution_count": 41,
   "id": "500d1214-e83c-4b04-b571-33887de6ccfa",
   "metadata": {},
   "outputs": [
    {
     "data": {
      "text/plain": [
       "count    1534.000000\n",
       "mean       24.903520\n",
       "std         4.572367\n",
       "min        12.000000\n",
       "25%        22.000000\n",
       "50%        25.000000\n",
       "75%        28.000000\n",
       "max        43.000000\n",
       "Name: age, dtype: float64"
      ]
     },
     "execution_count": 41,
     "metadata": {},
     "output_type": "execute_result"
    }
   ],
   "source": [
    "users['age'].describe()"
   ]
  },
  {
   "cell_type": "markdown",
   "id": "90af01f9-09f0-486f-bcc6-1a81dd5d314f",
   "metadata": {},
   "source": [
    "Средний возраст 25 лет."
   ]
  },
  {
   "cell_type": "markdown",
   "id": "40f3de80-cef6-4a5b-983e-c4dc1f246537",
   "metadata": {},
   "source": [
    "### Расстояние, которое пользователь преодолел за одну поездку"
   ]
  },
  {
   "cell_type": "code",
   "execution_count": 44,
   "id": "b0a3b81f-b53b-479a-a8db-bdb915675a1b",
   "metadata": {},
   "outputs": [
    {
     "data": {
      "image/png": "[encoded data removed]",
      "text/plain": [
       "<Figure size 1200x600 with 1 Axes>"
      ]
     },
     "metadata": {},
     "output_type": "display_data"
    }
   ],
   "source": [
    "# Построение гистограммы длины поездок\n",
    "fig, ax = plt.subplots(figsize=(12, 6))\n",
    "rides['distance'].hist(bins=30, color='salmon', edgecolor='black', linewidth=0.5, ax=ax)\n",
    "\n",
    "# Добавляем сетку\n",
    "ax.grid(True)\n",
    "\n",
    "# Устанавливаем заголовки и подписи осей\n",
    "ax.set_title('Длина поездки', fontsize=16)\n",
    "ax.set_xlabel('Метры', fontsize=14)\n",
    "ax.set_ylabel('Количество поездок', fontsize=14)\n",
    "\n",
    "# Показываем график\n",
    "plt.show()"
   ]
  },
  {
   "cell_type": "code",
   "execution_count": 45,
   "id": "cd27cde6-0402-45c9-9587-1c1a403df471",
   "metadata": {},
   "outputs": [
    {
     "data": {
      "text/plain": [
       "count    18068.000000\n",
       "mean      3071.159841\n",
       "std       1116.831548\n",
       "min          1.000000\n",
       "25%       2543.750000\n",
       "50%       3134.000000\n",
       "75%       3777.000000\n",
       "max       7212.000000\n",
       "Name: distance, dtype: float64"
      ]
     },
     "execution_count": 45,
     "metadata": {},
     "output_type": "execute_result"
    }
   ],
   "source": [
    "rides['distance'].describe()"
   ]
  },
  {
   "cell_type": "markdown",
   "id": "8253dc2c-db5a-455d-a7d2-e6e3dd8ef45a",
   "metadata": {},
   "source": [
    "Длина средней поездки - 3км. Также есть всплеск в районе 600 метров."
   ]
  },
  {
   "cell_type": "markdown",
   "id": "45735b63-f42d-42af-ba41-1bf8ea0ca04c",
   "metadata": {},
   "source": [
    "###  Продолжительность поездок"
   ]
  },
  {
   "cell_type": "code",
   "execution_count": 48,
   "id": "f77523b4-6038-454f-af02-086bee047e31",
   "metadata": {},
   "outputs": [
    {
     "data": {
      "image/png": "[encoded data removed]",
      "text/plain": [
       "<Figure size 1200x600 with 1 Axes>"
      ]
     },
     "metadata": {},
     "output_type": "display_data"
    }
   ],
   "source": [
    "# Построение гистограммы времени поездок\n",
    "fig, ax = plt.subplots(figsize=(12, 6))\n",
    "rides['duration'].hist(bins=40, color='salmon', edgecolor='black', linewidth=0.5, ax=ax)\n",
    "\n",
    "# Добавляем сетку\n",
    "ax.grid(True)\n",
    "\n",
    "# Устанавливаем заголовки и подписи осей\n",
    "ax.set_title('Время поездки', fontsize=16)\n",
    "ax.set_xlabel('Минуты', fontsize=14)\n",
    "ax.set_ylabel('Количество пользователей', fontsize=14)\n",
    "\n",
    "# Показываем график\n",
    "plt.show()"
   ]
  },
  {
   "cell_type": "code",
   "execution_count": 49,
   "id": "dc8eee55-d7f9-4bb8-b46e-9ab5c74279eb",
   "metadata": {},
   "outputs": [
    {
     "data": {
      "text/plain": [
       "count    18068.000000\n",
       "mean        18.303520\n",
       "std          6.094928\n",
       "min          1.000000\n",
       "25%         14.000000\n",
       "50%         18.000000\n",
       "75%         22.000000\n",
       "max         41.000000\n",
       "Name: duration, dtype: float64"
      ]
     },
     "execution_count": 49,
     "metadata": {},
     "output_type": "execute_result"
    }
   ],
   "source": [
    "rides['duration'].describe()"
   ]
  },
  {
   "cell_type": "markdown",
   "id": "e73f2860-c9e5-418b-a144-500bba3c1134",
   "metadata": {},
   "source": [
    "Среднее время поездки - 18 минут. Есть аномально короткие поездки в одну минуту. Возможно это связано с тем что люди передумали арендовать самокат."
   ]
  },
  {
   "cell_type": "markdown",
   "id": "4f2a86c5-a53b-41f3-8fec-0a2bd64c643f",
   "metadata": {},
   "source": [
    "Проведен исследовательский анализ данных, в ходе которого мы выяснили следующее:\n",
    "   - Распределение пользователей по городам. Всего 8 городов представлено в исследовании. Больше всего пользователей в Пятигорске. Москва на последнем месте. Возможно компания начала свой бизнес с городов с низкой конкуренцией. В Москве обычно сложнее конкурировать, так как в любом сигменте бизнеса всегда есть как минимум 2-3 игрока. \n",
    "   - Соотношение пользователей с подпиской и без. Пользователей без подписки - 54%. С подпиской - 46%.\n",
    "   - Возраст пользователей. Средний возраст 25 лет. Максимальный 43 года. Есть аномально низкие значения (12 лет). Здесь нужно провести работу по выяснению причин, по которым дети смогли незаконно воспользоваться сервисом чтобы избежать таких проблем в будущем.\n",
    "   - Длина одной поездки. В среднем длина одной поездки - 3км. Также есть всплеск в районе 600 метров. Возможно это связано с тем что люди используют сервис для того чтобы добраться до метро(в Москве), либо до остановки(в других городах).\n",
    "   - Продолжительность одной поездки. Среднее время поездки - 18 минут. Есть аномально короткие поездки в одну минуту. Возможно это связано с тем что люди передумали арендовать самокат. Либо какая-то техническая неисправность. Либо баг в проложении сервиса."
   ]
  },
  {
   "cell_type": "markdown",
   "id": "3ed7b0de-d9c2-486f-b5fb-fcfc4602ee02",
   "metadata": {},
   "source": [
    "## 4 Объединение данных"
   ]
  },
  {
   "cell_type": "markdown",
   "id": "7e574ea2-5298-4498-8641-0fe34df96b6b",
   "metadata": {},
   "source": [
    "### Объедините данные о пользователях, поездках и подписках в один датафрейм. Для этого воспользуйтесь методом merge()."
   ]
  },
  {
   "cell_type": "code",
   "execution_count": 54,
   "id": "05488f71-7a75-4a88-ad80-f74830b556c5",
   "metadata": {},
   "outputs": [],
   "source": [
    "df = users.merge(rides)"
   ]
  },
  {
   "cell_type": "code",
   "execution_count": 55,
   "id": "bc1d969d-922a-403a-83f2-2742625fcc21",
   "metadata": {},
   "outputs": [],
   "source": [
    "df = df.merge(sub_type)"
   ]
  },
  {
   "cell_type": "code",
   "execution_count": 56,
   "id": "32153fcf-aa2f-482e-aab4-f9dbb10c8738",
   "metadata": {},
   "outputs": [
    {
     "data": {
      "text/html": [
       "<div>\n",
       "<style scoped>\n",
       "    .dataframe tbody tr th:only-of-type {\n",
       "        vertical-align: middle;\n",
       "    }\n",
       "\n",
       "    .dataframe tbody tr th {\n",
       "        vertical-align: top;\n",
       "    }\n",
       "\n",
       "    .dataframe thead th {\n",
       "        text-align: right;\n",
       "    }\n",
       "</style>\n",
       "<table border=\"1\" class=\"dataframe\">\n",
       "  <thead>\n",
       "    <tr style=\"text-align: right;\">\n",
       "      <th></th>\n",
       "      <th>user_id</th>\n",
       "      <th>name</th>\n",
       "      <th>age</th>\n",
       "      <th>city</th>\n",
       "      <th>subscription_type</th>\n",
       "      <th>distance</th>\n",
       "      <th>duration</th>\n",
       "      <th>date</th>\n",
       "      <th>month</th>\n",
       "      <th>minute_price</th>\n",
       "      <th>start_ride_price</th>\n",
       "      <th>subscription_fee</th>\n",
       "    </tr>\n",
       "  </thead>\n",
       "  <tbody>\n",
       "    <tr>\n",
       "      <th>0</th>\n",
       "      <td>1</td>\n",
       "      <td>Кира</td>\n",
       "      <td>22</td>\n",
       "      <td>Тюмень</td>\n",
       "      <td>ultra</td>\n",
       "      <td>4410</td>\n",
       "      <td>26</td>\n",
       "      <td>2021-01-01</td>\n",
       "      <td>1</td>\n",
       "      <td>6</td>\n",
       "      <td>0</td>\n",
       "      <td>199</td>\n",
       "    </tr>\n",
       "    <tr>\n",
       "      <th>1</th>\n",
       "      <td>1</td>\n",
       "      <td>Кира</td>\n",
       "      <td>22</td>\n",
       "      <td>Тюмень</td>\n",
       "      <td>ultra</td>\n",
       "      <td>2618</td>\n",
       "      <td>16</td>\n",
       "      <td>2021-01-18</td>\n",
       "      <td>1</td>\n",
       "      <td>6</td>\n",
       "      <td>0</td>\n",
       "      <td>199</td>\n",
       "    </tr>\n",
       "    <tr>\n",
       "      <th>2</th>\n",
       "      <td>1</td>\n",
       "      <td>Кира</td>\n",
       "      <td>22</td>\n",
       "      <td>Тюмень</td>\n",
       "      <td>ultra</td>\n",
       "      <td>755</td>\n",
       "      <td>7</td>\n",
       "      <td>2021-04-20</td>\n",
       "      <td>4</td>\n",
       "      <td>6</td>\n",
       "      <td>0</td>\n",
       "      <td>199</td>\n",
       "    </tr>\n",
       "    <tr>\n",
       "      <th>3</th>\n",
       "      <td>1</td>\n",
       "      <td>Кира</td>\n",
       "      <td>22</td>\n",
       "      <td>Тюмень</td>\n",
       "      <td>ultra</td>\n",
       "      <td>2695</td>\n",
       "      <td>19</td>\n",
       "      <td>2021-08-11</td>\n",
       "      <td>8</td>\n",
       "      <td>6</td>\n",
       "      <td>0</td>\n",
       "      <td>199</td>\n",
       "    </tr>\n",
       "    <tr>\n",
       "      <th>4</th>\n",
       "      <td>1</td>\n",
       "      <td>Кира</td>\n",
       "      <td>22</td>\n",
       "      <td>Тюмень</td>\n",
       "      <td>ultra</td>\n",
       "      <td>4029</td>\n",
       "      <td>27</td>\n",
       "      <td>2021-08-28</td>\n",
       "      <td>8</td>\n",
       "      <td>6</td>\n",
       "      <td>0</td>\n",
       "      <td>199</td>\n",
       "    </tr>\n",
       "  </tbody>\n",
       "</table>\n",
       "</div>"
      ],
      "text/plain": [
       "   user_id  name  age    city subscription_type  distance  duration  \\\n",
       "0        1  Кира   22  Тюмень             ultra      4410        26   \n",
       "1        1  Кира   22  Тюмень             ultra      2618        16   \n",
       "2        1  Кира   22  Тюмень             ultra       755         7   \n",
       "3        1  Кира   22  Тюмень             ultra      2695        19   \n",
       "4        1  Кира   22  Тюмень             ultra      4029        27   \n",
       "\n",
       "        date  month  minute_price  start_ride_price  subscription_fee  \n",
       "0 2021-01-01      1             6                 0               199  \n",
       "1 2021-01-18      1             6                 0               199  \n",
       "2 2021-04-20      4             6                 0               199  \n",
       "3 2021-08-11      8             6                 0               199  \n",
       "4 2021-08-28      8             6                 0               199  "
      ]
     },
     "execution_count": 56,
     "metadata": {},
     "output_type": "execute_result"
    }
   ],
   "source": [
    "df.head(5)"
   ]
  },
  {
   "cell_type": "code",
   "execution_count": 57,
   "id": "e463180d-98ba-4c9d-8f15-70103d261336",
   "metadata": {},
   "outputs": [
    {
     "name": "stdout",
     "output_type": "stream",
     "text": [
      "<class 'pandas.core.frame.DataFrame'>\n",
      "RangeIndex: 18068 entries, 0 to 18067\n",
      "Data columns (total 12 columns):\n",
      " #   Column             Non-Null Count  Dtype         \n",
      "---  ------             --------------  -----         \n",
      " 0   user_id            18068 non-null  int64         \n",
      " 1   name               18068 non-null  object        \n",
      " 2   age                18068 non-null  int64         \n",
      " 3   city               18068 non-null  object        \n",
      " 4   subscription_type  18068 non-null  object        \n",
      " 5   distance           18068 non-null  int64         \n",
      " 6   duration           18068 non-null  int64         \n",
      " 7   date               18068 non-null  datetime64[ns]\n",
      " 8   month              18068 non-null  int32         \n",
      " 9   minute_price       18068 non-null  int64         \n",
      " 10  start_ride_price   18068 non-null  int64         \n",
      " 11  subscription_fee   18068 non-null  int64         \n",
      "dtypes: datetime64[ns](1), int32(1), int64(7), object(3)\n",
      "memory usage: 1.6+ MB\n"
     ]
    }
   ],
   "source": [
    "df.info()"
   ]
  },
  {
   "cell_type": "markdown",
   "id": "e444e860-1206-42b4-b4fd-cb2393fda8c6",
   "metadata": {},
   "source": [
    "### Создайте ещё два датафрейма из датафрейма, созданного на предыдущем этапе"
   ]
  },
  {
   "cell_type": "code",
   "execution_count": 59,
   "id": "1bd7f8bf-3e66-481f-83cc-5fde3d812f6a",
   "metadata": {},
   "outputs": [],
   "source": [
    "no_sub = df.query(\"`subscription_type` == 'free'\")"
   ]
  },
  {
   "cell_type": "code",
   "execution_count": 60,
   "id": "d3852a0e-9748-4a00-b26b-3fe84a90ccba",
   "metadata": {},
   "outputs": [
    {
     "data": {
      "text/html": [
       "<div>\n",
       "<style scoped>\n",
       "    .dataframe tbody tr th:only-of-type {\n",
       "        vertical-align: middle;\n",
       "    }\n",
       "\n",
       "    .dataframe tbody tr th {\n",
       "        vertical-align: top;\n",
       "    }\n",
       "\n",
       "    .dataframe thead th {\n",
       "        text-align: right;\n",
       "    }\n",
       "</style>\n",
       "<table border=\"1\" class=\"dataframe\">\n",
       "  <thead>\n",
       "    <tr style=\"text-align: right;\">\n",
       "      <th></th>\n",
       "      <th>user_id</th>\n",
       "      <th>name</th>\n",
       "      <th>age</th>\n",
       "      <th>city</th>\n",
       "      <th>subscription_type</th>\n",
       "      <th>distance</th>\n",
       "      <th>duration</th>\n",
       "      <th>date</th>\n",
       "      <th>month</th>\n",
       "      <th>minute_price</th>\n",
       "      <th>start_ride_price</th>\n",
       "      <th>subscription_fee</th>\n",
       "    </tr>\n",
       "  </thead>\n",
       "  <tbody>\n",
       "    <tr>\n",
       "      <th>6500</th>\n",
       "      <td>700</td>\n",
       "      <td>Айдар</td>\n",
       "      <td>22</td>\n",
       "      <td>Омск</td>\n",
       "      <td>free</td>\n",
       "      <td>2516</td>\n",
       "      <td>15</td>\n",
       "      <td>2021-01-02</td>\n",
       "      <td>1</td>\n",
       "      <td>8</td>\n",
       "      <td>50</td>\n",
       "      <td>0</td>\n",
       "    </tr>\n",
       "    <tr>\n",
       "      <th>6501</th>\n",
       "      <td>700</td>\n",
       "      <td>Айдар</td>\n",
       "      <td>22</td>\n",
       "      <td>Омск</td>\n",
       "      <td>free</td>\n",
       "      <td>847</td>\n",
       "      <td>17</td>\n",
       "      <td>2021-02-01</td>\n",
       "      <td>2</td>\n",
       "      <td>8</td>\n",
       "      <td>50</td>\n",
       "      <td>0</td>\n",
       "    </tr>\n",
       "    <tr>\n",
       "      <th>6502</th>\n",
       "      <td>700</td>\n",
       "      <td>Айдар</td>\n",
       "      <td>22</td>\n",
       "      <td>Омск</td>\n",
       "      <td>free</td>\n",
       "      <td>4005</td>\n",
       "      <td>21</td>\n",
       "      <td>2021-02-04</td>\n",
       "      <td>2</td>\n",
       "      <td>8</td>\n",
       "      <td>50</td>\n",
       "      <td>0</td>\n",
       "    </tr>\n",
       "    <tr>\n",
       "      <th>6503</th>\n",
       "      <td>700</td>\n",
       "      <td>Айдар</td>\n",
       "      <td>22</td>\n",
       "      <td>Омск</td>\n",
       "      <td>free</td>\n",
       "      <td>1206</td>\n",
       "      <td>10</td>\n",
       "      <td>2021-02-10</td>\n",
       "      <td>2</td>\n",
       "      <td>8</td>\n",
       "      <td>50</td>\n",
       "      <td>0</td>\n",
       "    </tr>\n",
       "    <tr>\n",
       "      <th>6504</th>\n",
       "      <td>700</td>\n",
       "      <td>Айдар</td>\n",
       "      <td>22</td>\n",
       "      <td>Омск</td>\n",
       "      <td>free</td>\n",
       "      <td>3048</td>\n",
       "      <td>18</td>\n",
       "      <td>2021-02-14</td>\n",
       "      <td>2</td>\n",
       "      <td>8</td>\n",
       "      <td>50</td>\n",
       "      <td>0</td>\n",
       "    </tr>\n",
       "  </tbody>\n",
       "</table>\n",
       "</div>"
      ],
      "text/plain": [
       "      user_id   name  age  city subscription_type  distance  duration  \\\n",
       "6500      700  Айдар   22  Омск              free      2516        15   \n",
       "6501      700  Айдар   22  Омск              free       847        17   \n",
       "6502      700  Айдар   22  Омск              free      4005        21   \n",
       "6503      700  Айдар   22  Омск              free      1206        10   \n",
       "6504      700  Айдар   22  Омск              free      3048        18   \n",
       "\n",
       "           date  month  minute_price  start_ride_price  subscription_fee  \n",
       "6500 2021-01-02      1             8                50                 0  \n",
       "6501 2021-02-01      2             8                50                 0  \n",
       "6502 2021-02-04      2             8                50                 0  \n",
       "6503 2021-02-10      2             8                50                 0  \n",
       "6504 2021-02-14      2             8                50                 0  "
      ]
     },
     "execution_count": 60,
     "metadata": {},
     "output_type": "execute_result"
    }
   ],
   "source": [
    "no_sub.head(5)"
   ]
  },
  {
   "cell_type": "code",
   "execution_count": 61,
   "id": "d281ec90-f4f0-4aee-ac71-511df757fc9d",
   "metadata": {},
   "outputs": [],
   "source": [
    "with_sub = df.query(\"`subscription_type` == 'ultra'\")"
   ]
  },
  {
   "cell_type": "code",
   "execution_count": 62,
   "id": "1cb22393-5b8d-4cb2-9e57-9dc377643464",
   "metadata": {},
   "outputs": [
    {
     "data": {
      "text/html": [
       "<div>\n",
       "<style scoped>\n",
       "    .dataframe tbody tr th:only-of-type {\n",
       "        vertical-align: middle;\n",
       "    }\n",
       "\n",
       "    .dataframe tbody tr th {\n",
       "        vertical-align: top;\n",
       "    }\n",
       "\n",
       "    .dataframe thead th {\n",
       "        text-align: right;\n",
       "    }\n",
       "</style>\n",
       "<table border=\"1\" class=\"dataframe\">\n",
       "  <thead>\n",
       "    <tr style=\"text-align: right;\">\n",
       "      <th></th>\n",
       "      <th>user_id</th>\n",
       "      <th>name</th>\n",
       "      <th>age</th>\n",
       "      <th>city</th>\n",
       "      <th>subscription_type</th>\n",
       "      <th>distance</th>\n",
       "      <th>duration</th>\n",
       "      <th>date</th>\n",
       "      <th>month</th>\n",
       "      <th>minute_price</th>\n",
       "      <th>start_ride_price</th>\n",
       "      <th>subscription_fee</th>\n",
       "    </tr>\n",
       "  </thead>\n",
       "  <tbody>\n",
       "    <tr>\n",
       "      <th>0</th>\n",
       "      <td>1</td>\n",
       "      <td>Кира</td>\n",
       "      <td>22</td>\n",
       "      <td>Тюмень</td>\n",
       "      <td>ultra</td>\n",
       "      <td>4410</td>\n",
       "      <td>26</td>\n",
       "      <td>2021-01-01</td>\n",
       "      <td>1</td>\n",
       "      <td>6</td>\n",
       "      <td>0</td>\n",
       "      <td>199</td>\n",
       "    </tr>\n",
       "    <tr>\n",
       "      <th>1</th>\n",
       "      <td>1</td>\n",
       "      <td>Кира</td>\n",
       "      <td>22</td>\n",
       "      <td>Тюмень</td>\n",
       "      <td>ultra</td>\n",
       "      <td>2618</td>\n",
       "      <td>16</td>\n",
       "      <td>2021-01-18</td>\n",
       "      <td>1</td>\n",
       "      <td>6</td>\n",
       "      <td>0</td>\n",
       "      <td>199</td>\n",
       "    </tr>\n",
       "    <tr>\n",
       "      <th>2</th>\n",
       "      <td>1</td>\n",
       "      <td>Кира</td>\n",
       "      <td>22</td>\n",
       "      <td>Тюмень</td>\n",
       "      <td>ultra</td>\n",
       "      <td>755</td>\n",
       "      <td>7</td>\n",
       "      <td>2021-04-20</td>\n",
       "      <td>4</td>\n",
       "      <td>6</td>\n",
       "      <td>0</td>\n",
       "      <td>199</td>\n",
       "    </tr>\n",
       "    <tr>\n",
       "      <th>3</th>\n",
       "      <td>1</td>\n",
       "      <td>Кира</td>\n",
       "      <td>22</td>\n",
       "      <td>Тюмень</td>\n",
       "      <td>ultra</td>\n",
       "      <td>2695</td>\n",
       "      <td>19</td>\n",
       "      <td>2021-08-11</td>\n",
       "      <td>8</td>\n",
       "      <td>6</td>\n",
       "      <td>0</td>\n",
       "      <td>199</td>\n",
       "    </tr>\n",
       "    <tr>\n",
       "      <th>4</th>\n",
       "      <td>1</td>\n",
       "      <td>Кира</td>\n",
       "      <td>22</td>\n",
       "      <td>Тюмень</td>\n",
       "      <td>ultra</td>\n",
       "      <td>4029</td>\n",
       "      <td>27</td>\n",
       "      <td>2021-08-28</td>\n",
       "      <td>8</td>\n",
       "      <td>6</td>\n",
       "      <td>0</td>\n",
       "      <td>199</td>\n",
       "    </tr>\n",
       "  </tbody>\n",
       "</table>\n",
       "</div>"
      ],
      "text/plain": [
       "   user_id  name  age    city subscription_type  distance  duration  \\\n",
       "0        1  Кира   22  Тюмень             ultra      4410        26   \n",
       "1        1  Кира   22  Тюмень             ultra      2618        16   \n",
       "2        1  Кира   22  Тюмень             ultra       755         7   \n",
       "3        1  Кира   22  Тюмень             ultra      2695        19   \n",
       "4        1  Кира   22  Тюмень             ultra      4029        27   \n",
       "\n",
       "        date  month  minute_price  start_ride_price  subscription_fee  \n",
       "0 2021-01-01      1             6                 0               199  \n",
       "1 2021-01-18      1             6                 0               199  \n",
       "2 2021-04-20      4             6                 0               199  \n",
       "3 2021-08-11      8             6                 0               199  \n",
       "4 2021-08-28      8             6                 0               199  "
      ]
     },
     "execution_count": 62,
     "metadata": {},
     "output_type": "execute_result"
    }
   ],
   "source": [
    "with_sub.head(5)"
   ]
  },
  {
   "cell_type": "markdown",
   "id": "c5f05bcf-fa72-4558-a9c7-764c60d4f103",
   "metadata": {},
   "source": [
    "### Визуализируйте информацию о расстоянии и времени поездок для пользователей обеих категорий."
   ]
  },
  {
   "cell_type": "code",
   "execution_count": 64,
   "id": "cea9e679-ec6d-4edd-a7c6-c76175c59871",
   "metadata": {},
   "outputs": [
    {
     "data": {
      "image/png": "[encoded data removed]",
      "text/plain": [
       "<Figure size 1200x600 with 1 Axes>"
      ]
     },
     "metadata": {},
     "output_type": "display_data"
    }
   ],
   "source": [
    "# Построение гистограммы длины поездок пользователей без подписки\n",
    "ax = no_sub['distance'].plot(kind = 'hist', grid=True, figsize = (12,6), bins = 30, color='salmon', label='без подписки')\n",
    "ax = with_sub['distance'].plot(kind = 'hist', grid=True, figsize = (12,6), bins = 30, color='orangered', label='с подпиской')\n",
    "\n",
    "# Добавляем сетку\n",
    "ax.grid(True)\n",
    "\n",
    "# Устанавливаем заголовки и подписи осей\n",
    "ax.set_title('Длина поездки с подпиской и без', fontsize=16)\n",
    "ax.set_xlabel('Метры', fontsize=14)\n",
    "ax.set_ylabel('Количество поездок', fontsize=14)\n",
    "\n",
    "# Показываем график\n",
    "plt.show()"
   ]
  },
  {
   "cell_type": "code",
   "execution_count": 65,
   "id": "93c123f9-42d2-41ca-b484-13326c45318a",
   "metadata": {},
   "outputs": [
    {
     "data": {
      "text/plain": [
       "count    11568.000000\n",
       "mean      3045.992911\n",
       "std       1246.174341\n",
       "min          1.000000\n",
       "25%       2367.000000\n",
       "50%       3115.000000\n",
       "75%       3906.000000\n",
       "max       7212.000000\n",
       "Name: distance, dtype: float64"
      ]
     },
     "execution_count": 65,
     "metadata": {},
     "output_type": "execute_result"
    }
   ],
   "source": [
    "no_sub['distance'].describe()"
   ]
  },
  {
   "cell_type": "code",
   "execution_count": 66,
   "id": "2a93c827-7ba3-4ab1-8db8-66806d9d771a",
   "metadata": {},
   "outputs": [
    {
     "data": {
      "text/plain": [
       "count    6500.000000\n",
       "mean     3115.949231\n",
       "std       836.894838\n",
       "min       245.000000\n",
       "25%      2786.000000\n",
       "50%      3149.000000\n",
       "75%      3561.000000\n",
       "max      5700.000000\n",
       "Name: distance, dtype: float64"
      ]
     },
     "execution_count": 66,
     "metadata": {},
     "output_type": "execute_result"
    }
   ],
   "source": [
    "with_sub['distance'].describe()"
   ]
  },
  {
   "cell_type": "markdown",
   "id": "5f1fb0ee-fafe-417b-9202-cc5bf912961f",
   "metadata": {},
   "source": [
    "Первый пик у пользователей с подпиской находится на 1км. У пользователей без подписки - на 600 метрах. Средняя длина поездки практически совпадает и ровняется 3км."
   ]
  },
  {
   "cell_type": "code",
   "execution_count": 68,
   "id": "06a56fe6-a91b-4905-a87e-0501bbe99c7a",
   "metadata": {},
   "outputs": [
    {
     "data": {
      "image/png": "[encoded data removed]",
      "text/plain": [
       "<Figure size 1200x600 with 1 Axes>"
      ]
     },
     "metadata": {},
     "output_type": "display_data"
    }
   ],
   "source": [
    "# Построение гистограммы длины поездок пользователей без подписки\n",
    "ax = no_sub['duration'].plot(kind = 'hist', grid=True, figsize = (12,6), bins = 35, color='salmon', label='без подписки')\n",
    "ax = with_sub['duration'].plot(kind = 'hist', grid=True, figsize = (12,6), bins = 35, color='orangered', label='с подпиской')\n",
    "\n",
    "# Добавляем сетку\n",
    "ax.grid(True)\n",
    "\n",
    "# Устанавливаем заголовки и подписи осей\n",
    "ax.set_title('Время поездки с подпиской и без', fontsize=16)\n",
    "ax.set_xlabel('Минуты', fontsize=14)\n",
    "ax.set_ylabel('Количество поездок', fontsize=14)\n",
    "\n",
    "# Показываем график\n",
    "plt.show()"
   ]
  },
  {
   "cell_type": "code",
   "execution_count": 69,
   "id": "3a3ac383-ae52-4200-8089-2cb72b1291a5",
   "metadata": {},
   "outputs": [
    {
     "data": {
      "text/plain": [
       "count    11568.000000\n",
       "mean        17.890992\n",
       "std          6.330250\n",
       "min          1.000000\n",
       "25%         13.000000\n",
       "50%         18.000000\n",
       "75%         22.000000\n",
       "max         35.000000\n",
       "Name: duration, dtype: float64"
      ]
     },
     "execution_count": 69,
     "metadata": {},
     "output_type": "execute_result"
    }
   ],
   "source": [
    "no_sub['duration'].describe()"
   ]
  },
  {
   "cell_type": "markdown",
   "id": "efb8b32c-7a80-41d0-a888-ef79f10bb7d2",
   "metadata": {},
   "source": [
    "У пользователей без подписки имеются совсем короткие поездки(около 100 штук). У пользователей с подпиской есть всплеск на 22 минуте."
   ]
  },
  {
   "cell_type": "markdown",
   "id": "511fc56e-1fb6-4e7f-adac-73273a79ebe9",
   "metadata": {},
   "source": [
    "- Были объединены данные о пользователях, поездках и подписках в один датафрейм. Для этого воспользуйтесь методом merge().\n",
    "- Были созданы два датафрейма: пользователи с подпиской; пользователи без подписки\n",
    "- Были визуализированны и проанализированны следующие данные:\n",
    " - Длина одной поездки с подпиской и без. Первый всплеск активности у пользователей с подпиской находится на 1км. У пользователей без подписки - на 600 метрах. Средняя длина поездки практически совпадает в обоих категориях и ровняется 3км.\n",
    " - Продолжительность одной поездки с подпиской и без. У пользователей без подписки имеются совсем короткие поездки(около 100 штук). У пользователей с подпиской есть всплеск на 22 минуте.   "
   ]
  },
  {
   "cell_type": "markdown",
   "id": "5f12c2a5-4f61-4fdb-a017-42b118de3853",
   "metadata": {},
   "source": [
    "## 5 Подсчёт выручки"
   ]
  },
  {
   "cell_type": "markdown",
   "id": "5f15eb1a-0058-49fa-b227-4deccee405e5",
   "metadata": {},
   "source": [
    "### Создайте датафрейм с агрегированными данными о поездках на основе датафрейма с объединёнными данными из шага 4: найдите суммарное расстояние, количество поездок и суммарное время для каждого пользователя за каждый месяц."
   ]
  },
  {
   "cell_type": "code",
   "execution_count": 74,
   "id": "fbd4e6a2-bbdf-4558-9c86-3a9440871e89",
   "metadata": {},
   "outputs": [],
   "source": [
    "# группируем данные по user_id и month\n",
    "aggregated_df = df.groupby(['user_id', 'month']).agg({\n",
    "    'distance': 'sum',\n",
    "    'duration': 'sum',\n",
    "    'user_id': 'count',\n",
    "    'subscription_type': 'first',\n",
    "    'subscription_fee': 'first'\n",
    "    \n",
    "    #'minute_price' : min,\n",
    "    #'start_ride_price' : max\n",
    "}).rename(columns={'user_id': 'num_of_trips'})"
   ]
  },
  {
   "cell_type": "code",
   "execution_count": 75,
   "id": "74e5e29d-3996-4765-ba14-e23e7a9a3ca3",
   "metadata": {},
   "outputs": [
    {
     "data": {
      "text/html": [
       "<div>\n",
       "<style scoped>\n",
       "    .dataframe tbody tr th:only-of-type {\n",
       "        vertical-align: middle;\n",
       "    }\n",
       "\n",
       "    .dataframe tbody tr th {\n",
       "        vertical-align: top;\n",
       "    }\n",
       "\n",
       "    .dataframe thead th {\n",
       "        text-align: right;\n",
       "    }\n",
       "</style>\n",
       "<table border=\"1\" class=\"dataframe\">\n",
       "  <thead>\n",
       "    <tr style=\"text-align: right;\">\n",
       "      <th></th>\n",
       "      <th></th>\n",
       "      <th>distance</th>\n",
       "      <th>duration</th>\n",
       "      <th>num_of_trips</th>\n",
       "      <th>subscription_type</th>\n",
       "      <th>subscription_fee</th>\n",
       "    </tr>\n",
       "    <tr>\n",
       "      <th>user_id</th>\n",
       "      <th>month</th>\n",
       "      <th></th>\n",
       "      <th></th>\n",
       "      <th></th>\n",
       "      <th></th>\n",
       "      <th></th>\n",
       "    </tr>\n",
       "  </thead>\n",
       "  <tbody>\n",
       "    <tr>\n",
       "      <th rowspan=\"6\" valign=\"top\">1</th>\n",
       "      <th>1</th>\n",
       "      <td>7028</td>\n",
       "      <td>42</td>\n",
       "      <td>2</td>\n",
       "      <td>ultra</td>\n",
       "      <td>199</td>\n",
       "    </tr>\n",
       "    <tr>\n",
       "      <th>4</th>\n",
       "      <td>755</td>\n",
       "      <td>7</td>\n",
       "      <td>1</td>\n",
       "      <td>ultra</td>\n",
       "      <td>199</td>\n",
       "    </tr>\n",
       "    <tr>\n",
       "      <th>8</th>\n",
       "      <td>6724</td>\n",
       "      <td>46</td>\n",
       "      <td>2</td>\n",
       "      <td>ultra</td>\n",
       "      <td>199</td>\n",
       "    </tr>\n",
       "    <tr>\n",
       "      <th>10</th>\n",
       "      <td>5811</td>\n",
       "      <td>32</td>\n",
       "      <td>2</td>\n",
       "      <td>ultra</td>\n",
       "      <td>199</td>\n",
       "    </tr>\n",
       "    <tr>\n",
       "      <th>11</th>\n",
       "      <td>7005</td>\n",
       "      <td>56</td>\n",
       "      <td>3</td>\n",
       "      <td>ultra</td>\n",
       "      <td>199</td>\n",
       "    </tr>\n",
       "    <tr>\n",
       "      <th>12</th>\n",
       "      <td>6753</td>\n",
       "      <td>28</td>\n",
       "      <td>2</td>\n",
       "      <td>ultra</td>\n",
       "      <td>199</td>\n",
       "    </tr>\n",
       "    <tr>\n",
       "      <th rowspan=\"4\" valign=\"top\">2</th>\n",
       "      <th>3</th>\n",
       "      <td>10190</td>\n",
       "      <td>63</td>\n",
       "      <td>3</td>\n",
       "      <td>ultra</td>\n",
       "      <td>199</td>\n",
       "    </tr>\n",
       "    <tr>\n",
       "      <th>4</th>\n",
       "      <td>6165</td>\n",
       "      <td>40</td>\n",
       "      <td>2</td>\n",
       "      <td>ultra</td>\n",
       "      <td>199</td>\n",
       "    </tr>\n",
       "    <tr>\n",
       "      <th>6</th>\n",
       "      <td>3256</td>\n",
       "      <td>14</td>\n",
       "      <td>1</td>\n",
       "      <td>ultra</td>\n",
       "      <td>199</td>\n",
       "    </tr>\n",
       "    <tr>\n",
       "      <th>7</th>\n",
       "      <td>6781</td>\n",
       "      <td>48</td>\n",
       "      <td>2</td>\n",
       "      <td>ultra</td>\n",
       "      <td>199</td>\n",
       "    </tr>\n",
       "  </tbody>\n",
       "</table>\n",
       "</div>"
      ],
      "text/plain": [
       "               distance  duration  num_of_trips subscription_type  \\\n",
       "user_id month                                                       \n",
       "1       1          7028        42             2             ultra   \n",
       "        4           755         7             1             ultra   \n",
       "        8          6724        46             2             ultra   \n",
       "        10         5811        32             2             ultra   \n",
       "        11         7005        56             3             ultra   \n",
       "        12         6753        28             2             ultra   \n",
       "2       3         10190        63             3             ultra   \n",
       "        4          6165        40             2             ultra   \n",
       "        6          3256        14             1             ultra   \n",
       "        7          6781        48             2             ultra   \n",
       "\n",
       "               subscription_fee  \n",
       "user_id month                    \n",
       "1       1                   199  \n",
       "        4                   199  \n",
       "        8                   199  \n",
       "        10                  199  \n",
       "        11                  199  \n",
       "        12                  199  \n",
       "2       3                   199  \n",
       "        4                   199  \n",
       "        6                   199  \n",
       "        7                   199  "
      ]
     },
     "execution_count": 75,
     "metadata": {},
     "output_type": "execute_result"
    }
   ],
   "source": [
    "aggregated_df.head(10)"
   ]
  },
  {
   "cell_type": "code",
   "execution_count": 76,
   "id": "f1ff5598-9f67-40dd-b893-f59260cd1ed3",
   "metadata": {},
   "outputs": [
    {
     "name": "stdout",
     "output_type": "stream",
     "text": [
      "<class 'pandas.core.frame.DataFrame'>\n",
      "MultiIndex: 11331 entries, (1, 1) to (1534, 12)\n",
      "Data columns (total 5 columns):\n",
      " #   Column             Non-Null Count  Dtype \n",
      "---  ------             --------------  ----- \n",
      " 0   distance           11331 non-null  int64 \n",
      " 1   duration           11331 non-null  int64 \n",
      " 2   num_of_trips       11331 non-null  int64 \n",
      " 3   subscription_type  11331 non-null  object\n",
      " 4   subscription_fee   11331 non-null  int64 \n",
      "dtypes: int64(4), object(1)\n",
      "memory usage: 487.9+ KB\n"
     ]
    }
   ],
   "source": [
    "aggregated_df.info()"
   ]
  },
  {
   "cell_type": "markdown",
   "id": "8d0f02db-39ca-47a1-b671-f1822a221bcc",
   "metadata": {},
   "source": [
    "### В этот же датафрейм добавьте столбец с помесячной выручкой, которую принёс каждый пользователь. Для этого обратитесь к информации об условиях оплаты для подписчиков и тех, у кого нет подписки. Продолжительность каждой поездки в каждой строке исходного датафрейма для подсчёта стоимости округляется до следующего целого числа: например,  значения 25.3, 25.5 и 26.0 должны быть преобразованы к 26."
   ]
  },
  {
   "cell_type": "code",
   "execution_count": 78,
   "id": "485041dc-d9d4-4a5d-8ff9-80f8639a9552",
   "metadata": {},
   "outputs": [],
   "source": [
    "# добавляем переменные\n",
    "start_fee = 50\n",
    "fee_per_min_no_sub = 8\n",
    "fee_per_min_with_sub = 6\n",
    "\n",
    "def calculate_revenue(row):\n",
    "    if row['subscription_type'] == 'ultra':\n",
    "        return fee_per_min_with_sub  * row['duration'] + row['subscription_fee']\n",
    "    elif row['subscription_type'] == 'free':\n",
    "        return fee_per_min_no_sub * row['duration'] + start_fee * row['num_of_trips']"
   ]
  },
  {
   "cell_type": "code",
   "execution_count": 79,
   "id": "63e57733-d2bd-47f3-bf63-a5571a43b58b",
   "metadata": {},
   "outputs": [],
   "source": [
    "aggregated_df['monthly_sales'] = aggregated_df.apply(calculate_revenue, axis=1)"
   ]
  },
  {
   "cell_type": "code",
   "execution_count": 80,
   "id": "7efb8044-4b5b-4a57-ba07-6aa9afa33f67",
   "metadata": {},
   "outputs": [
    {
     "data": {
      "text/html": [
       "<div>\n",
       "<style scoped>\n",
       "    .dataframe tbody tr th:only-of-type {\n",
       "        vertical-align: middle;\n",
       "    }\n",
       "\n",
       "    .dataframe tbody tr th {\n",
       "        vertical-align: top;\n",
       "    }\n",
       "\n",
       "    .dataframe thead th {\n",
       "        text-align: right;\n",
       "    }\n",
       "</style>\n",
       "<table border=\"1\" class=\"dataframe\">\n",
       "  <thead>\n",
       "    <tr style=\"text-align: right;\">\n",
       "      <th></th>\n",
       "      <th></th>\n",
       "      <th>distance</th>\n",
       "      <th>duration</th>\n",
       "      <th>num_of_trips</th>\n",
       "      <th>subscription_type</th>\n",
       "      <th>subscription_fee</th>\n",
       "      <th>monthly_sales</th>\n",
       "    </tr>\n",
       "    <tr>\n",
       "      <th>user_id</th>\n",
       "      <th>month</th>\n",
       "      <th></th>\n",
       "      <th></th>\n",
       "      <th></th>\n",
       "      <th></th>\n",
       "      <th></th>\n",
       "      <th></th>\n",
       "    </tr>\n",
       "  </thead>\n",
       "  <tbody>\n",
       "    <tr>\n",
       "      <th rowspan=\"6\" valign=\"top\">1</th>\n",
       "      <th>1</th>\n",
       "      <td>7028</td>\n",
       "      <td>42</td>\n",
       "      <td>2</td>\n",
       "      <td>ultra</td>\n",
       "      <td>199</td>\n",
       "      <td>451</td>\n",
       "    </tr>\n",
       "    <tr>\n",
       "      <th>4</th>\n",
       "      <td>755</td>\n",
       "      <td>7</td>\n",
       "      <td>1</td>\n",
       "      <td>ultra</td>\n",
       "      <td>199</td>\n",
       "      <td>241</td>\n",
       "    </tr>\n",
       "    <tr>\n",
       "      <th>8</th>\n",
       "      <td>6724</td>\n",
       "      <td>46</td>\n",
       "      <td>2</td>\n",
       "      <td>ultra</td>\n",
       "      <td>199</td>\n",
       "      <td>475</td>\n",
       "    </tr>\n",
       "    <tr>\n",
       "      <th>10</th>\n",
       "      <td>5811</td>\n",
       "      <td>32</td>\n",
       "      <td>2</td>\n",
       "      <td>ultra</td>\n",
       "      <td>199</td>\n",
       "      <td>391</td>\n",
       "    </tr>\n",
       "    <tr>\n",
       "      <th>11</th>\n",
       "      <td>7005</td>\n",
       "      <td>56</td>\n",
       "      <td>3</td>\n",
       "      <td>ultra</td>\n",
       "      <td>199</td>\n",
       "      <td>535</td>\n",
       "    </tr>\n",
       "    <tr>\n",
       "      <th>12</th>\n",
       "      <td>6753</td>\n",
       "      <td>28</td>\n",
       "      <td>2</td>\n",
       "      <td>ultra</td>\n",
       "      <td>199</td>\n",
       "      <td>367</td>\n",
       "    </tr>\n",
       "    <tr>\n",
       "      <th rowspan=\"4\" valign=\"top\">2</th>\n",
       "      <th>3</th>\n",
       "      <td>10190</td>\n",
       "      <td>63</td>\n",
       "      <td>3</td>\n",
       "      <td>ultra</td>\n",
       "      <td>199</td>\n",
       "      <td>577</td>\n",
       "    </tr>\n",
       "    <tr>\n",
       "      <th>4</th>\n",
       "      <td>6165</td>\n",
       "      <td>40</td>\n",
       "      <td>2</td>\n",
       "      <td>ultra</td>\n",
       "      <td>199</td>\n",
       "      <td>439</td>\n",
       "    </tr>\n",
       "    <tr>\n",
       "      <th>6</th>\n",
       "      <td>3256</td>\n",
       "      <td>14</td>\n",
       "      <td>1</td>\n",
       "      <td>ultra</td>\n",
       "      <td>199</td>\n",
       "      <td>283</td>\n",
       "    </tr>\n",
       "    <tr>\n",
       "      <th>7</th>\n",
       "      <td>6781</td>\n",
       "      <td>48</td>\n",
       "      <td>2</td>\n",
       "      <td>ultra</td>\n",
       "      <td>199</td>\n",
       "      <td>487</td>\n",
       "    </tr>\n",
       "  </tbody>\n",
       "</table>\n",
       "</div>"
      ],
      "text/plain": [
       "               distance  duration  num_of_trips subscription_type  \\\n",
       "user_id month                                                       \n",
       "1       1          7028        42             2             ultra   \n",
       "        4           755         7             1             ultra   \n",
       "        8          6724        46             2             ultra   \n",
       "        10         5811        32             2             ultra   \n",
       "        11         7005        56             3             ultra   \n",
       "        12         6753        28             2             ultra   \n",
       "2       3         10190        63             3             ultra   \n",
       "        4          6165        40             2             ultra   \n",
       "        6          3256        14             1             ultra   \n",
       "        7          6781        48             2             ultra   \n",
       "\n",
       "               subscription_fee  monthly_sales  \n",
       "user_id month                                   \n",
       "1       1                   199            451  \n",
       "        4                   199            241  \n",
       "        8                   199            475  \n",
       "        10                  199            391  \n",
       "        11                  199            535  \n",
       "        12                  199            367  \n",
       "2       3                   199            577  \n",
       "        4                   199            439  \n",
       "        6                   199            283  \n",
       "        7                   199            487  "
      ]
     },
     "execution_count": 80,
     "metadata": {},
     "output_type": "execute_result"
    }
   ],
   "source": [
    "aggregated_df.head(10)"
   ]
  },
  {
   "cell_type": "code",
   "execution_count": 81,
   "id": "1920eee3-ea3e-4745-aa58-4f40dc86c297",
   "metadata": {},
   "outputs": [
    {
     "name": "stdout",
     "output_type": "stream",
     "text": [
      "Правильное значение суммы выручки 3878641, сумма выручки расчитанная в таблице: 3878641\n"
     ]
    }
   ],
   "source": [
    "# Комментарий ревьюера\n",
    "# Контроль суммы выручки\n",
    "tmp, col_rev = aggregated_df.copy(), 'monthly_sales'\n",
    "print(\"Правильное значение суммы выручки 3878641, сумма выручки расчитанная в таблице:\", tmp[col_rev].sum())"
   ]
  },
  {
   "cell_type": "markdown",
   "id": "767a0e47-7a7c-4378-9e8f-7f88f3a17b15",
   "metadata": {},
   "source": [
    "## 6 Проверка гипотез"
   ]
  },
  {
   "cell_type": "markdown",
   "id": "522ff72e-def6-4028-aa98-96e04c052464",
   "metadata": {},
   "source": [
    "### Важно понять, тратят ли пользователи с подпиской больше времени на поездки? Если да, то пользователи с подпиской могут быть «выгоднее» для компании. Проверьте гипотезу. Используйте исходные данные о продолжительности каждой сессии — отдельно для подписчиков и тех, у кого нет подписки."
   ]
  },
  {
   "cell_type": "markdown",
   "id": "bef99001-4fbd-497f-b243-eec38aaaf52e",
   "metadata": {},
   "source": [
    "- Нулевая гипотеза: пользователи с подпиской тратят столько же времени на поездку сколько пользователи без подписки\n",
    "- Альтернативня гипотеза: пользователи с подпиской трятят больше времени на поездки"
   ]
  },
  {
   "cell_type": "code",
   "execution_count": 85,
   "id": "4e724a0d-4265-456f-9193-ddcf317dc041",
   "metadata": {},
   "outputs": [],
   "source": [
    "# добавим необходимые библиотеки\n",
    "from scipy import stats as st"
   ]
  },
  {
   "cell_type": "code",
   "execution_count": 86,
   "id": "1d4654a5-8286-4a2c-a0af-4f932986de3d",
   "metadata": {},
   "outputs": [
    {
     "name": "stdout",
     "output_type": "stream",
     "text": [
      "P-value: 1.1814679253701353e-36\n",
      "Вывод: отвергаем нулевую гипотезу. Пользователи с подпиской тратят больше времени на поездки.\n"
     ]
    }
   ],
   "source": [
    "# задаем параметр альфа\n",
    "alpha = 0.05\n",
    "\n",
    "# правостороняя альтернативная гипотеза\n",
    "results = st.ttest_ind(with_sub['duration'], no_sub['duration'], equal_var=False, alternative='greater')\n",
    "\n",
    "print('P-value:',results.pvalue)\n",
    "\n",
    "if results.pvalue < alpha:\n",
    "    print('Вывод: отвергаем нулевую гипотезу. Пользователи с подпиской тратят больше времени на поездки.')\n",
    "else:\n",
    "    print('Вывод: не получилось отвергнуть нулевую гипотезу')"
   ]
  },
  {
   "cell_type": "markdown",
   "id": "d615c21c-0196-4d24-927c-60c79f689717",
   "metadata": {},
   "source": [
    "### Расстояние одной поездки в 3,130 метров — оптимальное с точки зрения износа самоката. Можно ли сказать, что среднее расстояние, которое проезжают пользователи с подпиской за одну поездку, не превышает 3130 метров? Проверьте гипотезу и сделайте выводы."
   ]
  },
  {
   "cell_type": "markdown",
   "id": "afc419c9-932e-4ff8-b724-763a509da6f8",
   "metadata": {},
   "source": [
    "- Нулевая гипотеза: средняя длина одной поездки пользователей с подпиской не превышает 3,130 метров\n",
    "- Альтернативная гипотеза: средняя длина одной поездки пользователей с подпиской больше 3,130 метров    "
   ]
  },
  {
   "cell_type": "code",
   "execution_count": 89,
   "id": "067c8e52-69fb-4941-bf33-33359f0b5905",
   "metadata": {},
   "outputs": [
    {
     "name": "stdout",
     "output_type": "stream",
     "text": [
      "P-value: 0.91\n",
      "Вывод: не получилось отвергнуть нулевую гипотезу. Среднее расстояние, которое проезжают пользователи с подпиской за одну поездку, меньше 3,130 метров.\n"
     ]
    }
   ],
   "source": [
    "wanted_value = 3130\n",
    "\n",
    "results2 = st.ttest_1samp(with_sub['distance'], wanted_value, alternative='greater')\n",
    "\n",
    "print('P-value:',results2.pvalue.round(2))\n",
    "\n",
    "if results2.pvalue < alpha:\n",
    "    print('Вывод: отвергаем нулевую гипотезу')\n",
    "else:\n",
    "    print('Вывод: не получилось отвергнуть нулевую гипотезу. Среднее расстояние, которое проезжают пользователи с подпиской за одну поездку, меньше 3,130 метров.')"
   ]
  },
  {
   "cell_type": "markdown",
   "id": "3b28243f-7fff-43e1-b273-60f2d14a7e1b",
   "metadata": {},
   "source": [
    "### Проверьте гипотезу о том, будет ли помесячная выручка от пользователей с подпиской по месяцам выше, чем выручка от пользователей без подписки. Сделайте вывод."
   ]
  },
  {
   "cell_type": "markdown",
   "id": "0ca8b818-b024-446d-9845-a6f99bb5f5c7",
   "metadata": {},
   "source": [
    "- Нулевая гипотеза: месячная выручка от пользователей с подпиской равна месячной выручки от пользователей без подписки\n",
    "- Альтернатиная гипотеза: месячная выручки от пользователей с подпиской выше, чем месячная выручка от пользователей без подписки"
   ]
  },
  {
   "cell_type": "code",
   "execution_count": 92,
   "id": "e76548e2-8305-40b6-81cf-d9482de2ca17",
   "metadata": {},
   "outputs": [
    {
     "name": "stdout",
     "output_type": "stream",
     "text": [
      "P-value: 1.8850394384715216e-31\n",
      "Вывод: отвергаем нулевую гипотезу. Месячная выручка от пользователей с подпиской по месяцам выше, чем выручка от пользователей без подписки.\n"
     ]
    }
   ],
   "source": [
    "#создаем два массива данных\n",
    "aggregated_df_with_sub = aggregated_df[aggregated_df['subscription_type'] == 'ultra']\n",
    "aggregated_df_no_sub = aggregated_df[aggregated_df['subscription_type'] == 'free']\n",
    "\n",
    "results3 = st.ttest_ind(aggregated_df_with_sub['monthly_sales'], aggregated_df_no_sub['monthly_sales'], alternative='greater')\n",
    "\n",
    "print('P-value:', results3.pvalue)\n",
    "\n",
    "if results3.pvalue < alpha:\n",
    "    print('Вывод: отвергаем нулевую гипотезу. Месячная выручка от пользователей с подпиской по месяцам выше, чем выручка от пользователей без подписки.')\n",
    "else:\n",
    "    print('Вывод: не получилось отвергнуть нулевую гипотезу')"
   ]
  },
  {
   "cell_type": "markdown",
   "id": "51512fc2-7a8d-4da6-8e25-0d2274139542",
   "metadata": {},
   "source": [
    "### Представьте такую ситуацию: техническая команда сервиса обновила сервера, с которыми взаимодействует мобильное приложение. Она надеется, что из-за этого количество обращений в техподдержку значимо снизилось. Некоторый файл содержит для каждого пользователя данные о количестве обращений до обновления и после него. Какой тест вам понадобился бы для проверки этой гипотезы?"
   ]
  },
  {
   "cell_type": "markdown",
   "id": "1bafe71f-bbc8-4f5e-afd6-cb366babe82a",
   "metadata": {},
   "source": [
    "Для проверки гипотезы о том, что обновление серверов привело к значимому снижению количества обращений в техподдержку, нам нужно провести статистический анализ данных до и после обновления. Один из подходящих тестов в этом случае – парный t-тест (paired t-test).\n",
    "\n",
    "Это односторонняя гипотеза. В данном случае нас интересует, произошло ли снижение количества обращений в техподдержку после обновления серверов. То есть наша альтернатива направлена в одну сторону: уменьшение количества обращений.\n",
    "\n",
    "Если бы мы хотели проверить просто наличие любого изменения (то есть увеличение или уменьшение количества обращений), тогда это была бы двусторонняя гипотеза. Однако в нашем случае интерес представляет именно снижение, поэтому гипотеза односторонняя."
   ]
  },
  {
   "cell_type": "markdown",
   "id": "f3293d94-353e-4a45-805a-a7cf99762e54",
   "metadata": {},
   "source": [
    "## 7 Выводы"
   ]
  },
  {
   "cell_type": "markdown",
   "id": "783d3bf1-e24a-4fb8-b021-40d98600ebe9",
   "metadata": {},
   "source": [
    "1. Были получены три фаила с данными о пользователях, поездках и типах подписок:\n",
    "    - После загрузки данных, была изучена общая информация в каждом датафрейме\n",
    "    - Пропуски в данных остуствуют\n",
    "    - Названия столбцов редактировать не нужно\n",
    "    - У некоторых столбцов необходимо пометь тип данных\n",
    "2. Была проведена предобработка данных:\n",
    "    - Был изменён формат столбца date с object на дату в датафрейме rides(поездки)\n",
    "    - Мы проверили что все данные относятся к одному периоду(2021 год)\n",
    "    - Был добавлен столбец с указанием месяца когда пользователь пользовался сервисом в датафрейме rides\n",
    "    - Были удалены явные дубликаты(31 шт.) в датафрейме users(пользователи)\n",
    "    - Были округлены данные в столбцах distance и duration в датафрейме rides\n",
    "    - Мы проверили длительность поездок на аномальные значения. Мы выявили около 75 довольно длительных поездки. Люди иногда арендуют самокаты продолжительное время(30-40 минут)\n",
    "    - Также мы выявили 183 коротких поездки(меньше 5 минут). Возможно люди передумали арендовать самокат\n",
    "    \n",
    "    \n",
    "3. Был проведен исследовательский анализ данных, в ходе которого было выявлено:\n",
    "    - Частота встречаемости городов. Всего 8 городов представлено в исследовании. Больше всего пользователей из Пятигорска\n",
    "    - Пользователей без подписки - 835 человек; с подпиской - 699\n",
    "    - Средний возраст пользователей - 25 лет\n",
    "    - Большинство поездок составляют 3000 метров. Также есть всплеск на 600 метрах. Возможно это связано с тем что люди используют сервис для того чтобы добраться до метро(в Москве), либо до остановки(в других городах).\n",
    "    - Среднее время одной поездки - 18 минут. Есть аномально короткие поездки в одну минуту. Возможно это связано с тем что люди передумали арендовать самокат. Либо какая-то техническая неисправность. Либо баг в проложении сервиса.\n",
    "    \n",
    "4. Объединение данных:\n",
    "   - Были объединены данные о пользователях, поездках и подписках в один датафрейм. Для этого воспользуйтесь методом merge().\n",
    "   - Были созданы два датафрейма: пользователи с подпиской; пользователи без подписки\n",
    "   - Были визуализированны и проанализированны следующие данные:\n",
    "   - Длина одной поездки с подпиской и без. Первый всплеск активности у пользователей с подпиской находится на 1км. У пользователей без подписки - на 600 метрах. Средняя длина поездки практически совпадает в обоих категориях и ровняется 3км.\n",
    "   - Продолжительность одной поездки с подпиской и без. У пользователей без подписки имеются совсем короткие поездки(около 100 штук). У пользователей с подпиской есть всплеск на 22 минуте.\n",
    "    \n",
    "5. Подсчет выручки:\n",
    "     - Был создан датафрейм с агрегированными данными о поездках на основе датафрейма с объединёнными данными из шага 4: найдено суммарное расстояние, количество поездок и суммарное время для каждого пользователя за каждый месяц\n",
    "     - В этот датафрейм был добавлен столбец с помесячной выручкой, которую принёс каждый пользователь. \n",
    "    \n",
    "5. Были проверены следующие гипотезы:\n",
    "     - Пользователи с подпиской тратят столько же времени на поездку сколько пользователи без подписки. Мы отвергли эту гипотезу. Пользователи с подпиской тратят больше времени на поездки.\n",
    "     - Средняя длина одной поездки пользователей с подпиской не превышает 3,130 метров. Не получилось отвергнуть эту гипотезу. Среднее расстояние, которое проезжают пользователи с подпиской за одну поездку, меньши либо равно 3,130 метров.\n",
    "     - Месячная выручка от пользователей с подпиской равна месячной выручки от пользователей без подписки. Мы отвергли эту гипотезу. Месячная выручка от пользователей с подпиской по месяцам выше.\n",
    "    \n",
    "     - Для проверки гипотезы о том, что обновление серверов привело к значимому снижению количества обращений в техподдержку, нам нужно провести статистический анализ данных до и после обновления. Один из подходящих тестов в этом случае – парный t-тест (paired t-test). Это односторонняя гипотеза. В данном случае нас интересует, произошло ли снижение количества обращений в техподдержку после обновления серверов. То есть наша альтернатива направлена в одну сторону: уменьшение количества обращений. Если бы мы хотели проверить просто наличие любого изменения (то есть увеличение или уменьшение количества обращений), тогда это была бы двусторонняя гипотеза. Однако в нашем случае интерес представляет именно снижение, поэтому гипотеза односторонняя.\n"
   ]
  }
 ],
 "metadata": {
  "kernelspec": {
   "display_name": "Python 3 (ipykernel)",
   "language": "python",
   "name": "python3"
  },
  "language_info": {
   "codemirror_mode": {
    "name": "ipython",
    "version": 3
   },
   "file_extension": ".py",
   "mimetype": "text/x-python",
   "name": "python",
   "nbconvert_exporter": "python",
   "pygments_lexer": "ipython3",
   "version": "3.12.4"
  }
 },
 "nbformat": 4,
 "nbformat_minor": 5
}
